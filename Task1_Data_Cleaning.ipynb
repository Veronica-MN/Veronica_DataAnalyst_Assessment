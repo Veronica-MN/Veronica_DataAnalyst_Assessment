{
 "cells": [
  {
   "cell_type": "markdown",
   "id": "819b37b1-5f3b-4753-9bf4-09f413de449e",
   "metadata": {},
   "source": [
    "# Data Analyst Technical Assessment"
   ]
  },
  {
   "cell_type": "markdown",
   "id": "64270362-a248-43e9-8bf9-4ec69924a0c6",
   "metadata": {},
   "source": [
    "## Scenario\n",
    "Movido Media Verlag GmbH is a local marketing firm offering a SaaS solution that enhances businesses' online visibility across platforms like Google Maps, Apple Maps, and various business directories. Our mission is to ensure our clients' business information is accurate and easily discoverable by potential customers. Our data-driven sales process involves processing large volumes of lead data, which needs to be cleaned, normalised, and enhanced before being fed into downstream systems. We're also tasked with developing a robust system for storing, retrieving, and tracking lead information to measure future performance"
   ]
  },
  {
   "cell_type": "markdown",
   "id": "3c383cff-abb4-4656-ba48-a927f830b664",
   "metadata": {},
   "source": [
    "### Objective\n",
    "\n",
    "As a Data Analyst, my role will be the following:\n",
    "- optimising these data processes\n",
    "- improving lead quality\n",
    "- contributing to our clients' success in the digital landscape"
   ]
  },
  {
   "cell_type": "markdown",
   "id": "46b6966b-1807-4f4f-a32b-7030556c1e18",
   "metadata": {},
   "source": [
    "## Data Cleaning"
   ]
  },
  {
   "cell_type": "markdown",
   "id": "e76a064a-7b15-44f5-9368-e1ac750a5290",
   "metadata": {},
   "source": [
    "The **data_cleanup_assignment.xlsx** file contains multiple sheets/datasets. In order to ensure data consistency and data quality. I will clean the datasets individually before merging them into one Table. \n"
   ]
  },
  {
   "cell_type": "markdown",
   "id": "103084fe-4943-445a-be47-8f1f63455307",
   "metadata": {},
   "source": [
    "### Importing Libraries\n"
   ]
  },
  {
   "cell_type": "code",
   "execution_count": 1040,
   "id": "74b4c954-21a7-4564-ad4c-d887e773ace9",
   "metadata": {
    "tags": []
   },
   "outputs": [],
   "source": [
    "import pandas as pd\n",
    "import numpy as np"
   ]
  },
  {
   "cell_type": "code",
   "execution_count": 1042,
   "id": "88e2847a-57b9-4b50-a29e-fad73d01208e",
   "metadata": {
    "tags": []
   },
   "outputs": [],
   "source": [
    "import re"
   ]
  },
  {
   "cell_type": "markdown",
   "id": "baff8bd5-ef35-4e5d-b520-27447415709a",
   "metadata": {},
   "source": [
    "#### Read all datasets into separate DataFrames"
   ]
  },
  {
   "cell_type": "markdown",
   "id": "4300e517-4dd4-45a4-8cbc-0c0be91fe551",
   "metadata": {},
   "source": [
    "##### Germany Dataset"
   ]
  },
  {
   "cell_type": "code",
   "execution_count": 1700,
   "id": "fb044420-9d9f-47be-b6bb-33482987cb22",
   "metadata": {
    "tags": []
   },
   "outputs": [],
   "source": [
    "de_data = pd.read_excel('data cleanup assignment.xlsx', sheet_name='DE')"
   ]
  },
  {
   "cell_type": "code",
   "execution_count": 1702,
   "id": "30216a14-8dbd-478f-ba60-8e22dc751550",
   "metadata": {
    "tags": []
   },
   "outputs": [
    {
     "data": {
      "text/html": [
       "<div>\n",
       "<style scoped>\n",
       "    .dataframe tbody tr th:only-of-type {\n",
       "        vertical-align: middle;\n",
       "    }\n",
       "\n",
       "    .dataframe tbody tr th {\n",
       "        vertical-align: top;\n",
       "    }\n",
       "\n",
       "    .dataframe thead th {\n",
       "        text-align: right;\n",
       "    }\n",
       "</style>\n",
       "<table border=\"1\" class=\"dataframe\">\n",
       "  <thead>\n",
       "    <tr style=\"text-align: right;\">\n",
       "      <th></th>\n",
       "      <th>firma</th>\n",
       "      <th>street</th>\n",
       "      <th>plz</th>\n",
       "      <th>city</th>\n",
       "      <th>old_ctry</th>\n",
       "      <th>telefon</th>\n",
       "    </tr>\n",
       "  </thead>\n",
       "  <tbody>\n",
       "    <tr>\n",
       "      <th>0</th>\n",
       "      <td>Abschleppdienst Arnolds</td>\n",
       "      <td>Völlesbruchstrasse 19</td>\n",
       "      <td>52152</td>\n",
       "      <td>Simmerath</td>\n",
       "      <td>DE</td>\n",
       "      <td>0049177-8754883</td>\n",
       "    </tr>\n",
       "    <tr>\n",
       "      <th>1</th>\n",
       "      <td>AAS-Fink GmbH</td>\n",
       "      <td>Morsbach 39</td>\n",
       "      <td>42857</td>\n",
       "      <td>Remscheid</td>\n",
       "      <td>DE</td>\n",
       "      <td>172.2086056</td>\n",
       "    </tr>\n",
       "    <tr>\n",
       "      <th>2</th>\n",
       "      <td>Allfolia Deutschland GmbH</td>\n",
       "      <td>Morsbach 39</td>\n",
       "      <td>42857</td>\n",
       "      <td>Remscheid</td>\n",
       "      <td>DE</td>\n",
       "      <td>+491734636476</td>\n",
       "    </tr>\n",
       "    <tr>\n",
       "      <th>3</th>\n",
       "      <td>Autohaus Hentschel GmbH</td>\n",
       "      <td>Vahrenwalder Str. 141</td>\n",
       "      <td>30165</td>\n",
       "      <td>Hannover</td>\n",
       "      <td>DE</td>\n",
       "      <td>+49_x001D_17_x0011_86221169</td>\n",
       "    </tr>\n",
       "    <tr>\n",
       "      <th>4</th>\n",
       "      <td>Autohaus Schmohl GmbH</td>\n",
       "      <td>Potsdamer Str. 175</td>\n",
       "      <td>14469</td>\n",
       "      <td>Potsdam</td>\n",
       "      <td>DE</td>\n",
       "      <td>0049/160466 6050</td>\n",
       "    </tr>\n",
       "  </tbody>\n",
       "</table>\n",
       "</div>"
      ],
      "text/plain": [
       "                       firma                 street    plz       city  \\\n",
       "0    Abschleppdienst Arnolds  Völlesbruchstrasse 19  52152  Simmerath   \n",
       "1              AAS-Fink GmbH            Morsbach 39  42857  Remscheid   \n",
       "2  Allfolia Deutschland GmbH            Morsbach 39  42857  Remscheid   \n",
       "3    Autohaus Hentschel GmbH  Vahrenwalder Str. 141  30165   Hannover   \n",
       "4      Autohaus Schmohl GmbH     Potsdamer Str. 175  14469    Potsdam   \n",
       "\n",
       "  old_ctry                      telefon  \n",
       "0       DE              0049177-8754883  \n",
       "1       DE                  172.2086056  \n",
       "2       DE                +491734636476  \n",
       "3       DE  +49_x001D_17_x0011_86221169  \n",
       "4       DE             0049/160466 6050  "
      ]
     },
     "execution_count": 1702,
     "metadata": {},
     "output_type": "execute_result"
    }
   ],
   "source": [
    "de_data.head()"
   ]
  },
  {
   "cell_type": "markdown",
   "id": "ffb0f687-0bca-4461-9c8a-a408094b41d6",
   "metadata": {},
   "source": [
    "##### Austria Dataset"
   ]
  },
  {
   "cell_type": "code",
   "execution_count": 1704,
   "id": "b86c1a02-973f-49b8-adcd-313c569509bb",
   "metadata": {
    "tags": []
   },
   "outputs": [],
   "source": [
    "at_data = pd.read_excel('data cleanup assignment.xlsx', sheet_name='AT')"
   ]
  },
  {
   "cell_type": "code",
   "execution_count": 1706,
   "id": "8264e20d-b10a-4cb9-80fd-a53de84dc60c",
   "metadata": {
    "tags": []
   },
   "outputs": [
    {
     "data": {
      "text/html": [
       "<div>\n",
       "<style scoped>\n",
       "    .dataframe tbody tr th:only-of-type {\n",
       "        vertical-align: middle;\n",
       "    }\n",
       "\n",
       "    .dataframe tbody tr th {\n",
       "        vertical-align: top;\n",
       "    }\n",
       "\n",
       "    .dataframe thead th {\n",
       "        text-align: right;\n",
       "    }\n",
       "</style>\n",
       "<table border=\"1\" class=\"dataframe\">\n",
       "  <thead>\n",
       "    <tr style=\"text-align: right;\">\n",
       "      <th></th>\n",
       "      <th>firma</th>\n",
       "      <th>street</th>\n",
       "      <th>plz</th>\n",
       "      <th>city</th>\n",
       "      <th>country</th>\n",
       "      <th>telefon</th>\n",
       "    </tr>\n",
       "  </thead>\n",
       "  <tbody>\n",
       "    <tr>\n",
       "      <th>0</th>\n",
       "      <td>Abschleppdienst und Reparatur Graber Hans</td>\n",
       "      <td>Brennerstraße 5</td>\n",
       "      <td>6150</td>\n",
       "      <td>Steinach am Brenner</td>\n",
       "      <td>AT</td>\n",
       "      <td>+43 664 0020108</td>\n",
       "    </tr>\n",
       "    <tr>\n",
       "      <th>1</th>\n",
       "      <td>Anhänger Steininger &amp; Partner GmbH</td>\n",
       "      <td>Windhager Straße 22</td>\n",
       "      <td>3931</td>\n",
       "      <td>Schweiggers</td>\n",
       "      <td>AT</td>\n",
       "      <td>/664/3019220</td>\n",
       "    </tr>\n",
       "    <tr>\n",
       "      <th>2</th>\n",
       "      <td>Täubl Sonnenschutz</td>\n",
       "      <td>Otto-Scharmitzerstr. 24</td>\n",
       "      <td>3464</td>\n",
       "      <td>Goldgeben</td>\n",
       "      <td>AT</td>\n",
       "      <td>Hotline: 676-4429785 (+43)</td>\n",
       "    </tr>\n",
       "    <tr>\n",
       "      <th>3</th>\n",
       "      <td>Schönhacker Auto- und Fahrradzubehör</td>\n",
       "      <td>Ernest-Thum-Straße 1</td>\n",
       "      <td>3542</td>\n",
       "      <td>Gföhl</td>\n",
       "      <td>AT</td>\n",
       "      <td>+436998521286</td>\n",
       "    </tr>\n",
       "    <tr>\n",
       "      <th>4</th>\n",
       "      <td>Wuppinger Karosseriebau GmbH</td>\n",
       "      <td>Breitwies 6</td>\n",
       "      <td>5303</td>\n",
       "      <td>Thalgau</td>\n",
       "      <td>AT</td>\n",
       "      <td>+436763066695</td>\n",
       "    </tr>\n",
       "  </tbody>\n",
       "</table>\n",
       "</div>"
      ],
      "text/plain": [
       "                                       firma                   street   plz  \\\n",
       "0  Abschleppdienst und Reparatur Graber Hans          Brennerstraße 5  6150   \n",
       "1         Anhänger Steininger & Partner GmbH      Windhager Straße 22  3931   \n",
       "2                         Täubl Sonnenschutz  Otto-Scharmitzerstr. 24  3464   \n",
       "3       Schönhacker Auto- und Fahrradzubehör     Ernest-Thum-Straße 1  3542   \n",
       "4               Wuppinger Karosseriebau GmbH              Breitwies 6  5303   \n",
       "\n",
       "                  city country                     telefon  \n",
       "0  Steinach am Brenner      AT             +43 664 0020108  \n",
       "1          Schweiggers      AT                /664/3019220  \n",
       "2            Goldgeben      AT  Hotline: 676-4429785 (+43)  \n",
       "3                Gföhl      AT               +436998521286  \n",
       "4              Thalgau      AT               +436763066695  "
      ]
     },
     "execution_count": 1706,
     "metadata": {},
     "output_type": "execute_result"
    }
   ],
   "source": [
    "at_data.head()"
   ]
  },
  {
   "cell_type": "markdown",
   "id": "5ea492ea-8852-4a38-a12c-3b9f48a7c650",
   "metadata": {},
   "source": [
    "##### Switzerland Dataset"
   ]
  },
  {
   "cell_type": "code",
   "execution_count": 1708,
   "id": "8479fbc8-0bc7-497f-b21f-94806ba5657f",
   "metadata": {
    "tags": []
   },
   "outputs": [],
   "source": [
    "ch_data = pd.read_excel('data cleanup assignment.xlsx', sheet_name='CH')"
   ]
  },
  {
   "cell_type": "code",
   "execution_count": 1710,
   "id": "1f0d2971-bc84-4461-80c5-971bf76c0aab",
   "metadata": {
    "tags": []
   },
   "outputs": [
    {
     "data": {
      "text/html": [
       "<div>\n",
       "<style scoped>\n",
       "    .dataframe tbody tr th:only-of-type {\n",
       "        vertical-align: middle;\n",
       "    }\n",
       "\n",
       "    .dataframe tbody tr th {\n",
       "        vertical-align: top;\n",
       "    }\n",
       "\n",
       "    .dataframe thead th {\n",
       "        text-align: right;\n",
       "    }\n",
       "</style>\n",
       "<table border=\"1\" class=\"dataframe\">\n",
       "  <thead>\n",
       "    <tr style=\"text-align: right;\">\n",
       "      <th></th>\n",
       "      <th>firma</th>\n",
       "      <th>street</th>\n",
       "      <th>plz</th>\n",
       "      <th>city</th>\n",
       "      <th>country</th>\n",
       "      <th>telefon</th>\n",
       "    </tr>\n",
       "  </thead>\n",
       "  <tbody>\n",
       "    <tr>\n",
       "      <th>0</th>\n",
       "      <td>Fankhauser AG Huttwil</td>\n",
       "      <td>Walke 1</td>\n",
       "      <td>4938</td>\n",
       "      <td>Rohrbach</td>\n",
       "      <td>CH</td>\n",
       "      <td>300 CALL 3378 / 78</td>\n",
       "    </tr>\n",
       "    <tr>\n",
       "      <th>1</th>\n",
       "      <td>TS-Velos GmbH</td>\n",
       "      <td>Jurastrasse 2</td>\n",
       "      <td>4554</td>\n",
       "      <td>Etziken</td>\n",
       "      <td>CH</td>\n",
       "      <td>+41abc5837-1_x001A_54</td>\n",
       "    </tr>\n",
       "    <tr>\n",
       "      <th>2</th>\n",
       "      <td>Nocera &amp; Strub AG</td>\n",
       "      <td>Hirzenstrasse 1</td>\n",
       "      <td>9244</td>\n",
       "      <td>Niederuzwil</td>\n",
       "      <td>CH</td>\n",
       "      <td>Telefon: 00 037 CALL 9506 / 79</td>\n",
       "    </tr>\n",
       "    <tr>\n",
       "      <th>3</th>\n",
       "      <td>Druckerei Lutz AG</td>\n",
       "      <td>Hauptstrasse 18</td>\n",
       "      <td>9042</td>\n",
       "      <td>Speicher</td>\n",
       "      <td>CH</td>\n",
       "      <td>0_x0008_0_x001F_4178abc8579-115</td>\n",
       "    </tr>\n",
       "    <tr>\n",
       "      <th>4</th>\n",
       "      <td>Hch. Borer Kartenverlag AG</td>\n",
       "      <td>Ilbachstrasse 39</td>\n",
       "      <td>4228</td>\n",
       "      <td>Erschwil</td>\n",
       "      <td>CH</td>\n",
       "      <td>0041760352498</td>\n",
       "    </tr>\n",
       "  </tbody>\n",
       "</table>\n",
       "</div>"
      ],
      "text/plain": [
       "                        firma            street   plz         city country  \\\n",
       "0       Fankhauser AG Huttwil           Walke 1  4938     Rohrbach      CH   \n",
       "1               TS-Velos GmbH     Jurastrasse 2  4554      Etziken      CH   \n",
       "2           Nocera & Strub AG   Hirzenstrasse 1  9244  Niederuzwil      CH   \n",
       "3           Druckerei Lutz AG   Hauptstrasse 18  9042     Speicher      CH   \n",
       "4  Hch. Borer Kartenverlag AG  Ilbachstrasse 39  4228     Erschwil      CH   \n",
       "\n",
       "                           telefon  \n",
       "0               300 CALL 3378 / 78  \n",
       "1            +41abc5837-1_x001A_54  \n",
       "2   Telefon: 00 037 CALL 9506 / 79  \n",
       "3  0_x0008_0_x001F_4178abc8579-115  \n",
       "4                    0041760352498  "
      ]
     },
     "execution_count": 1710,
     "metadata": {},
     "output_type": "execute_result"
    }
   ],
   "source": [
    "ch_data.head()"
   ]
  },
  {
   "cell_type": "markdown",
   "id": "7e9a5d8d-ec1e-4bfc-b386-a02200cbf971",
   "metadata": {},
   "source": [
    "##### Mixed Dataset"
   ]
  },
  {
   "cell_type": "code",
   "execution_count": 1712,
   "id": "edd6d43a-5036-4e8e-86c3-0fe4f6a4ba6e",
   "metadata": {
    "tags": []
   },
   "outputs": [],
   "source": [
    "mixed_data = pd.read_excel('data cleanup assignment.xlsx', sheet_name='mixed')"
   ]
  },
  {
   "cell_type": "code",
   "execution_count": 1716,
   "id": "5a63106f-cfb3-4399-87f4-045620c8bb5c",
   "metadata": {
    "tags": []
   },
   "outputs": [
    {
     "data": {
      "text/html": [
       "<div>\n",
       "<style scoped>\n",
       "    .dataframe tbody tr th:only-of-type {\n",
       "        vertical-align: middle;\n",
       "    }\n",
       "\n",
       "    .dataframe tbody tr th {\n",
       "        vertical-align: top;\n",
       "    }\n",
       "\n",
       "    .dataframe thead th {\n",
       "        text-align: right;\n",
       "    }\n",
       "</style>\n",
       "<table border=\"1\" class=\"dataframe\">\n",
       "  <thead>\n",
       "    <tr style=\"text-align: right;\">\n",
       "      <th></th>\n",
       "      <th>firma</th>\n",
       "      <th>street</th>\n",
       "      <th>plz</th>\n",
       "      <th>city</th>\n",
       "      <th>landesvorwahl</th>\n",
       "      <th>telefonnr</th>\n",
       "      <th>anrede</th>\n",
       "      <th>vorname</th>\n",
       "      <th>nachname</th>\n",
       "    </tr>\n",
       "  </thead>\n",
       "  <tbody>\n",
       "    <tr>\n",
       "      <th>0</th>\n",
       "      <td>Hammurabi Restaurant</td>\n",
       "      <td>Untere Königsstraße</td>\n",
       "      <td>34117</td>\n",
       "      <td>Kassel</td>\n",
       "      <td>49.0</td>\n",
       "      <td>5.612873e+10</td>\n",
       "      <td>NaN</td>\n",
       "      <td>NaN</td>\n",
       "      <td>NaN</td>\n",
       "    </tr>\n",
       "    <tr>\n",
       "      <th>1</th>\n",
       "      <td>M&amp;M Fahrzeugpflege</td>\n",
       "      <td>Friedrich-Ebert-Straße 9</td>\n",
       "      <td>32339</td>\n",
       "      <td>Espelkamp</td>\n",
       "      <td>49.0</td>\n",
       "      <td>1.609558e+10</td>\n",
       "      <td>NaN</td>\n",
       "      <td>NaN</td>\n",
       "      <td>NaN</td>\n",
       "    </tr>\n",
       "    <tr>\n",
       "      <th>2</th>\n",
       "      <td>Chic Änderungsschneiderei</td>\n",
       "      <td>Venloer Straße 503</td>\n",
       "      <td>50825</td>\n",
       "      <td>Köln</td>\n",
       "      <td>49.0</td>\n",
       "      <td>2.211693e+10</td>\n",
       "      <td>NaN</td>\n",
       "      <td>NaN</td>\n",
       "      <td>NaN</td>\n",
       "    </tr>\n",
       "    <tr>\n",
       "      <th>3</th>\n",
       "      <td>Miss Döner</td>\n",
       "      <td>Carl-von-Ossietzky-Platz 1</td>\n",
       "      <td>20099</td>\n",
       "      <td>Hamburg</td>\n",
       "      <td>49.0</td>\n",
       "      <td>1.746529e+09</td>\n",
       "      <td>NaN</td>\n",
       "      <td>NaN</td>\n",
       "      <td>NaN</td>\n",
       "    </tr>\n",
       "    <tr>\n",
       "      <th>4</th>\n",
       "      <td>Kumpir Haus Ehrenfeld</td>\n",
       "      <td>Venloer Straße 378</td>\n",
       "      <td>50825</td>\n",
       "      <td>Köln</td>\n",
       "      <td>49.0</td>\n",
       "      <td>1.551014e+10</td>\n",
       "      <td>NaN</td>\n",
       "      <td>NaN</td>\n",
       "      <td>NaN</td>\n",
       "    </tr>\n",
       "  </tbody>\n",
       "</table>\n",
       "</div>"
      ],
      "text/plain": [
       "                       firma                      street    plz       city  \\\n",
       "0       Hammurabi Restaurant       Untere Königsstraße    34117     Kassel   \n",
       "1         M&M Fahrzeugpflege    Friedrich-Ebert-Straße 9  32339  Espelkamp   \n",
       "2  Chic Änderungsschneiderei          Venloer Straße 503  50825       Köln   \n",
       "3                 Miss Döner  Carl-von-Ossietzky-Platz 1  20099    Hamburg   \n",
       "4      Kumpir Haus Ehrenfeld          Venloer Straße 378  50825       Köln   \n",
       "\n",
       "   landesvorwahl     telefonnr anrede vorname nachname  \n",
       "0           49.0  5.612873e+10    NaN     NaN      NaN  \n",
       "1           49.0  1.609558e+10    NaN     NaN      NaN  \n",
       "2           49.0  2.211693e+10    NaN     NaN      NaN  \n",
       "3           49.0  1.746529e+09    NaN     NaN      NaN  \n",
       "4           49.0  1.551014e+10    NaN     NaN      NaN  "
      ]
     },
     "execution_count": 1716,
     "metadata": {},
     "output_type": "execute_result"
    }
   ],
   "source": [
    "mixed_data.head()"
   ]
  },
  {
   "cell_type": "code",
   "execution_count": null,
   "id": "9233e160-e4f6-47c0-9f22-647a296226a3",
   "metadata": {},
   "outputs": [],
   "source": []
  },
  {
   "cell_type": "markdown",
   "id": "a3cf7c62-d56f-4c58-aff4-75a5204d8432",
   "metadata": {},
   "source": [
    "#### Preliminary Data Exploration and Observation\n",
    "\n",
    "Upon reviewing the datasets, I observed several irregularities, such as inconsistent phone number formats, encoding errors, missing values, and different data structures and name columns across the different sheets/datasets. \n",
    "\n",
    "The next steps will focus on cleaning these inconsistencies to ensure the datasets are standardized before being merged."
   ]
  },
  {
   "cell_type": "markdown",
   "id": "61c1f1b9-53b9-44a6-b7e4-5d4caae0a5bc",
   "metadata": {},
   "source": []
  },
  {
   "cell_type": "markdown",
   "id": "8bf8c3e6-0013-4c52-a64c-785e93eaf735",
   "metadata": {},
   "source": [
    "#### Understanding Data Structure and Data Types\n",
    "\n",
    "In this phase, I examine the data types and structure of each dataset. This makes sure that each column is in the correct format (e.g. strings, integers, floats) which is crucial for efficient data manipulation.\n"
   ]
  },
  {
   "cell_type": "code",
   "execution_count": 83,
   "id": "8ef23cf9-83a5-42b1-b6e2-79f92b744935",
   "metadata": {
    "tags": []
   },
   "outputs": [],
   "source": [
    "# plz should be numeric instead of a string as these as Postal Codes\n",
    "# telefon remains as a string as it contains special characters and is changed to object in 'mixed_data dataset\n",
    "# landesvorwahl is changed to 'object' instead of float as to NOT appear as 49.0"
   ]
  },
  {
   "cell_type": "code",
   "execution_count": 1718,
   "id": "b95ca021-0c01-42c9-a5eb-eb99958c9cbd",
   "metadata": {
    "tags": []
   },
   "outputs": [
    {
     "name": "stdout",
     "output_type": "stream",
     "text": [
      "<class 'pandas.core.frame.DataFrame'>\n",
      "RangeIndex: 865 entries, 0 to 864\n",
      "Data columns (total 6 columns):\n",
      " #   Column    Non-Null Count  Dtype \n",
      "---  ------    --------------  ----- \n",
      " 0   firma     865 non-null    object\n",
      " 1   street    865 non-null    object\n",
      " 2   plz       865 non-null    object\n",
      " 3   city      865 non-null    object\n",
      " 4   old_ctry  865 non-null    object\n",
      " 5   telefon   865 non-null    object\n",
      "dtypes: object(6)\n",
      "memory usage: 40.7+ KB\n"
     ]
    }
   ],
   "source": [
    "de_data.info()"
   ]
  },
  {
   "cell_type": "code",
   "execution_count": 1720,
   "id": "290f8e0a-ccf8-43c5-9b83-5efaab3af2cc",
   "metadata": {
    "tags": []
   },
   "outputs": [
    {
     "name": "stdout",
     "output_type": "stream",
     "text": [
      "<class 'pandas.core.frame.DataFrame'>\n",
      "RangeIndex: 200 entries, 0 to 199\n",
      "Data columns (total 6 columns):\n",
      " #   Column   Non-Null Count  Dtype \n",
      "---  ------   --------------  ----- \n",
      " 0   firma    200 non-null    object\n",
      " 1   street   200 non-null    object\n",
      " 2   plz      200 non-null    object\n",
      " 3   city     200 non-null    object\n",
      " 4   country  200 non-null    object\n",
      " 5   telefon  189 non-null    object\n",
      "dtypes: object(6)\n",
      "memory usage: 9.5+ KB\n"
     ]
    }
   ],
   "source": [
    "at_data.info()"
   ]
  },
  {
   "cell_type": "code",
   "execution_count": 1722,
   "id": "8ccb1ed4-0072-412b-95da-84bb34203d22",
   "metadata": {
    "tags": []
   },
   "outputs": [
    {
     "name": "stdout",
     "output_type": "stream",
     "text": [
      "<class 'pandas.core.frame.DataFrame'>\n",
      "RangeIndex: 92 entries, 0 to 91\n",
      "Data columns (total 6 columns):\n",
      " #   Column   Non-Null Count  Dtype \n",
      "---  ------   --------------  ----- \n",
      " 0   firma    92 non-null     object\n",
      " 1   street   92 non-null     object\n",
      " 2   plz      92 non-null     int64 \n",
      " 3   city     92 non-null     object\n",
      " 4   country  92 non-null     object\n",
      " 5   telefon  85 non-null     object\n",
      "dtypes: int64(1), object(5)\n",
      "memory usage: 4.4+ KB\n"
     ]
    }
   ],
   "source": [
    "ch_data.info()"
   ]
  },
  {
   "cell_type": "code",
   "execution_count": 1724,
   "id": "c5aaa139-c9ac-4da0-be1a-3e12a933a4a3",
   "metadata": {
    "tags": []
   },
   "outputs": [
    {
     "name": "stdout",
     "output_type": "stream",
     "text": [
      "<class 'pandas.core.frame.DataFrame'>\n",
      "RangeIndex: 3618 entries, 0 to 3617\n",
      "Data columns (total 9 columns):\n",
      " #   Column         Non-Null Count  Dtype  \n",
      "---  ------         --------------  -----  \n",
      " 0   firma          3072 non-null   object \n",
      " 1   street         3618 non-null   object \n",
      " 2   plz            3062 non-null   object \n",
      " 3   city           3026 non-null   object \n",
      " 4   landesvorwahl  3617 non-null   float64\n",
      " 5   telefonnr      3581 non-null   float64\n",
      " 6   anrede         354 non-null    object \n",
      " 7   vorname        468 non-null    object \n",
      " 8   nachname       395 non-null    object \n",
      "dtypes: float64(2), object(7)\n",
      "memory usage: 254.5+ KB\n"
     ]
    }
   ],
   "source": [
    "mixed_data.info()"
   ]
  },
  {
   "cell_type": "code",
   "execution_count": null,
   "id": "5f10921b-87cc-444f-905a-862a51052d70",
   "metadata": {},
   "outputs": [],
   "source": []
  },
  {
   "cell_type": "markdown",
   "id": "006ddd6f-eee2-4b4c-987b-63743430d17d",
   "metadata": {},
   "source": [
    "#### Standardising the Data Across Datasets"
   ]
  },
  {
   "cell_type": "code",
   "execution_count": 1726,
   "id": "dd71f380-eede-4f5b-b1e2-181ecc2d54d1",
   "metadata": {
    "tags": []
   },
   "outputs": [],
   "source": [
    "# Rename old_ctry to country\n",
    "de_data = de_data.rename(columns={'old_ctry': 'country'})"
   ]
  },
  {
   "cell_type": "code",
   "execution_count": 1728,
   "id": "f98effb3-c865-4ec7-bdab-76179cdbf653",
   "metadata": {
    "tags": []
   },
   "outputs": [
    {
     "name": "stdout",
     "output_type": "stream",
     "text": [
      "<class 'pandas.core.frame.DataFrame'>\n",
      "RangeIndex: 865 entries, 0 to 864\n",
      "Data columns (total 6 columns):\n",
      " #   Column   Non-Null Count  Dtype \n",
      "---  ------   --------------  ----- \n",
      " 0   firma    865 non-null    object\n",
      " 1   street   865 non-null    object\n",
      " 2   plz      865 non-null    object\n",
      " 3   city     865 non-null    object\n",
      " 4   country  865 non-null    object\n",
      " 5   telefon  865 non-null    object\n",
      "dtypes: object(6)\n",
      "memory usage: 40.7+ KB\n"
     ]
    }
   ],
   "source": [
    "de_data.info()"
   ]
  },
  {
   "cell_type": "markdown",
   "id": "f180e611-ffe5-4241-9ed5-c91f0dbb8496",
   "metadata": {},
   "source": []
  },
  {
   "cell_type": "code",
   "execution_count": 1730,
   "id": "80c24efe-535c-4ddd-85d8-7b829f8b3d71",
   "metadata": {
    "tags": []
   },
   "outputs": [],
   "source": [
    "# rename telefonnr to telefon similar to other datasets\n",
    "mixed_data = mixed_data.rename(columns= {'telefonnr': 'telefon'})"
   ]
  },
  {
   "cell_type": "code",
   "execution_count": 1732,
   "id": "60646aa0-cd69-4f4b-80d6-8a94605d51fd",
   "metadata": {
    "tags": []
   },
   "outputs": [
    {
     "name": "stdout",
     "output_type": "stream",
     "text": [
      "<class 'pandas.core.frame.DataFrame'>\n",
      "RangeIndex: 3618 entries, 0 to 3617\n",
      "Data columns (total 9 columns):\n",
      " #   Column         Non-Null Count  Dtype  \n",
      "---  ------         --------------  -----  \n",
      " 0   firma          3072 non-null   object \n",
      " 1   street         3618 non-null   object \n",
      " 2   plz            3062 non-null   object \n",
      " 3   city           3026 non-null   object \n",
      " 4   landesvorwahl  3617 non-null   float64\n",
      " 5   telefon        3581 non-null   float64\n",
      " 6   anrede         354 non-null    object \n",
      " 7   vorname        468 non-null    object \n",
      " 8   nachname       395 non-null    object \n",
      "dtypes: float64(2), object(7)\n",
      "memory usage: 254.5+ KB\n"
     ]
    }
   ],
   "source": [
    "\n",
    "mixed_data.info()"
   ]
  },
  {
   "cell_type": "code",
   "execution_count": null,
   "id": "4a6411f7-789c-491a-bff0-bbfa555f3f49",
   "metadata": {},
   "outputs": [],
   "source": []
  },
  {
   "cell_type": "code",
   "execution_count": 1734,
   "id": "2915a0a5-d338-43e8-b7b2-2007f31d6d28",
   "metadata": {
    "tags": []
   },
   "outputs": [],
   "source": [
    "# Convert 'telefon' to string to properly handle phone numbers\n",
    "mixed_data['telefon'] = mixed_data['telefon'].astype(str)\n"
   ]
  },
  {
   "cell_type": "code",
   "execution_count": 1736,
   "id": "6a432bcc-d6e8-4d90-b248-9e22cb84aabd",
   "metadata": {
    "tags": []
   },
   "outputs": [
    {
     "name": "stdout",
     "output_type": "stream",
     "text": [
      "<class 'pandas.core.frame.DataFrame'>\n",
      "RangeIndex: 3618 entries, 0 to 3617\n",
      "Data columns (total 9 columns):\n",
      " #   Column         Non-Null Count  Dtype  \n",
      "---  ------         --------------  -----  \n",
      " 0   firma          3072 non-null   object \n",
      " 1   street         3618 non-null   object \n",
      " 2   plz            3062 non-null   object \n",
      " 3   city           3026 non-null   object \n",
      " 4   landesvorwahl  3617 non-null   float64\n",
      " 5   telefon        3618 non-null   object \n",
      " 6   anrede         354 non-null    object \n",
      " 7   vorname        468 non-null    object \n",
      " 8   nachname       395 non-null    object \n",
      "dtypes: float64(1), object(8)\n",
      "memory usage: 254.5+ KB\n"
     ]
    }
   ],
   "source": [
    "mixed_data.info()"
   ]
  },
  {
   "cell_type": "code",
   "execution_count": 994,
   "id": "a5c7e925-18b3-44ca-a674-41c7cadf4966",
   "metadata": {
    "tags": []
   },
   "outputs": [],
   "source": []
  },
  {
   "cell_type": "code",
   "execution_count": 1738,
   "id": "1aa3e1fa-6d58-4bf8-87c8-9d7f9f6b40c6",
   "metadata": {
    "tags": []
   },
   "outputs": [],
   "source": [
    "# Convert 'landesvorwahl' to integer, handling missing values appropriately\n",
    "mixed_data['landesvorwahl'] = mixed_data['landesvorwahl'].fillna(0).astype(int)"
   ]
  },
  {
   "cell_type": "code",
   "execution_count": 1740,
   "id": "4defc593-5f12-4090-a422-b83ca6487e63",
   "metadata": {
    "tags": []
   },
   "outputs": [
    {
     "name": "stdout",
     "output_type": "stream",
     "text": [
      "<class 'pandas.core.frame.DataFrame'>\n",
      "RangeIndex: 3618 entries, 0 to 3617\n",
      "Data columns (total 9 columns):\n",
      " #   Column         Non-Null Count  Dtype \n",
      "---  ------         --------------  ----- \n",
      " 0   firma          3072 non-null   object\n",
      " 1   street         3618 non-null   object\n",
      " 2   plz            3062 non-null   object\n",
      " 3   city           3026 non-null   object\n",
      " 4   landesvorwahl  3618 non-null   int64 \n",
      " 5   telefon        3618 non-null   object\n",
      " 6   anrede         354 non-null    object\n",
      " 7   vorname        468 non-null    object\n",
      " 8   nachname       395 non-null    object\n",
      "dtypes: int64(1), object(8)\n",
      "memory usage: 254.5+ KB\n"
     ]
    }
   ],
   "source": [
    "mixed_data.info()"
   ]
  },
  {
   "cell_type": "code",
   "execution_count": null,
   "id": "bb207ed2-b338-4e33-aa2f-432a92c43e20",
   "metadata": {},
   "outputs": [],
   "source": []
  },
  {
   "cell_type": "code",
   "execution_count": null,
   "id": "510d768d-9578-49e7-942b-c8f4d6554a04",
   "metadata": {},
   "outputs": [],
   "source": []
  },
  {
   "cell_type": "markdown",
   "id": "9a7a8ad1-40d1-4282-9b1e-a25d2c5a0ba8",
   "metadata": {},
   "source": [
    "#### Handling Missing Data\n",
    "\n",
    "In this step, I will identify the columns with missing data in the datasets. This is important to understand which columns have incomplete records, so I can decide whether to fill in the missing values or remove the affected rows based on the extent of missing data"
   ]
  },
  {
   "cell_type": "code",
   "execution_count": 1742,
   "id": "14c917b6-4c91-4f3f-ae2c-efb499b3360f",
   "metadata": {
    "tags": []
   },
   "outputs": [
    {
     "data": {
      "text/plain": [
       "firma      False\n",
       "street     False\n",
       "plz        False\n",
       "city       False\n",
       "country    False\n",
       "telefon    False\n",
       "dtype: bool"
      ]
     },
     "execution_count": 1742,
     "metadata": {},
     "output_type": "execute_result"
    }
   ],
   "source": [
    "# finds the columns that have NaN values\n",
    "de_data.isna().any()"
   ]
  },
  {
   "cell_type": "code",
   "execution_count": 1744,
   "id": "362401d0-de1e-4aec-b5ca-980bb6b4be42",
   "metadata": {
    "tags": []
   },
   "outputs": [
    {
     "data": {
      "text/plain": [
       "firma      False\n",
       "street     False\n",
       "plz        False\n",
       "city       False\n",
       "country    False\n",
       "telefon     True\n",
       "dtype: bool"
      ]
     },
     "execution_count": 1744,
     "metadata": {},
     "output_type": "execute_result"
    }
   ],
   "source": [
    "at_data.isna().any()"
   ]
  },
  {
   "cell_type": "code",
   "execution_count": 1746,
   "id": "07b10f85-735e-49c4-8818-8966dda472e3",
   "metadata": {
    "tags": []
   },
   "outputs": [
    {
     "data": {
      "text/plain": [
       "firma      False\n",
       "street     False\n",
       "plz        False\n",
       "city       False\n",
       "country    False\n",
       "telefon     True\n",
       "dtype: bool"
      ]
     },
     "execution_count": 1746,
     "metadata": {},
     "output_type": "execute_result"
    }
   ],
   "source": [
    "ch_data.isna().any()"
   ]
  },
  {
   "cell_type": "code",
   "execution_count": 1143,
   "id": "83b5838d-3a16-45c6-93ac-1743431252d4",
   "metadata": {
    "tags": []
   },
   "outputs": [
    {
     "data": {
      "text/plain": [
       "firma             True\n",
       "street           False\n",
       "plz               True\n",
       "city              True\n",
       "landesvorwahl     True\n",
       "telefon          False\n",
       "anrede            True\n",
       "vorname           True\n",
       "nachname          True\n",
       "dtype: bool"
      ]
     },
     "execution_count": 1143,
     "metadata": {},
     "output_type": "execute_result"
    }
   ],
   "source": [
    "#mixed_data.isna().any()"
   ]
  },
  {
   "cell_type": "markdown",
   "id": "51a7bb58-9c12-437e-9b69-f1a93a0f8b82",
   "metadata": {},
   "source": []
  },
  {
   "cell_type": "markdown",
   "id": "c4dfec98-4502-4186-8c44-b5a48e994398",
   "metadata": {},
   "source": [
    "Movido Media Verlag GmbH, every lead is crucial for potential business opportunities. I will not delete or 'drop' the rows with missing data particularly **phone numbers**, as these will later be enriched using automated data retrieval methods in the **Data Enrichment** phase.\n",
    "\n",
    "In the meantime, **NaN** will be placed as a placeholder to flag missing fields for future enhancement, ensuring no valuable leads are lost"
   ]
  },
  {
   "cell_type": "code",
   "execution_count": 1748,
   "id": "8ba8bd89-3275-4ebd-a9d6-78dfc2fd4548",
   "metadata": {
    "tags": []
   },
   "outputs": [],
   "source": [
    "at_data.fillna(np.nan, inplace=True)"
   ]
  },
  {
   "cell_type": "code",
   "execution_count": 1750,
   "id": "8ffc6d59-60c5-4f55-8848-bbbcc33298cf",
   "metadata": {
    "tags": []
   },
   "outputs": [
    {
     "data": {
      "text/plain": [
       "firma       0\n",
       "street      0\n",
       "plz         0\n",
       "city        0\n",
       "country     0\n",
       "telefon    11\n",
       "dtype: int64"
      ]
     },
     "execution_count": 1750,
     "metadata": {},
     "output_type": "execute_result"
    }
   ],
   "source": [
    "# displays the count/number of NaN values \n",
    "at_data.isnull().sum()"
   ]
  },
  {
   "cell_type": "code",
   "execution_count": 1752,
   "id": "13537549-1589-4403-920b-14a4205c7df7",
   "metadata": {
    "tags": []
   },
   "outputs": [
    {
     "data": {
      "text/html": [
       "<div>\n",
       "<style scoped>\n",
       "    .dataframe tbody tr th:only-of-type {\n",
       "        vertical-align: middle;\n",
       "    }\n",
       "\n",
       "    .dataframe tbody tr th {\n",
       "        vertical-align: top;\n",
       "    }\n",
       "\n",
       "    .dataframe thead th {\n",
       "        text-align: right;\n",
       "    }\n",
       "</style>\n",
       "<table border=\"1\" class=\"dataframe\">\n",
       "  <thead>\n",
       "    <tr style=\"text-align: right;\">\n",
       "      <th></th>\n",
       "      <th>firma</th>\n",
       "      <th>street</th>\n",
       "      <th>plz</th>\n",
       "      <th>city</th>\n",
       "      <th>country</th>\n",
       "      <th>telefon</th>\n",
       "    </tr>\n",
       "  </thead>\n",
       "  <tbody>\n",
       "    <tr>\n",
       "      <th>72</th>\n",
       "      <td>Aktiv &amp; Vital Forum Isabella Wulz e. U.</td>\n",
       "      <td>Gewerbestraße 8</td>\n",
       "      <td>9330</td>\n",
       "      <td>Althofen</td>\n",
       "      <td>AT</td>\n",
       "      <td>NaN</td>\n",
       "    </tr>\n",
       "    <tr>\n",
       "      <th>73</th>\n",
       "      <td>Mütterstudio Tulln</td>\n",
       "      <td>Karl Metz-Gasse 22</td>\n",
       "      <td>3430</td>\n",
       "      <td>Tulln an der Donau</td>\n",
       "      <td>AT</td>\n",
       "      <td>NaN</td>\n",
       "    </tr>\n",
       "    <tr>\n",
       "      <th>80</th>\n",
       "      <td>Orthopädie Schuhtechnik Nindl GmbH</td>\n",
       "      <td>Kirchenstraße 36</td>\n",
       "      <td>5733</td>\n",
       "      <td>Bramberg am Wildkogel</td>\n",
       "      <td>AT</td>\n",
       "      <td>NaN</td>\n",
       "    </tr>\n",
       "    <tr>\n",
       "      <th>81</th>\n",
       "      <td>A.Novak GmbH</td>\n",
       "      <td>Wimmergasse 7</td>\n",
       "      <td>1050</td>\n",
       "      <td>Wien</td>\n",
       "      <td>AT</td>\n",
       "      <td>NaN</td>\n",
       "    </tr>\n",
       "    <tr>\n",
       "      <th>183</th>\n",
       "      <td>Buschenschank Luttenberger</td>\n",
       "      <td>Seibersdorf 20</td>\n",
       "      <td>8423</td>\n",
       "      <td>St. Veit in der Südsteiermark</td>\n",
       "      <td>AT</td>\n",
       "      <td>NaN</td>\n",
       "    </tr>\n",
       "  </tbody>\n",
       "</table>\n",
       "</div>"
      ],
      "text/plain": [
       "                                       firma              street   plz  \\\n",
       "72   Aktiv & Vital Forum Isabella Wulz e. U.     Gewerbestraße 8  9330   \n",
       "73                        Mütterstudio Tulln  Karl Metz-Gasse 22  3430   \n",
       "80        Orthopädie Schuhtechnik Nindl GmbH    Kirchenstraße 36  5733   \n",
       "81                              A.Novak GmbH       Wimmergasse 7  1050   \n",
       "183               Buschenschank Luttenberger      Seibersdorf 20  8423   \n",
       "\n",
       "                              city country telefon  \n",
       "72                        Althofen      AT     NaN  \n",
       "73              Tulln an der Donau      AT     NaN  \n",
       "80           Bramberg am Wildkogel      AT     NaN  \n",
       "81                            Wien      AT     NaN  \n",
       "183  St. Veit in der Südsteiermark      AT     NaN  "
      ]
     },
     "execution_count": 1752,
     "metadata": {},
     "output_type": "execute_result"
    }
   ],
   "source": [
    "# Check if NaN has been populated into the missing fields\n",
    "at_data[at_data.isna().any(axis=1)].head()"
   ]
  },
  {
   "cell_type": "code",
   "execution_count": null,
   "id": "c761fb3a-8d55-4a84-ac27-63a03592f031",
   "metadata": {},
   "outputs": [],
   "source": []
  },
  {
   "cell_type": "code",
   "execution_count": 1754,
   "id": "a51f3020-f444-4cf9-b203-c4132e944605",
   "metadata": {
    "tags": []
   },
   "outputs": [],
   "source": [
    "ch_data.fillna(np.nan, inplace=True)"
   ]
  },
  {
   "cell_type": "code",
   "execution_count": 1756,
   "id": "4529262e-3b41-49b2-afe0-0adec93b3814",
   "metadata": {
    "tags": []
   },
   "outputs": [
    {
     "data": {
      "text/plain": [
       "firma      0\n",
       "street     0\n",
       "plz        0\n",
       "city       0\n",
       "country    0\n",
       "telefon    7\n",
       "dtype: int64"
      ]
     },
     "execution_count": 1756,
     "metadata": {},
     "output_type": "execute_result"
    }
   ],
   "source": [
    "ch_data.isnull().sum()"
   ]
  },
  {
   "cell_type": "code",
   "execution_count": 1758,
   "id": "e9e21d1a-0cd6-4098-addb-221386bfca2e",
   "metadata": {
    "tags": []
   },
   "outputs": [
    {
     "data": {
      "text/html": [
       "<div>\n",
       "<style scoped>\n",
       "    .dataframe tbody tr th:only-of-type {\n",
       "        vertical-align: middle;\n",
       "    }\n",
       "\n",
       "    .dataframe tbody tr th {\n",
       "        vertical-align: top;\n",
       "    }\n",
       "\n",
       "    .dataframe thead th {\n",
       "        text-align: right;\n",
       "    }\n",
       "</style>\n",
       "<table border=\"1\" class=\"dataframe\">\n",
       "  <thead>\n",
       "    <tr style=\"text-align: right;\">\n",
       "      <th></th>\n",
       "      <th>firma</th>\n",
       "      <th>street</th>\n",
       "      <th>plz</th>\n",
       "      <th>city</th>\n",
       "      <th>country</th>\n",
       "      <th>telefon</th>\n",
       "    </tr>\n",
       "  </thead>\n",
       "  <tbody>\n",
       "    <tr>\n",
       "      <th>10</th>\n",
       "      <td>Simon's Steakhouse Grill &amp; Restaurant &amp; Bar</td>\n",
       "      <td>Niederdorfstrasse 13</td>\n",
       "      <td>8001</td>\n",
       "      <td>Zürich</td>\n",
       "      <td>CH</td>\n",
       "      <td>NaN</td>\n",
       "    </tr>\n",
       "    <tr>\n",
       "      <th>86</th>\n",
       "      <td>Café Henrici</td>\n",
       "      <td>Niederdorfstrasse 1</td>\n",
       "      <td>8001</td>\n",
       "      <td>Zürich</td>\n",
       "      <td>CH</td>\n",
       "      <td>NaN</td>\n",
       "    </tr>\n",
       "    <tr>\n",
       "      <th>87</th>\n",
       "      <td>Babu's</td>\n",
       "      <td>Löwenstrasse 1</td>\n",
       "      <td>8001</td>\n",
       "      <td>Zürich</td>\n",
       "      <td>CH</td>\n",
       "      <td>NaN</td>\n",
       "    </tr>\n",
       "    <tr>\n",
       "      <th>88</th>\n",
       "      <td>Grande Café &amp; Bar</td>\n",
       "      <td>Limmatquai 118</td>\n",
       "      <td>8001</td>\n",
       "      <td>Zürich</td>\n",
       "      <td>CH</td>\n",
       "      <td>NaN</td>\n",
       "    </tr>\n",
       "    <tr>\n",
       "      <th>89</th>\n",
       "      <td>Café des Amis</td>\n",
       "      <td>Nordstrasse 88</td>\n",
       "      <td>8037</td>\n",
       "      <td>Zürich</td>\n",
       "      <td>CH</td>\n",
       "      <td>NaN</td>\n",
       "    </tr>\n",
       "  </tbody>\n",
       "</table>\n",
       "</div>"
      ],
      "text/plain": [
       "                                          firma                street   plz  \\\n",
       "10  Simon's Steakhouse Grill & Restaurant & Bar  Niederdorfstrasse 13  8001   \n",
       "86                                 Café Henrici   Niederdorfstrasse 1  8001   \n",
       "87                                       Babu's        Löwenstrasse 1  8001   \n",
       "88                            Grande Café & Bar        Limmatquai 118  8001   \n",
       "89                                Café des Amis        Nordstrasse 88  8037   \n",
       "\n",
       "      city country telefon  \n",
       "10  Zürich      CH     NaN  \n",
       "86  Zürich      CH     NaN  \n",
       "87  Zürich      CH     NaN  \n",
       "88  Zürich      CH     NaN  \n",
       "89  Zürich      CH     NaN  "
      ]
     },
     "execution_count": 1758,
     "metadata": {},
     "output_type": "execute_result"
    }
   ],
   "source": [
    "ch_data[ch_data.isnull().any(axis=1)].head()"
   ]
  },
  {
   "cell_type": "code",
   "execution_count": 1095,
   "id": "88703394-6aab-4e08-96f8-2a9d1b942076",
   "metadata": {
    "tags": []
   },
   "outputs": [],
   "source": [
    "#mixed_data.fillna(np.nan, inplace=True)"
   ]
  },
  {
   "cell_type": "code",
   "execution_count": 1760,
   "id": "ca7f6e4e-3c2a-48eb-8304-64fd5a3aea50",
   "metadata": {
    "tags": []
   },
   "outputs": [],
   "source": [
    "# Replace empty strings or strings with 'nan' (created during conversion) with actual NaN\n",
    "mixed_data['telefon'] = mixed_data['telefon'].replace(['', ' ', 'nan'], pd.NA)"
   ]
  },
  {
   "cell_type": "code",
   "execution_count": 1762,
   "id": "a86f257f-1b8b-47f0-800e-fe64e1d3f783",
   "metadata": {
    "tags": []
   },
   "outputs": [
    {
     "data": {
      "text/plain": [
       "firma             True\n",
       "street           False\n",
       "plz               True\n",
       "city              True\n",
       "landesvorwahl    False\n",
       "telefon           True\n",
       "anrede            True\n",
       "vorname           True\n",
       "nachname          True\n",
       "dtype: bool"
      ]
     },
     "execution_count": 1762,
     "metadata": {},
     "output_type": "execute_result"
    }
   ],
   "source": [
    "mixed_data.isna().any()"
   ]
  },
  {
   "cell_type": "code",
   "execution_count": null,
   "id": "43e662a8-0e10-41dd-82f7-9610b40c7b37",
   "metadata": {},
   "outputs": [],
   "source": []
  },
  {
   "cell_type": "code",
   "execution_count": 1764,
   "id": "55c0ea64-e1db-4c15-836e-7a56c9313b67",
   "metadata": {
    "tags": []
   },
   "outputs": [
    {
     "data": {
      "text/plain": [
       "firma             546\n",
       "street              0\n",
       "plz               556\n",
       "city              592\n",
       "landesvorwahl       0\n",
       "telefon            37\n",
       "anrede           3264\n",
       "vorname          3150\n",
       "nachname         3223\n",
       "dtype: int64"
      ]
     },
     "execution_count": 1764,
     "metadata": {},
     "output_type": "execute_result"
    }
   ],
   "source": [
    "mixed_data.isnull().sum()"
   ]
  },
  {
   "cell_type": "code",
   "execution_count": 1766,
   "id": "94382030-7e65-482c-b683-3573eba5f6a1",
   "metadata": {
    "tags": []
   },
   "outputs": [
    {
     "data": {
      "text/html": [
       "<div>\n",
       "<style scoped>\n",
       "    .dataframe tbody tr th:only-of-type {\n",
       "        vertical-align: middle;\n",
       "    }\n",
       "\n",
       "    .dataframe tbody tr th {\n",
       "        vertical-align: top;\n",
       "    }\n",
       "\n",
       "    .dataframe thead th {\n",
       "        text-align: right;\n",
       "    }\n",
       "</style>\n",
       "<table border=\"1\" class=\"dataframe\">\n",
       "  <thead>\n",
       "    <tr style=\"text-align: right;\">\n",
       "      <th></th>\n",
       "      <th>firma</th>\n",
       "      <th>street</th>\n",
       "      <th>plz</th>\n",
       "      <th>city</th>\n",
       "      <th>landesvorwahl</th>\n",
       "      <th>telefon</th>\n",
       "      <th>anrede</th>\n",
       "      <th>vorname</th>\n",
       "      <th>nachname</th>\n",
       "    </tr>\n",
       "  </thead>\n",
       "  <tbody>\n",
       "    <tr>\n",
       "      <th>0</th>\n",
       "      <td>Hammurabi Restaurant</td>\n",
       "      <td>Untere Königsstraße</td>\n",
       "      <td>34117</td>\n",
       "      <td>Kassel</td>\n",
       "      <td>49</td>\n",
       "      <td>56128726696.0</td>\n",
       "      <td>NaN</td>\n",
       "      <td>NaN</td>\n",
       "      <td>NaN</td>\n",
       "    </tr>\n",
       "    <tr>\n",
       "      <th>1</th>\n",
       "      <td>M&amp;M Fahrzeugpflege</td>\n",
       "      <td>Friedrich-Ebert-Straße 9</td>\n",
       "      <td>32339</td>\n",
       "      <td>Espelkamp</td>\n",
       "      <td>49</td>\n",
       "      <td>16095579280.0</td>\n",
       "      <td>NaN</td>\n",
       "      <td>NaN</td>\n",
       "      <td>NaN</td>\n",
       "    </tr>\n",
       "    <tr>\n",
       "      <th>2</th>\n",
       "      <td>Chic Änderungsschneiderei</td>\n",
       "      <td>Venloer Straße 503</td>\n",
       "      <td>50825</td>\n",
       "      <td>Köln</td>\n",
       "      <td>49</td>\n",
       "      <td>22116933906.0</td>\n",
       "      <td>NaN</td>\n",
       "      <td>NaN</td>\n",
       "      <td>NaN</td>\n",
       "    </tr>\n",
       "    <tr>\n",
       "      <th>3</th>\n",
       "      <td>Miss Döner</td>\n",
       "      <td>Carl-von-Ossietzky-Platz 1</td>\n",
       "      <td>20099</td>\n",
       "      <td>Hamburg</td>\n",
       "      <td>49</td>\n",
       "      <td>1746528901.0</td>\n",
       "      <td>NaN</td>\n",
       "      <td>NaN</td>\n",
       "      <td>NaN</td>\n",
       "    </tr>\n",
       "    <tr>\n",
       "      <th>4</th>\n",
       "      <td>Kumpir Haus Ehrenfeld</td>\n",
       "      <td>Venloer Straße 378</td>\n",
       "      <td>50825</td>\n",
       "      <td>Köln</td>\n",
       "      <td>49</td>\n",
       "      <td>15510139521.0</td>\n",
       "      <td>NaN</td>\n",
       "      <td>NaN</td>\n",
       "      <td>NaN</td>\n",
       "    </tr>\n",
       "  </tbody>\n",
       "</table>\n",
       "</div>"
      ],
      "text/plain": [
       "                       firma                      street    plz       city  \\\n",
       "0       Hammurabi Restaurant       Untere Königsstraße    34117     Kassel   \n",
       "1         M&M Fahrzeugpflege    Friedrich-Ebert-Straße 9  32339  Espelkamp   \n",
       "2  Chic Änderungsschneiderei          Venloer Straße 503  50825       Köln   \n",
       "3                 Miss Döner  Carl-von-Ossietzky-Platz 1  20099    Hamburg   \n",
       "4      Kumpir Haus Ehrenfeld          Venloer Straße 378  50825       Köln   \n",
       "\n",
       "   landesvorwahl        telefon anrede vorname nachname  \n",
       "0             49  56128726696.0    NaN     NaN      NaN  \n",
       "1             49  16095579280.0    NaN     NaN      NaN  \n",
       "2             49  22116933906.0    NaN     NaN      NaN  \n",
       "3             49   1746528901.0    NaN     NaN      NaN  \n",
       "4             49  15510139521.0    NaN     NaN      NaN  "
      ]
     },
     "execution_count": 1766,
     "metadata": {},
     "output_type": "execute_result"
    }
   ],
   "source": [
    "mixed_data[mixed_data.isnull().any(axis=1)].head()"
   ]
  },
  {
   "cell_type": "code",
   "execution_count": null,
   "id": "db4efeb2-4f79-4b28-a084-6f6312eabc74",
   "metadata": {},
   "outputs": [],
   "source": []
  },
  {
   "cell_type": "code",
   "execution_count": null,
   "id": "8d86d3c4-5ec9-4d8b-9ebf-ac7ef0527829",
   "metadata": {},
   "outputs": [],
   "source": []
  },
  {
   "cell_type": "markdown",
   "id": "e0205d46-ed01-4275-a2f8-9c83fc5c0e01",
   "metadata": {},
   "source": [
    "#### Handling Duplicate Data\n",
    "\n",
    "This step will identify and remove any duplicate entries across the datasets. Duplicate data can skew analysis and reduce the efficiency of Movido's lead tracking system, so it is important to ensure that each lead is unique.\n"
   ]
  },
  {
   "cell_type": "code",
   "execution_count": 1768,
   "id": "a9644fba-443f-4404-bd94-e9104615eb28",
   "metadata": {
    "tags": []
   },
   "outputs": [
    {
     "data": {
      "text/plain": [
       "0"
      ]
     },
     "execution_count": 1768,
     "metadata": {},
     "output_type": "execute_result"
    }
   ],
   "source": [
    "# identify duplicates in the DataFrames\n",
    "de_data.duplicated().sum()"
   ]
  },
  {
   "cell_type": "code",
   "execution_count": 1770,
   "id": "1a386d0f-80be-4557-9371-9b92ed031f69",
   "metadata": {
    "tags": []
   },
   "outputs": [
    {
     "data": {
      "text/plain": [
       "0"
      ]
     },
     "execution_count": 1770,
     "metadata": {},
     "output_type": "execute_result"
    }
   ],
   "source": [
    "at_data.duplicated().sum()"
   ]
  },
  {
   "cell_type": "code",
   "execution_count": 1772,
   "id": "de887833-d359-438e-9c9b-b6d33c5f7434",
   "metadata": {
    "tags": []
   },
   "outputs": [
    {
     "data": {
      "text/plain": [
       "0"
      ]
     },
     "execution_count": 1772,
     "metadata": {},
     "output_type": "execute_result"
    }
   ],
   "source": [
    "ch_data.duplicated().sum()"
   ]
  },
  {
   "cell_type": "code",
   "execution_count": 1774,
   "id": "98549523-bec0-44b7-a8ca-b974a4cc1bcb",
   "metadata": {
    "tags": []
   },
   "outputs": [
    {
     "data": {
      "text/plain": [
       "26"
      ]
     },
     "execution_count": 1774,
     "metadata": {},
     "output_type": "execute_result"
    }
   ],
   "source": [
    "mixed_data.duplicated().sum()"
   ]
  },
  {
   "cell_type": "code",
   "execution_count": 1776,
   "id": "b617b592-b64b-48c5-a7a7-d4a3077ffb80",
   "metadata": {
    "tags": []
   },
   "outputs": [],
   "source": [
    "# Check the exact duplicates in the mixed_data dataset\n",
    "duplicate_rows = mixed_data[mixed_data.duplicated(keep=False)]"
   ]
  },
  {
   "cell_type": "code",
   "execution_count": 1778,
   "id": "9a5ce929-7a1e-45de-8e16-5cc558c88f07",
   "metadata": {
    "tags": []
   },
   "outputs": [
    {
     "data": {
      "text/html": [
       "<div>\n",
       "<style scoped>\n",
       "    .dataframe tbody tr th:only-of-type {\n",
       "        vertical-align: middle;\n",
       "    }\n",
       "\n",
       "    .dataframe tbody tr th {\n",
       "        vertical-align: top;\n",
       "    }\n",
       "\n",
       "    .dataframe thead th {\n",
       "        text-align: right;\n",
       "    }\n",
       "</style>\n",
       "<table border=\"1\" class=\"dataframe\">\n",
       "  <thead>\n",
       "    <tr style=\"text-align: right;\">\n",
       "      <th></th>\n",
       "      <th>firma</th>\n",
       "      <th>street</th>\n",
       "      <th>plz</th>\n",
       "      <th>city</th>\n",
       "      <th>landesvorwahl</th>\n",
       "      <th>telefon</th>\n",
       "      <th>anrede</th>\n",
       "      <th>vorname</th>\n",
       "      <th>nachname</th>\n",
       "    </tr>\n",
       "  </thead>\n",
       "  <tbody>\n",
       "    <tr>\n",
       "      <th>22</th>\n",
       "      <td>NaN</td>\n",
       "      <td></td>\n",
       "      <td>NaN</td>\n",
       "      <td>NaN</td>\n",
       "      <td>49</td>\n",
       "      <td>&lt;NA&gt;</td>\n",
       "      <td>NaN</td>\n",
       "      <td>NaN</td>\n",
       "      <td>NaN</td>\n",
       "    </tr>\n",
       "    <tr>\n",
       "      <th>156</th>\n",
       "      <td>NaN</td>\n",
       "      <td></td>\n",
       "      <td>NaN</td>\n",
       "      <td>NaN</td>\n",
       "      <td>41</td>\n",
       "      <td>787969693.0</td>\n",
       "      <td>NaN</td>\n",
       "      <td>NaN</td>\n",
       "      <td>NaN</td>\n",
       "    </tr>\n",
       "    <tr>\n",
       "      <th>168</th>\n",
       "      <td>aquarium-spezialanfertigung</td>\n",
       "      <td>Hauptstraße 38</td>\n",
       "      <td>63691</td>\n",
       "      <td>Ranstadt</td>\n",
       "      <td>49</td>\n",
       "      <td>6041962396.0</td>\n",
       "      <td>NaN</td>\n",
       "      <td>NaN</td>\n",
       "      <td>NaN</td>\n",
       "    </tr>\n",
       "    <tr>\n",
       "      <th>169</th>\n",
       "      <td>aquarium-spezialanfertigung</td>\n",
       "      <td>Hauptstraße 38</td>\n",
       "      <td>63691</td>\n",
       "      <td>Ranstadt</td>\n",
       "      <td>49</td>\n",
       "      <td>6041962396.0</td>\n",
       "      <td>NaN</td>\n",
       "      <td>NaN</td>\n",
       "      <td>NaN</td>\n",
       "    </tr>\n",
       "    <tr>\n",
       "      <th>204</th>\n",
       "      <td>NaN</td>\n",
       "      <td></td>\n",
       "      <td>NaN</td>\n",
       "      <td>NaN</td>\n",
       "      <td>49</td>\n",
       "      <td>512169023.0</td>\n",
       "      <td>NaN</td>\n",
       "      <td>NaN</td>\n",
       "      <td>NaN</td>\n",
       "    </tr>\n",
       "  </tbody>\n",
       "</table>\n",
       "</div>"
      ],
      "text/plain": [
       "                           firma          street    plz      city  \\\n",
       "22                           NaN                    NaN       NaN   \n",
       "156                          NaN                    NaN       NaN   \n",
       "168  aquarium-spezialanfertigung  Hauptstraße 38  63691  Ranstadt   \n",
       "169  aquarium-spezialanfertigung  Hauptstraße 38  63691  Ranstadt   \n",
       "204                          NaN                    NaN       NaN   \n",
       "\n",
       "     landesvorwahl       telefon anrede vorname nachname  \n",
       "22              49          <NA>    NaN     NaN      NaN  \n",
       "156             41   787969693.0    NaN     NaN      NaN  \n",
       "168             49  6041962396.0    NaN     NaN      NaN  \n",
       "169             49  6041962396.0    NaN     NaN      NaN  \n",
       "204             49   512169023.0    NaN     NaN      NaN  "
      ]
     },
     "execution_count": 1778,
     "metadata": {},
     "output_type": "execute_result"
    }
   ],
   "source": [
    "duplicate_rows.head()"
   ]
  },
  {
   "cell_type": "code",
   "execution_count": 1780,
   "id": "796b1190-5c0f-4ebc-bd11-d9deaf5c7296",
   "metadata": {
    "tags": []
   },
   "outputs": [],
   "source": [
    "# Some of the rows above are not duplicates as shown above\n",
    "# I do not want to remove any data that could be considered a lead\n",
    "# therefore I will remove exact duplicates and keep one instance of each lead \n",
    "\n",
    "mixed_data.drop_duplicates(keep='first', inplace=True)"
   ]
  },
  {
   "cell_type": "code",
   "execution_count": 1782,
   "id": "3c9ab26d-0a3f-4949-a489-a46ab11ff25a",
   "metadata": {
    "tags": []
   },
   "outputs": [
    {
     "data": {
      "text/plain": [
       "0"
      ]
     },
     "execution_count": 1782,
     "metadata": {},
     "output_type": "execute_result"
    }
   ],
   "source": [
    "# check duplicates\n",
    "mixed_data.duplicated().sum()\n"
   ]
  },
  {
   "cell_type": "code",
   "execution_count": null,
   "id": "eb9c2287-7aa2-4afa-b31a-2982d92c06c6",
   "metadata": {},
   "outputs": [],
   "source": []
  },
  {
   "cell_type": "markdown",
   "id": "bd7777e7-8c93-42a2-a84a-6ad294f24837",
   "metadata": {},
   "source": [
    "### Data Standardising and Data Cleaning Process\n",
    "\n",
    "The process involves removing special characters, handling missing or incorrect data, and extracting the country name, country code, and cleaned local phone number. \n",
    "\n",
    "The final output includes three columns: country name, country code, and local number (without leading zeros), ensuring consistency and usability of phone number dat"
   ]
  },
  {
   "cell_type": "code",
   "execution_count": null,
   "id": "8954e999-1993-43bd-816e-2b385285c23c",
   "metadata": {},
   "outputs": [],
   "source": []
  },
  {
   "cell_type": "markdown",
   "id": "89933e2e-0922-49a2-93bc-1d39d7bdf91b",
   "metadata": {},
   "source": [
    "#### 1. Remove Special Characters\n",
    "\n",
    "- first step is to remove special characters in the phone numbers\n",
    "- I will do this by extracting the numbers only and excluding everything else\n"
   ]
  },
  {
   "cell_type": "markdown",
   "id": "218b1bb8-5171-41c0-87a5-5d3598df7038",
   "metadata": {},
   "source": [
    "##### Germany"
   ]
  },
  {
   "cell_type": "code",
   "execution_count": 1784,
   "id": "8b35140e-3c3a-4571-ac76-ba07f38bf49c",
   "metadata": {
    "tags": []
   },
   "outputs": [],
   "source": [
    "# Remove special characters and spaces from the 'telefon' column\n",
    "de_data['telefon_cleaned'] = de_data['telefon'].str.replace(r'[^\\d]', '', regex=True)\n"
   ]
  },
  {
   "cell_type": "code",
   "execution_count": 1788,
   "id": "a7447043-f4f3-4e6e-b295-098ba02e9eed",
   "metadata": {
    "tags": []
   },
   "outputs": [
    {
     "data": {
      "text/html": [
       "<div>\n",
       "<style scoped>\n",
       "    .dataframe tbody tr th:only-of-type {\n",
       "        vertical-align: middle;\n",
       "    }\n",
       "\n",
       "    .dataframe tbody tr th {\n",
       "        vertical-align: top;\n",
       "    }\n",
       "\n",
       "    .dataframe thead th {\n",
       "        text-align: right;\n",
       "    }\n",
       "</style>\n",
       "<table border=\"1\" class=\"dataframe\">\n",
       "  <thead>\n",
       "    <tr style=\"text-align: right;\">\n",
       "      <th></th>\n",
       "      <th>firma</th>\n",
       "      <th>street</th>\n",
       "      <th>plz</th>\n",
       "      <th>city</th>\n",
       "      <th>country</th>\n",
       "      <th>telefon</th>\n",
       "      <th>telefon_cleaned</th>\n",
       "    </tr>\n",
       "  </thead>\n",
       "  <tbody>\n",
       "    <tr>\n",
       "      <th>0</th>\n",
       "      <td>Abschleppdienst Arnolds</td>\n",
       "      <td>Völlesbruchstrasse 19</td>\n",
       "      <td>52152</td>\n",
       "      <td>Simmerath</td>\n",
       "      <td>DE</td>\n",
       "      <td>0049177-8754883</td>\n",
       "      <td>00491778754883</td>\n",
       "    </tr>\n",
       "    <tr>\n",
       "      <th>1</th>\n",
       "      <td>AAS-Fink GmbH</td>\n",
       "      <td>Morsbach 39</td>\n",
       "      <td>42857</td>\n",
       "      <td>Remscheid</td>\n",
       "      <td>DE</td>\n",
       "      <td>172.2086056</td>\n",
       "      <td>1722086056</td>\n",
       "    </tr>\n",
       "    <tr>\n",
       "      <th>2</th>\n",
       "      <td>Allfolia Deutschland GmbH</td>\n",
       "      <td>Morsbach 39</td>\n",
       "      <td>42857</td>\n",
       "      <td>Remscheid</td>\n",
       "      <td>DE</td>\n",
       "      <td>+491734636476</td>\n",
       "      <td>491734636476</td>\n",
       "    </tr>\n",
       "    <tr>\n",
       "      <th>3</th>\n",
       "      <td>Autohaus Hentschel GmbH</td>\n",
       "      <td>Vahrenwalder Str. 141</td>\n",
       "      <td>30165</td>\n",
       "      <td>Hannover</td>\n",
       "      <td>DE</td>\n",
       "      <td>+49_x001D_17_x0011_86221169</td>\n",
       "      <td>4900117001186221169</td>\n",
       "    </tr>\n",
       "    <tr>\n",
       "      <th>4</th>\n",
       "      <td>Autohaus Schmohl GmbH</td>\n",
       "      <td>Potsdamer Str. 175</td>\n",
       "      <td>14469</td>\n",
       "      <td>Potsdam</td>\n",
       "      <td>DE</td>\n",
       "      <td>0049/160466 6050</td>\n",
       "      <td>00491604666050</td>\n",
       "    </tr>\n",
       "  </tbody>\n",
       "</table>\n",
       "</div>"
      ],
      "text/plain": [
       "                       firma                 street    plz       city country  \\\n",
       "0    Abschleppdienst Arnolds  Völlesbruchstrasse 19  52152  Simmerath      DE   \n",
       "1              AAS-Fink GmbH            Morsbach 39  42857  Remscheid      DE   \n",
       "2  Allfolia Deutschland GmbH            Morsbach 39  42857  Remscheid      DE   \n",
       "3    Autohaus Hentschel GmbH  Vahrenwalder Str. 141  30165   Hannover      DE   \n",
       "4      Autohaus Schmohl GmbH     Potsdamer Str. 175  14469    Potsdam      DE   \n",
       "\n",
       "                       telefon      telefon_cleaned  \n",
       "0              0049177-8754883       00491778754883  \n",
       "1                  172.2086056           1722086056  \n",
       "2                +491734636476         491734636476  \n",
       "3  +49_x001D_17_x0011_86221169  4900117001186221169  \n",
       "4             0049/160466 6050       00491604666050  "
      ]
     },
     "execution_count": 1788,
     "metadata": {},
     "output_type": "execute_result"
    }
   ],
   "source": [
    "# special characters have been removed including '+'\n",
    "de_data.head()"
   ]
  },
  {
   "cell_type": "code",
   "execution_count": null,
   "id": "7af8033d-6c92-445a-81d0-9bf1b6cf7bf7",
   "metadata": {},
   "outputs": [],
   "source": []
  },
  {
   "cell_type": "markdown",
   "id": "a2b3c9dc-82d9-4f6d-9e1f-759a10cabbd7",
   "metadata": {},
   "source": [
    "##### Austria"
   ]
  },
  {
   "cell_type": "code",
   "execution_count": 1790,
   "id": "231d3ccf-02e0-4e19-a39b-dd6748e72969",
   "metadata": {
    "tags": []
   },
   "outputs": [],
   "source": [
    "# Remove special characters and spaces from the 'telefon' column\n",
    "at_data['telefon_cleaned'] = at_data['telefon'].str.replace(r'[^\\d]', '', regex=True)"
   ]
  },
  {
   "cell_type": "code",
   "execution_count": 1792,
   "id": "51d01d88-3c7a-4ae1-a8cc-d4c53bb3cffa",
   "metadata": {
    "tags": []
   },
   "outputs": [
    {
     "data": {
      "text/html": [
       "<div>\n",
       "<style scoped>\n",
       "    .dataframe tbody tr th:only-of-type {\n",
       "        vertical-align: middle;\n",
       "    }\n",
       "\n",
       "    .dataframe tbody tr th {\n",
       "        vertical-align: top;\n",
       "    }\n",
       "\n",
       "    .dataframe thead th {\n",
       "        text-align: right;\n",
       "    }\n",
       "</style>\n",
       "<table border=\"1\" class=\"dataframe\">\n",
       "  <thead>\n",
       "    <tr style=\"text-align: right;\">\n",
       "      <th></th>\n",
       "      <th>firma</th>\n",
       "      <th>street</th>\n",
       "      <th>plz</th>\n",
       "      <th>city</th>\n",
       "      <th>country</th>\n",
       "      <th>telefon</th>\n",
       "      <th>telefon_cleaned</th>\n",
       "    </tr>\n",
       "  </thead>\n",
       "  <tbody>\n",
       "    <tr>\n",
       "      <th>0</th>\n",
       "      <td>Abschleppdienst und Reparatur Graber Hans</td>\n",
       "      <td>Brennerstraße 5</td>\n",
       "      <td>6150</td>\n",
       "      <td>Steinach am Brenner</td>\n",
       "      <td>AT</td>\n",
       "      <td>+43 664 0020108</td>\n",
       "      <td>436640020108</td>\n",
       "    </tr>\n",
       "    <tr>\n",
       "      <th>1</th>\n",
       "      <td>Anhänger Steininger &amp; Partner GmbH</td>\n",
       "      <td>Windhager Straße 22</td>\n",
       "      <td>3931</td>\n",
       "      <td>Schweiggers</td>\n",
       "      <td>AT</td>\n",
       "      <td>/664/3019220</td>\n",
       "      <td>6643019220</td>\n",
       "    </tr>\n",
       "    <tr>\n",
       "      <th>2</th>\n",
       "      <td>Täubl Sonnenschutz</td>\n",
       "      <td>Otto-Scharmitzerstr. 24</td>\n",
       "      <td>3464</td>\n",
       "      <td>Goldgeben</td>\n",
       "      <td>AT</td>\n",
       "      <td>Hotline: 676-4429785 (+43)</td>\n",
       "      <td>676442978543</td>\n",
       "    </tr>\n",
       "    <tr>\n",
       "      <th>3</th>\n",
       "      <td>Schönhacker Auto- und Fahrradzubehör</td>\n",
       "      <td>Ernest-Thum-Straße 1</td>\n",
       "      <td>3542</td>\n",
       "      <td>Gföhl</td>\n",
       "      <td>AT</td>\n",
       "      <td>+436998521286</td>\n",
       "      <td>436998521286</td>\n",
       "    </tr>\n",
       "    <tr>\n",
       "      <th>4</th>\n",
       "      <td>Wuppinger Karosseriebau GmbH</td>\n",
       "      <td>Breitwies 6</td>\n",
       "      <td>5303</td>\n",
       "      <td>Thalgau</td>\n",
       "      <td>AT</td>\n",
       "      <td>+436763066695</td>\n",
       "      <td>436763066695</td>\n",
       "    </tr>\n",
       "  </tbody>\n",
       "</table>\n",
       "</div>"
      ],
      "text/plain": [
       "                                       firma                   street   plz  \\\n",
       "0  Abschleppdienst und Reparatur Graber Hans          Brennerstraße 5  6150   \n",
       "1         Anhänger Steininger & Partner GmbH      Windhager Straße 22  3931   \n",
       "2                         Täubl Sonnenschutz  Otto-Scharmitzerstr. 24  3464   \n",
       "3       Schönhacker Auto- und Fahrradzubehör     Ernest-Thum-Straße 1  3542   \n",
       "4               Wuppinger Karosseriebau GmbH              Breitwies 6  5303   \n",
       "\n",
       "                  city country                     telefon telefon_cleaned  \n",
       "0  Steinach am Brenner      AT             +43 664 0020108    436640020108  \n",
       "1          Schweiggers      AT                /664/3019220      6643019220  \n",
       "2            Goldgeben      AT  Hotline: 676-4429785 (+43)    676442978543  \n",
       "3                Gföhl      AT               +436998521286    436998521286  \n",
       "4              Thalgau      AT               +436763066695    436763066695  "
      ]
     },
     "execution_count": 1792,
     "metadata": {},
     "output_type": "execute_result"
    }
   ],
   "source": [
    "at_data.head()"
   ]
  },
  {
   "cell_type": "code",
   "execution_count": null,
   "id": "a4a9caa6-6c08-401a-b67c-89cf634dce7f",
   "metadata": {},
   "outputs": [],
   "source": []
  },
  {
   "cell_type": "markdown",
   "id": "5a17a7ac-eab8-4304-af6e-6a27e62495b8",
   "metadata": {},
   "source": [
    "##### Switzerland"
   ]
  },
  {
   "cell_type": "code",
   "execution_count": 1794,
   "id": "1fbc4f73-36dc-4be1-add7-590e353b99f9",
   "metadata": {
    "tags": []
   },
   "outputs": [],
   "source": [
    "# Remove special characters and spaces from the 'telefon' column\n",
    "ch_data['telefon_cleaned'] = ch_data['telefon'].str.replace(r'[^\\d]', '', regex=True)"
   ]
  },
  {
   "cell_type": "code",
   "execution_count": 1796,
   "id": "ec945f77-60c1-4a71-850c-4b4fa73324d6",
   "metadata": {
    "tags": []
   },
   "outputs": [
    {
     "data": {
      "text/html": [
       "<div>\n",
       "<style scoped>\n",
       "    .dataframe tbody tr th:only-of-type {\n",
       "        vertical-align: middle;\n",
       "    }\n",
       "\n",
       "    .dataframe tbody tr th {\n",
       "        vertical-align: top;\n",
       "    }\n",
       "\n",
       "    .dataframe thead th {\n",
       "        text-align: right;\n",
       "    }\n",
       "</style>\n",
       "<table border=\"1\" class=\"dataframe\">\n",
       "  <thead>\n",
       "    <tr style=\"text-align: right;\">\n",
       "      <th></th>\n",
       "      <th>firma</th>\n",
       "      <th>street</th>\n",
       "      <th>plz</th>\n",
       "      <th>city</th>\n",
       "      <th>country</th>\n",
       "      <th>telefon</th>\n",
       "      <th>telefon_cleaned</th>\n",
       "    </tr>\n",
       "  </thead>\n",
       "  <tbody>\n",
       "    <tr>\n",
       "      <th>0</th>\n",
       "      <td>Fankhauser AG Huttwil</td>\n",
       "      <td>Walke 1</td>\n",
       "      <td>4938</td>\n",
       "      <td>Rohrbach</td>\n",
       "      <td>CH</td>\n",
       "      <td>300 CALL 3378 / 78</td>\n",
       "      <td>300337878</td>\n",
       "    </tr>\n",
       "    <tr>\n",
       "      <th>1</th>\n",
       "      <td>TS-Velos GmbH</td>\n",
       "      <td>Jurastrasse 2</td>\n",
       "      <td>4554</td>\n",
       "      <td>Etziken</td>\n",
       "      <td>CH</td>\n",
       "      <td>+41abc5837-1_x001A_54</td>\n",
       "      <td>415837100154</td>\n",
       "    </tr>\n",
       "    <tr>\n",
       "      <th>2</th>\n",
       "      <td>Nocera &amp; Strub AG</td>\n",
       "      <td>Hirzenstrasse 1</td>\n",
       "      <td>9244</td>\n",
       "      <td>Niederuzwil</td>\n",
       "      <td>CH</td>\n",
       "      <td>Telefon: 00 037 CALL 9506 / 79</td>\n",
       "      <td>00037950679</td>\n",
       "    </tr>\n",
       "    <tr>\n",
       "      <th>3</th>\n",
       "      <td>Druckerei Lutz AG</td>\n",
       "      <td>Hauptstrasse 18</td>\n",
       "      <td>9042</td>\n",
       "      <td>Speicher</td>\n",
       "      <td>CH</td>\n",
       "      <td>0_x0008_0_x001F_4178abc8579-115</td>\n",
       "      <td>00008000141788579115</td>\n",
       "    </tr>\n",
       "    <tr>\n",
       "      <th>4</th>\n",
       "      <td>Hch. Borer Kartenverlag AG</td>\n",
       "      <td>Ilbachstrasse 39</td>\n",
       "      <td>4228</td>\n",
       "      <td>Erschwil</td>\n",
       "      <td>CH</td>\n",
       "      <td>0041760352498</td>\n",
       "      <td>0041760352498</td>\n",
       "    </tr>\n",
       "  </tbody>\n",
       "</table>\n",
       "</div>"
      ],
      "text/plain": [
       "                        firma            street   plz         city country  \\\n",
       "0       Fankhauser AG Huttwil           Walke 1  4938     Rohrbach      CH   \n",
       "1               TS-Velos GmbH     Jurastrasse 2  4554      Etziken      CH   \n",
       "2           Nocera & Strub AG   Hirzenstrasse 1  9244  Niederuzwil      CH   \n",
       "3           Druckerei Lutz AG   Hauptstrasse 18  9042     Speicher      CH   \n",
       "4  Hch. Borer Kartenverlag AG  Ilbachstrasse 39  4228     Erschwil      CH   \n",
       "\n",
       "                           telefon       telefon_cleaned  \n",
       "0               300 CALL 3378 / 78             300337878  \n",
       "1            +41abc5837-1_x001A_54          415837100154  \n",
       "2   Telefon: 00 037 CALL 9506 / 79           00037950679  \n",
       "3  0_x0008_0_x001F_4178abc8579-115  00008000141788579115  \n",
       "4                    0041760352498         0041760352498  "
      ]
     },
     "execution_count": 1796,
     "metadata": {},
     "output_type": "execute_result"
    }
   ],
   "source": [
    "ch_data.head()"
   ]
  },
  {
   "cell_type": "code",
   "execution_count": null,
   "id": "af86d60f-bd36-4b27-8190-ea744350181c",
   "metadata": {},
   "outputs": [],
   "source": []
  },
  {
   "cell_type": "markdown",
   "id": "ceed7904-51aa-43dc-9a72-945eed6c0933",
   "metadata": {},
   "source": [
    "##### Mixed "
   ]
  },
  {
   "cell_type": "code",
   "execution_count": 1798,
   "id": "f85e07f6-59cf-4ae2-b014-941cd29e0227",
   "metadata": {
    "tags": []
   },
   "outputs": [],
   "source": [
    "# Remove special characters and spaces from the 'telefon' column\n",
    "mixed_data['telefon_cleaned'] = mixed_data['telefon'].str.replace(r'[^\\d]', '', regex=True)"
   ]
  },
  {
   "cell_type": "code",
   "execution_count": 1800,
   "id": "3c414fa3-7f6c-4b5b-aac2-c6b8821b3ca8",
   "metadata": {
    "tags": []
   },
   "outputs": [
    {
     "data": {
      "text/html": [
       "<div>\n",
       "<style scoped>\n",
       "    .dataframe tbody tr th:only-of-type {\n",
       "        vertical-align: middle;\n",
       "    }\n",
       "\n",
       "    .dataframe tbody tr th {\n",
       "        vertical-align: top;\n",
       "    }\n",
       "\n",
       "    .dataframe thead th {\n",
       "        text-align: right;\n",
       "    }\n",
       "</style>\n",
       "<table border=\"1\" class=\"dataframe\">\n",
       "  <thead>\n",
       "    <tr style=\"text-align: right;\">\n",
       "      <th></th>\n",
       "      <th>firma</th>\n",
       "      <th>street</th>\n",
       "      <th>plz</th>\n",
       "      <th>city</th>\n",
       "      <th>landesvorwahl</th>\n",
       "      <th>telefon</th>\n",
       "      <th>anrede</th>\n",
       "      <th>vorname</th>\n",
       "      <th>nachname</th>\n",
       "      <th>telefon_cleaned</th>\n",
       "    </tr>\n",
       "  </thead>\n",
       "  <tbody>\n",
       "    <tr>\n",
       "      <th>0</th>\n",
       "      <td>Hammurabi Restaurant</td>\n",
       "      <td>Untere Königsstraße</td>\n",
       "      <td>34117</td>\n",
       "      <td>Kassel</td>\n",
       "      <td>49</td>\n",
       "      <td>56128726696.0</td>\n",
       "      <td>NaN</td>\n",
       "      <td>NaN</td>\n",
       "      <td>NaN</td>\n",
       "      <td>561287266960</td>\n",
       "    </tr>\n",
       "    <tr>\n",
       "      <th>1</th>\n",
       "      <td>M&amp;M Fahrzeugpflege</td>\n",
       "      <td>Friedrich-Ebert-Straße 9</td>\n",
       "      <td>32339</td>\n",
       "      <td>Espelkamp</td>\n",
       "      <td>49</td>\n",
       "      <td>16095579280.0</td>\n",
       "      <td>NaN</td>\n",
       "      <td>NaN</td>\n",
       "      <td>NaN</td>\n",
       "      <td>160955792800</td>\n",
       "    </tr>\n",
       "    <tr>\n",
       "      <th>2</th>\n",
       "      <td>Chic Änderungsschneiderei</td>\n",
       "      <td>Venloer Straße 503</td>\n",
       "      <td>50825</td>\n",
       "      <td>Köln</td>\n",
       "      <td>49</td>\n",
       "      <td>22116933906.0</td>\n",
       "      <td>NaN</td>\n",
       "      <td>NaN</td>\n",
       "      <td>NaN</td>\n",
       "      <td>221169339060</td>\n",
       "    </tr>\n",
       "    <tr>\n",
       "      <th>3</th>\n",
       "      <td>Miss Döner</td>\n",
       "      <td>Carl-von-Ossietzky-Platz 1</td>\n",
       "      <td>20099</td>\n",
       "      <td>Hamburg</td>\n",
       "      <td>49</td>\n",
       "      <td>1746528901.0</td>\n",
       "      <td>NaN</td>\n",
       "      <td>NaN</td>\n",
       "      <td>NaN</td>\n",
       "      <td>17465289010</td>\n",
       "    </tr>\n",
       "    <tr>\n",
       "      <th>4</th>\n",
       "      <td>Kumpir Haus Ehrenfeld</td>\n",
       "      <td>Venloer Straße 378</td>\n",
       "      <td>50825</td>\n",
       "      <td>Köln</td>\n",
       "      <td>49</td>\n",
       "      <td>15510139521.0</td>\n",
       "      <td>NaN</td>\n",
       "      <td>NaN</td>\n",
       "      <td>NaN</td>\n",
       "      <td>155101395210</td>\n",
       "    </tr>\n",
       "  </tbody>\n",
       "</table>\n",
       "</div>"
      ],
      "text/plain": [
       "                       firma                      street    plz       city  \\\n",
       "0       Hammurabi Restaurant       Untere Königsstraße    34117     Kassel   \n",
       "1         M&M Fahrzeugpflege    Friedrich-Ebert-Straße 9  32339  Espelkamp   \n",
       "2  Chic Änderungsschneiderei          Venloer Straße 503  50825       Köln   \n",
       "3                 Miss Döner  Carl-von-Ossietzky-Platz 1  20099    Hamburg   \n",
       "4      Kumpir Haus Ehrenfeld          Venloer Straße 378  50825       Köln   \n",
       "\n",
       "   landesvorwahl        telefon anrede vorname nachname telefon_cleaned  \n",
       "0             49  56128726696.0    NaN     NaN      NaN    561287266960  \n",
       "1             49  16095579280.0    NaN     NaN      NaN    160955792800  \n",
       "2             49  22116933906.0    NaN     NaN      NaN    221169339060  \n",
       "3             49   1746528901.0    NaN     NaN      NaN     17465289010  \n",
       "4             49  15510139521.0    NaN     NaN      NaN    155101395210  "
      ]
     },
     "execution_count": 1800,
     "metadata": {},
     "output_type": "execute_result"
    }
   ],
   "source": [
    "mixed_data.head()"
   ]
  },
  {
   "cell_type": "code",
   "execution_count": null,
   "id": "0fe7338d-5f9f-4219-a509-68af93a0c816",
   "metadata": {},
   "outputs": [],
   "source": []
  },
  {
   "cell_type": "code",
   "execution_count": null,
   "id": "6174586a-cc55-450d-a5df-2540e5bdb772",
   "metadata": {},
   "outputs": [],
   "source": []
  },
  {
   "cell_type": "markdown",
   "id": "835394cc-d6fd-4402-a093-023f04d844eb",
   "metadata": {},
   "source": [
    "#### 2. Extract country code and Create local number Number Column\n",
    "\n",
    "- extracting the local number by removing \"0049\", \"0043\", \"0041\" from the start of the phone number\n",
    "- This leaves us with just the local part of the number"
   ]
  },
  {
   "cell_type": "markdown",
   "id": "15c3e3b9-fa3b-4c68-b2d3-34f03d542f49",
   "metadata": {},
   "source": [
    "##### Germany"
   ]
  },
  {
   "cell_type": "code",
   "execution_count": 1686,
   "id": "fb168358-fc54-46cd-9332-575c87ff748e",
   "metadata": {
    "tags": []
   },
   "outputs": [],
   "source": [
    "# Remove the country code from the cleaned phone number to get the local number\n",
    "# turns out this code doesnt apply to numbers that look like +49...\n",
    "#de_data['local_number'] = de_data['telefon_cleaned'].str.replace(r'^0049', '', regex=True)\n"
   ]
  },
  {
   "cell_type": "code",
   "execution_count": 1802,
   "id": "6e699715-9cb9-43fa-99df-83c97565fc83",
   "metadata": {
    "tags": []
   },
   "outputs": [],
   "source": [
    "# Remove both '0049' and '49' from the start of the cleaned phone numbers\n",
    "de_data['local_number'] = de_data['telefon_cleaned'].str.replace(r'^(0049|49)', '', regex=True)"
   ]
  },
  {
   "cell_type": "code",
   "execution_count": 1804,
   "id": "c35f692d-c0de-4c80-8bfd-1a0ec8d290b2",
   "metadata": {
    "tags": []
   },
   "outputs": [
    {
     "data": {
      "text/html": [
       "<div>\n",
       "<style scoped>\n",
       "    .dataframe tbody tr th:only-of-type {\n",
       "        vertical-align: middle;\n",
       "    }\n",
       "\n",
       "    .dataframe tbody tr th {\n",
       "        vertical-align: top;\n",
       "    }\n",
       "\n",
       "    .dataframe thead th {\n",
       "        text-align: right;\n",
       "    }\n",
       "</style>\n",
       "<table border=\"1\" class=\"dataframe\">\n",
       "  <thead>\n",
       "    <tr style=\"text-align: right;\">\n",
       "      <th></th>\n",
       "      <th>firma</th>\n",
       "      <th>street</th>\n",
       "      <th>plz</th>\n",
       "      <th>city</th>\n",
       "      <th>country</th>\n",
       "      <th>telefon</th>\n",
       "      <th>telefon_cleaned</th>\n",
       "      <th>local_number</th>\n",
       "    </tr>\n",
       "  </thead>\n",
       "  <tbody>\n",
       "    <tr>\n",
       "      <th>0</th>\n",
       "      <td>Abschleppdienst Arnolds</td>\n",
       "      <td>Völlesbruchstrasse 19</td>\n",
       "      <td>52152</td>\n",
       "      <td>Simmerath</td>\n",
       "      <td>DE</td>\n",
       "      <td>0049177-8754883</td>\n",
       "      <td>00491778754883</td>\n",
       "      <td>1778754883</td>\n",
       "    </tr>\n",
       "    <tr>\n",
       "      <th>1</th>\n",
       "      <td>AAS-Fink GmbH</td>\n",
       "      <td>Morsbach 39</td>\n",
       "      <td>42857</td>\n",
       "      <td>Remscheid</td>\n",
       "      <td>DE</td>\n",
       "      <td>172.2086056</td>\n",
       "      <td>1722086056</td>\n",
       "      <td>1722086056</td>\n",
       "    </tr>\n",
       "    <tr>\n",
       "      <th>2</th>\n",
       "      <td>Allfolia Deutschland GmbH</td>\n",
       "      <td>Morsbach 39</td>\n",
       "      <td>42857</td>\n",
       "      <td>Remscheid</td>\n",
       "      <td>DE</td>\n",
       "      <td>+491734636476</td>\n",
       "      <td>491734636476</td>\n",
       "      <td>1734636476</td>\n",
       "    </tr>\n",
       "    <tr>\n",
       "      <th>3</th>\n",
       "      <td>Autohaus Hentschel GmbH</td>\n",
       "      <td>Vahrenwalder Str. 141</td>\n",
       "      <td>30165</td>\n",
       "      <td>Hannover</td>\n",
       "      <td>DE</td>\n",
       "      <td>+49_x001D_17_x0011_86221169</td>\n",
       "      <td>4900117001186221169</td>\n",
       "      <td>00117001186221169</td>\n",
       "    </tr>\n",
       "    <tr>\n",
       "      <th>4</th>\n",
       "      <td>Autohaus Schmohl GmbH</td>\n",
       "      <td>Potsdamer Str. 175</td>\n",
       "      <td>14469</td>\n",
       "      <td>Potsdam</td>\n",
       "      <td>DE</td>\n",
       "      <td>0049/160466 6050</td>\n",
       "      <td>00491604666050</td>\n",
       "      <td>1604666050</td>\n",
       "    </tr>\n",
       "  </tbody>\n",
       "</table>\n",
       "</div>"
      ],
      "text/plain": [
       "                       firma                 street    plz       city country  \\\n",
       "0    Abschleppdienst Arnolds  Völlesbruchstrasse 19  52152  Simmerath      DE   \n",
       "1              AAS-Fink GmbH            Morsbach 39  42857  Remscheid      DE   \n",
       "2  Allfolia Deutschland GmbH            Morsbach 39  42857  Remscheid      DE   \n",
       "3    Autohaus Hentschel GmbH  Vahrenwalder Str. 141  30165   Hannover      DE   \n",
       "4      Autohaus Schmohl GmbH     Potsdamer Str. 175  14469    Potsdam      DE   \n",
       "\n",
       "                       telefon      telefon_cleaned       local_number  \n",
       "0              0049177-8754883       00491778754883         1778754883  \n",
       "1                  172.2086056           1722086056         1722086056  \n",
       "2                +491734636476         491734636476         1734636476  \n",
       "3  +49_x001D_17_x0011_86221169  4900117001186221169  00117001186221169  \n",
       "4             0049/160466 6050       00491604666050         1604666050  "
      ]
     },
     "execution_count": 1804,
     "metadata": {},
     "output_type": "execute_result"
    }
   ],
   "source": [
    "de_data.head()"
   ]
  },
  {
   "cell_type": "code",
   "execution_count": null,
   "id": "b0953236-87df-4378-b661-b4ef5f4a7cb2",
   "metadata": {},
   "outputs": [],
   "source": []
  },
  {
   "cell_type": "markdown",
   "id": "52279368-f438-4d2c-ba2d-a2b87fcffef5",
   "metadata": {},
   "source": [
    "##### Austria"
   ]
  },
  {
   "cell_type": "code",
   "execution_count": 1806,
   "id": "640892cf-d54a-466a-b366-cef563304e63",
   "metadata": {
    "tags": []
   },
   "outputs": [],
   "source": [
    "# Remove both '0043' and '43' from the start of the cleaned phone numbers\n",
    "at_data['local_number'] = at_data['telefon_cleaned'].str.replace(r'^(0043|43)', '', regex=True)"
   ]
  },
  {
   "cell_type": "code",
   "execution_count": 1808,
   "id": "f5044384-7ef9-4557-a634-5a3e8c0e38e4",
   "metadata": {
    "tags": []
   },
   "outputs": [
    {
     "data": {
      "text/html": [
       "<div>\n",
       "<style scoped>\n",
       "    .dataframe tbody tr th:only-of-type {\n",
       "        vertical-align: middle;\n",
       "    }\n",
       "\n",
       "    .dataframe tbody tr th {\n",
       "        vertical-align: top;\n",
       "    }\n",
       "\n",
       "    .dataframe thead th {\n",
       "        text-align: right;\n",
       "    }\n",
       "</style>\n",
       "<table border=\"1\" class=\"dataframe\">\n",
       "  <thead>\n",
       "    <tr style=\"text-align: right;\">\n",
       "      <th></th>\n",
       "      <th>firma</th>\n",
       "      <th>street</th>\n",
       "      <th>plz</th>\n",
       "      <th>city</th>\n",
       "      <th>country</th>\n",
       "      <th>telefon</th>\n",
       "      <th>telefon_cleaned</th>\n",
       "      <th>local_number</th>\n",
       "    </tr>\n",
       "  </thead>\n",
       "  <tbody>\n",
       "    <tr>\n",
       "      <th>0</th>\n",
       "      <td>Abschleppdienst und Reparatur Graber Hans</td>\n",
       "      <td>Brennerstraße 5</td>\n",
       "      <td>6150</td>\n",
       "      <td>Steinach am Brenner</td>\n",
       "      <td>AT</td>\n",
       "      <td>+43 664 0020108</td>\n",
       "      <td>436640020108</td>\n",
       "      <td>6640020108</td>\n",
       "    </tr>\n",
       "    <tr>\n",
       "      <th>1</th>\n",
       "      <td>Anhänger Steininger &amp; Partner GmbH</td>\n",
       "      <td>Windhager Straße 22</td>\n",
       "      <td>3931</td>\n",
       "      <td>Schweiggers</td>\n",
       "      <td>AT</td>\n",
       "      <td>/664/3019220</td>\n",
       "      <td>6643019220</td>\n",
       "      <td>6643019220</td>\n",
       "    </tr>\n",
       "    <tr>\n",
       "      <th>2</th>\n",
       "      <td>Täubl Sonnenschutz</td>\n",
       "      <td>Otto-Scharmitzerstr. 24</td>\n",
       "      <td>3464</td>\n",
       "      <td>Goldgeben</td>\n",
       "      <td>AT</td>\n",
       "      <td>Hotline: 676-4429785 (+43)</td>\n",
       "      <td>676442978543</td>\n",
       "      <td>676442978543</td>\n",
       "    </tr>\n",
       "    <tr>\n",
       "      <th>3</th>\n",
       "      <td>Schönhacker Auto- und Fahrradzubehör</td>\n",
       "      <td>Ernest-Thum-Straße 1</td>\n",
       "      <td>3542</td>\n",
       "      <td>Gföhl</td>\n",
       "      <td>AT</td>\n",
       "      <td>+436998521286</td>\n",
       "      <td>436998521286</td>\n",
       "      <td>6998521286</td>\n",
       "    </tr>\n",
       "    <tr>\n",
       "      <th>4</th>\n",
       "      <td>Wuppinger Karosseriebau GmbH</td>\n",
       "      <td>Breitwies 6</td>\n",
       "      <td>5303</td>\n",
       "      <td>Thalgau</td>\n",
       "      <td>AT</td>\n",
       "      <td>+436763066695</td>\n",
       "      <td>436763066695</td>\n",
       "      <td>6763066695</td>\n",
       "    </tr>\n",
       "  </tbody>\n",
       "</table>\n",
       "</div>"
      ],
      "text/plain": [
       "                                       firma                   street   plz  \\\n",
       "0  Abschleppdienst und Reparatur Graber Hans          Brennerstraße 5  6150   \n",
       "1         Anhänger Steininger & Partner GmbH      Windhager Straße 22  3931   \n",
       "2                         Täubl Sonnenschutz  Otto-Scharmitzerstr. 24  3464   \n",
       "3       Schönhacker Auto- und Fahrradzubehör     Ernest-Thum-Straße 1  3542   \n",
       "4               Wuppinger Karosseriebau GmbH              Breitwies 6  5303   \n",
       "\n",
       "                  city country                     telefon telefon_cleaned  \\\n",
       "0  Steinach am Brenner      AT             +43 664 0020108    436640020108   \n",
       "1          Schweiggers      AT                /664/3019220      6643019220   \n",
       "2            Goldgeben      AT  Hotline: 676-4429785 (+43)    676442978543   \n",
       "3                Gföhl      AT               +436998521286    436998521286   \n",
       "4              Thalgau      AT               +436763066695    436763066695   \n",
       "\n",
       "   local_number  \n",
       "0    6640020108  \n",
       "1    6643019220  \n",
       "2  676442978543  \n",
       "3    6998521286  \n",
       "4    6763066695  "
      ]
     },
     "execution_count": 1808,
     "metadata": {},
     "output_type": "execute_result"
    }
   ],
   "source": [
    "at_data.head()"
   ]
  },
  {
   "cell_type": "code",
   "execution_count": null,
   "id": "0521b353-f1c3-4c98-a387-fec1d2c43386",
   "metadata": {},
   "outputs": [],
   "source": []
  },
  {
   "cell_type": "markdown",
   "id": "fa97441a-f9f4-4a68-a3f5-6b9b6f363b08",
   "metadata": {},
   "source": [
    "##### Switzerland"
   ]
  },
  {
   "cell_type": "code",
   "execution_count": 1811,
   "id": "c4c38bed-e92b-40fc-821a-2feec2ae7096",
   "metadata": {
    "tags": []
   },
   "outputs": [],
   "source": [
    "# Remove both '0041' and '41' from the start of the cleaned phone numbers\n",
    "ch_data['local_number'] = ch_data['telefon_cleaned'].str.replace(r'^(0041|41)', '', regex=True)"
   ]
  },
  {
   "cell_type": "code",
   "execution_count": 1813,
   "id": "118b2942-ade3-4c70-8072-8009e2336a5d",
   "metadata": {
    "tags": []
   },
   "outputs": [
    {
     "data": {
      "text/html": [
       "<div>\n",
       "<style scoped>\n",
       "    .dataframe tbody tr th:only-of-type {\n",
       "        vertical-align: middle;\n",
       "    }\n",
       "\n",
       "    .dataframe tbody tr th {\n",
       "        vertical-align: top;\n",
       "    }\n",
       "\n",
       "    .dataframe thead th {\n",
       "        text-align: right;\n",
       "    }\n",
       "</style>\n",
       "<table border=\"1\" class=\"dataframe\">\n",
       "  <thead>\n",
       "    <tr style=\"text-align: right;\">\n",
       "      <th></th>\n",
       "      <th>firma</th>\n",
       "      <th>street</th>\n",
       "      <th>plz</th>\n",
       "      <th>city</th>\n",
       "      <th>country</th>\n",
       "      <th>telefon</th>\n",
       "      <th>telefon_cleaned</th>\n",
       "      <th>local_number</th>\n",
       "    </tr>\n",
       "  </thead>\n",
       "  <tbody>\n",
       "    <tr>\n",
       "      <th>0</th>\n",
       "      <td>Fankhauser AG Huttwil</td>\n",
       "      <td>Walke 1</td>\n",
       "      <td>4938</td>\n",
       "      <td>Rohrbach</td>\n",
       "      <td>CH</td>\n",
       "      <td>300 CALL 3378 / 78</td>\n",
       "      <td>300337878</td>\n",
       "      <td>300337878</td>\n",
       "    </tr>\n",
       "    <tr>\n",
       "      <th>1</th>\n",
       "      <td>TS-Velos GmbH</td>\n",
       "      <td>Jurastrasse 2</td>\n",
       "      <td>4554</td>\n",
       "      <td>Etziken</td>\n",
       "      <td>CH</td>\n",
       "      <td>+41abc5837-1_x001A_54</td>\n",
       "      <td>415837100154</td>\n",
       "      <td>5837100154</td>\n",
       "    </tr>\n",
       "    <tr>\n",
       "      <th>2</th>\n",
       "      <td>Nocera &amp; Strub AG</td>\n",
       "      <td>Hirzenstrasse 1</td>\n",
       "      <td>9244</td>\n",
       "      <td>Niederuzwil</td>\n",
       "      <td>CH</td>\n",
       "      <td>Telefon: 00 037 CALL 9506 / 79</td>\n",
       "      <td>00037950679</td>\n",
       "      <td>00037950679</td>\n",
       "    </tr>\n",
       "    <tr>\n",
       "      <th>3</th>\n",
       "      <td>Druckerei Lutz AG</td>\n",
       "      <td>Hauptstrasse 18</td>\n",
       "      <td>9042</td>\n",
       "      <td>Speicher</td>\n",
       "      <td>CH</td>\n",
       "      <td>0_x0008_0_x001F_4178abc8579-115</td>\n",
       "      <td>00008000141788579115</td>\n",
       "      <td>00008000141788579115</td>\n",
       "    </tr>\n",
       "    <tr>\n",
       "      <th>4</th>\n",
       "      <td>Hch. Borer Kartenverlag AG</td>\n",
       "      <td>Ilbachstrasse 39</td>\n",
       "      <td>4228</td>\n",
       "      <td>Erschwil</td>\n",
       "      <td>CH</td>\n",
       "      <td>0041760352498</td>\n",
       "      <td>0041760352498</td>\n",
       "      <td>760352498</td>\n",
       "    </tr>\n",
       "  </tbody>\n",
       "</table>\n",
       "</div>"
      ],
      "text/plain": [
       "                        firma            street   plz         city country  \\\n",
       "0       Fankhauser AG Huttwil           Walke 1  4938     Rohrbach      CH   \n",
       "1               TS-Velos GmbH     Jurastrasse 2  4554      Etziken      CH   \n",
       "2           Nocera & Strub AG   Hirzenstrasse 1  9244  Niederuzwil      CH   \n",
       "3           Druckerei Lutz AG   Hauptstrasse 18  9042     Speicher      CH   \n",
       "4  Hch. Borer Kartenverlag AG  Ilbachstrasse 39  4228     Erschwil      CH   \n",
       "\n",
       "                           telefon       telefon_cleaned          local_number  \n",
       "0               300 CALL 3378 / 78             300337878             300337878  \n",
       "1            +41abc5837-1_x001A_54          415837100154            5837100154  \n",
       "2   Telefon: 00 037 CALL 9506 / 79           00037950679           00037950679  \n",
       "3  0_x0008_0_x001F_4178abc8579-115  00008000141788579115  00008000141788579115  \n",
       "4                    0041760352498         0041760352498             760352498  "
      ]
     },
     "execution_count": 1813,
     "metadata": {},
     "output_type": "execute_result"
    }
   ],
   "source": [
    "ch_data.head()"
   ]
  },
  {
   "cell_type": "code",
   "execution_count": null,
   "id": "6cb8fbab-70d7-4248-92f6-3e584a409718",
   "metadata": {},
   "outputs": [],
   "source": []
  },
  {
   "cell_type": "markdown",
   "id": "86165c6c-df5f-4cf5-9679-96823f33f24c",
   "metadata": {},
   "source": [
    "##### Mixed"
   ]
  },
  {
   "cell_type": "code",
   "execution_count": 1820,
   "id": "b708fc5e-9ebe-4997-893d-f2012ab6add1",
   "metadata": {
    "tags": []
   },
   "outputs": [],
   "source": [
    "# Remove country code for Germany (49)\n",
    "mixed_data.loc[mixed_data['landesvorwahl'] == 49, 'local_number'] = mixed_data['telefon_cleaned'].str.replace(r'^(0049|49)', '', regex=True)"
   ]
  },
  {
   "cell_type": "code",
   "execution_count": 1822,
   "id": "760c77ba-5118-4063-826b-b8526e9f41ad",
   "metadata": {
    "tags": []
   },
   "outputs": [],
   "source": [
    "# Remove country code for Austria (43)\n",
    "mixed_data.loc[mixed_data['landesvorwahl'] == 43, 'local_number'] = mixed_data['telefon_cleaned'].str.replace(r'^(0043|43)', '', regex=True)"
   ]
  },
  {
   "cell_type": "code",
   "execution_count": 1824,
   "id": "5a58d8a7-0d06-4b7c-8f69-3229f24f54d1",
   "metadata": {
    "tags": []
   },
   "outputs": [],
   "source": [
    "# Remove country code for Switzerland (41)\n",
    "mixed_data.loc[mixed_data['landesvorwahl'] == 41, 'local_number'] = mixed_data['telefon_cleaned'].str.replace(r'^(0041|41)', '', regex=True)"
   ]
  },
  {
   "cell_type": "code",
   "execution_count": null,
   "id": "6d7c0979-73ce-4ee2-8252-4d07cbf09851",
   "metadata": {},
   "outputs": [],
   "source": []
  },
  {
   "cell_type": "code",
   "execution_count": 1834,
   "id": "670c8076-f448-4b42-abc3-d5f66a59b399",
   "metadata": {
    "tags": []
   },
   "outputs": [
    {
     "data": {
      "text/html": [
       "<div>\n",
       "<style scoped>\n",
       "    .dataframe tbody tr th:only-of-type {\n",
       "        vertical-align: middle;\n",
       "    }\n",
       "\n",
       "    .dataframe tbody tr th {\n",
       "        vertical-align: top;\n",
       "    }\n",
       "\n",
       "    .dataframe thead th {\n",
       "        text-align: right;\n",
       "    }\n",
       "</style>\n",
       "<table border=\"1\" class=\"dataframe\">\n",
       "  <thead>\n",
       "    <tr style=\"text-align: right;\">\n",
       "      <th></th>\n",
       "      <th>firma</th>\n",
       "      <th>street</th>\n",
       "      <th>plz</th>\n",
       "      <th>city</th>\n",
       "      <th>landesvorwahl</th>\n",
       "      <th>telefon</th>\n",
       "      <th>anrede</th>\n",
       "      <th>vorname</th>\n",
       "      <th>nachname</th>\n",
       "      <th>telefon_cleaned</th>\n",
       "      <th>local_number</th>\n",
       "    </tr>\n",
       "  </thead>\n",
       "  <tbody>\n",
       "    <tr>\n",
       "      <th>0</th>\n",
       "      <td>Hammurabi Restaurant</td>\n",
       "      <td>Untere Königsstraße</td>\n",
       "      <td>34117</td>\n",
       "      <td>Kassel</td>\n",
       "      <td>49</td>\n",
       "      <td>56128726696.0</td>\n",
       "      <td>NaN</td>\n",
       "      <td>NaN</td>\n",
       "      <td>NaN</td>\n",
       "      <td>561287266960</td>\n",
       "      <td>561287266960</td>\n",
       "    </tr>\n",
       "    <tr>\n",
       "      <th>1</th>\n",
       "      <td>M&amp;M Fahrzeugpflege</td>\n",
       "      <td>Friedrich-Ebert-Straße 9</td>\n",
       "      <td>32339</td>\n",
       "      <td>Espelkamp</td>\n",
       "      <td>49</td>\n",
       "      <td>16095579280.0</td>\n",
       "      <td>NaN</td>\n",
       "      <td>NaN</td>\n",
       "      <td>NaN</td>\n",
       "      <td>160955792800</td>\n",
       "      <td>160955792800</td>\n",
       "    </tr>\n",
       "    <tr>\n",
       "      <th>2</th>\n",
       "      <td>Chic Änderungsschneiderei</td>\n",
       "      <td>Venloer Straße 503</td>\n",
       "      <td>50825</td>\n",
       "      <td>Köln</td>\n",
       "      <td>49</td>\n",
       "      <td>22116933906.0</td>\n",
       "      <td>NaN</td>\n",
       "      <td>NaN</td>\n",
       "      <td>NaN</td>\n",
       "      <td>221169339060</td>\n",
       "      <td>221169339060</td>\n",
       "    </tr>\n",
       "    <tr>\n",
       "      <th>3</th>\n",
       "      <td>Miss Döner</td>\n",
       "      <td>Carl-von-Ossietzky-Platz 1</td>\n",
       "      <td>20099</td>\n",
       "      <td>Hamburg</td>\n",
       "      <td>49</td>\n",
       "      <td>1746528901.0</td>\n",
       "      <td>NaN</td>\n",
       "      <td>NaN</td>\n",
       "      <td>NaN</td>\n",
       "      <td>17465289010</td>\n",
       "      <td>17465289010</td>\n",
       "    </tr>\n",
       "    <tr>\n",
       "      <th>4</th>\n",
       "      <td>Kumpir Haus Ehrenfeld</td>\n",
       "      <td>Venloer Straße 378</td>\n",
       "      <td>50825</td>\n",
       "      <td>Köln</td>\n",
       "      <td>49</td>\n",
       "      <td>15510139521.0</td>\n",
       "      <td>NaN</td>\n",
       "      <td>NaN</td>\n",
       "      <td>NaN</td>\n",
       "      <td>155101395210</td>\n",
       "      <td>155101395210</td>\n",
       "    </tr>\n",
       "  </tbody>\n",
       "</table>\n",
       "</div>"
      ],
      "text/plain": [
       "                       firma                      street    plz       city  \\\n",
       "0       Hammurabi Restaurant       Untere Königsstraße    34117     Kassel   \n",
       "1         M&M Fahrzeugpflege    Friedrich-Ebert-Straße 9  32339  Espelkamp   \n",
       "2  Chic Änderungsschneiderei          Venloer Straße 503  50825       Köln   \n",
       "3                 Miss Döner  Carl-von-Ossietzky-Platz 1  20099    Hamburg   \n",
       "4      Kumpir Haus Ehrenfeld          Venloer Straße 378  50825       Köln   \n",
       "\n",
       "   landesvorwahl        telefon anrede vorname nachname telefon_cleaned  \\\n",
       "0             49  56128726696.0    NaN     NaN      NaN    561287266960   \n",
       "1             49  16095579280.0    NaN     NaN      NaN    160955792800   \n",
       "2             49  22116933906.0    NaN     NaN      NaN    221169339060   \n",
       "3             49   1746528901.0    NaN     NaN      NaN     17465289010   \n",
       "4             49  15510139521.0    NaN     NaN      NaN    155101395210   \n",
       "\n",
       "   local_number  \n",
       "0  561287266960  \n",
       "1  160955792800  \n",
       "2  221169339060  \n",
       "3   17465289010  \n",
       "4  155101395210  "
      ]
     },
     "execution_count": 1834,
     "metadata": {},
     "output_type": "execute_result"
    }
   ],
   "source": [
    "mixed_data.head()"
   ]
  },
  {
   "cell_type": "code",
   "execution_count": null,
   "id": "d1c655d6-6cae-4b59-a8de-d658c6e4d08d",
   "metadata": {},
   "outputs": [],
   "source": []
  },
  {
   "cell_type": "code",
   "execution_count": null,
   "id": "6714fae9-031a-43f6-b453-16520efd7e3e",
   "metadata": {},
   "outputs": [],
   "source": []
  },
  {
   "cell_type": "markdown",
   "id": "468673b9-8789-43a9-a40a-ad38ee3dd2f2",
   "metadata": {},
   "source": [
    "#### 3. Create a Country code Column\n",
    "\n",
    "- here i assign all rows with \"0049\", \"0043\", \"0041\" as specified in the task"
   ]
  },
  {
   "cell_type": "markdown",
   "id": "0415187d-120b-4059-897d-85de4ac63052",
   "metadata": {},
   "source": [
    "##### Germany"
   ]
  },
  {
   "cell_type": "code",
   "execution_count": 1843,
   "id": "7e09aac5-ac13-40f5-bbe2-952e818194e3",
   "metadata": {
    "tags": []
   },
   "outputs": [],
   "source": [
    "# Assign the country code \"0049\" to all rows\n",
    "de_data['country_code'] = '0049'"
   ]
  },
  {
   "cell_type": "code",
   "execution_count": 1845,
   "id": "3787e780-17ec-4db2-9eb6-6de9d420d3c4",
   "metadata": {
    "tags": []
   },
   "outputs": [
    {
     "data": {
      "text/html": [
       "<div>\n",
       "<style scoped>\n",
       "    .dataframe tbody tr th:only-of-type {\n",
       "        vertical-align: middle;\n",
       "    }\n",
       "\n",
       "    .dataframe tbody tr th {\n",
       "        vertical-align: top;\n",
       "    }\n",
       "\n",
       "    .dataframe thead th {\n",
       "        text-align: right;\n",
       "    }\n",
       "</style>\n",
       "<table border=\"1\" class=\"dataframe\">\n",
       "  <thead>\n",
       "    <tr style=\"text-align: right;\">\n",
       "      <th></th>\n",
       "      <th>firma</th>\n",
       "      <th>street</th>\n",
       "      <th>plz</th>\n",
       "      <th>city</th>\n",
       "      <th>country</th>\n",
       "      <th>telefon</th>\n",
       "      <th>telefon_cleaned</th>\n",
       "      <th>local_number</th>\n",
       "      <th>country_code</th>\n",
       "    </tr>\n",
       "  </thead>\n",
       "  <tbody>\n",
       "    <tr>\n",
       "      <th>0</th>\n",
       "      <td>Abschleppdienst Arnolds</td>\n",
       "      <td>Völlesbruchstrasse 19</td>\n",
       "      <td>52152</td>\n",
       "      <td>Simmerath</td>\n",
       "      <td>DE</td>\n",
       "      <td>0049177-8754883</td>\n",
       "      <td>00491778754883</td>\n",
       "      <td>1778754883</td>\n",
       "      <td>0049</td>\n",
       "    </tr>\n",
       "    <tr>\n",
       "      <th>1</th>\n",
       "      <td>AAS-Fink GmbH</td>\n",
       "      <td>Morsbach 39</td>\n",
       "      <td>42857</td>\n",
       "      <td>Remscheid</td>\n",
       "      <td>DE</td>\n",
       "      <td>172.2086056</td>\n",
       "      <td>1722086056</td>\n",
       "      <td>1722086056</td>\n",
       "      <td>0049</td>\n",
       "    </tr>\n",
       "    <tr>\n",
       "      <th>2</th>\n",
       "      <td>Allfolia Deutschland GmbH</td>\n",
       "      <td>Morsbach 39</td>\n",
       "      <td>42857</td>\n",
       "      <td>Remscheid</td>\n",
       "      <td>DE</td>\n",
       "      <td>+491734636476</td>\n",
       "      <td>491734636476</td>\n",
       "      <td>1734636476</td>\n",
       "      <td>0049</td>\n",
       "    </tr>\n",
       "    <tr>\n",
       "      <th>3</th>\n",
       "      <td>Autohaus Hentschel GmbH</td>\n",
       "      <td>Vahrenwalder Str. 141</td>\n",
       "      <td>30165</td>\n",
       "      <td>Hannover</td>\n",
       "      <td>DE</td>\n",
       "      <td>+49_x001D_17_x0011_86221169</td>\n",
       "      <td>4900117001186221169</td>\n",
       "      <td>00117001186221169</td>\n",
       "      <td>0049</td>\n",
       "    </tr>\n",
       "    <tr>\n",
       "      <th>4</th>\n",
       "      <td>Autohaus Schmohl GmbH</td>\n",
       "      <td>Potsdamer Str. 175</td>\n",
       "      <td>14469</td>\n",
       "      <td>Potsdam</td>\n",
       "      <td>DE</td>\n",
       "      <td>0049/160466 6050</td>\n",
       "      <td>00491604666050</td>\n",
       "      <td>1604666050</td>\n",
       "      <td>0049</td>\n",
       "    </tr>\n",
       "  </tbody>\n",
       "</table>\n",
       "</div>"
      ],
      "text/plain": [
       "                       firma                 street    plz       city country  \\\n",
       "0    Abschleppdienst Arnolds  Völlesbruchstrasse 19  52152  Simmerath      DE   \n",
       "1              AAS-Fink GmbH            Morsbach 39  42857  Remscheid      DE   \n",
       "2  Allfolia Deutschland GmbH            Morsbach 39  42857  Remscheid      DE   \n",
       "3    Autohaus Hentschel GmbH  Vahrenwalder Str. 141  30165   Hannover      DE   \n",
       "4      Autohaus Schmohl GmbH     Potsdamer Str. 175  14469    Potsdam      DE   \n",
       "\n",
       "                       telefon      telefon_cleaned       local_number  \\\n",
       "0              0049177-8754883       00491778754883         1778754883   \n",
       "1                  172.2086056           1722086056         1722086056   \n",
       "2                +491734636476         491734636476         1734636476   \n",
       "3  +49_x001D_17_x0011_86221169  4900117001186221169  00117001186221169   \n",
       "4             0049/160466 6050       00491604666050         1604666050   \n",
       "\n",
       "  country_code  \n",
       "0         0049  \n",
       "1         0049  \n",
       "2         0049  \n",
       "3         0049  \n",
       "4         0049  "
      ]
     },
     "execution_count": 1845,
     "metadata": {},
     "output_type": "execute_result"
    }
   ],
   "source": [
    "de_data.head()"
   ]
  },
  {
   "cell_type": "code",
   "execution_count": null,
   "id": "a9e1adbf-e7f5-4611-b5bd-79ce6ba3ae16",
   "metadata": {},
   "outputs": [],
   "source": []
  },
  {
   "cell_type": "markdown",
   "id": "83262609-d1ca-47dc-99e2-b0569d36272d",
   "metadata": {},
   "source": [
    "##### Austria"
   ]
  },
  {
   "cell_type": "code",
   "execution_count": 1847,
   "id": "45154a89-5eca-4e13-8492-7fd33f340c53",
   "metadata": {
    "tags": []
   },
   "outputs": [],
   "source": [
    "# Assign the country code \"0043\" to all rows\n",
    "at_data['country_code'] = '0043'"
   ]
  },
  {
   "cell_type": "code",
   "execution_count": 1849,
   "id": "8c293c1b-3b83-49d9-b6d3-65af1b2943bc",
   "metadata": {
    "tags": []
   },
   "outputs": [
    {
     "data": {
      "text/html": [
       "<div>\n",
       "<style scoped>\n",
       "    .dataframe tbody tr th:only-of-type {\n",
       "        vertical-align: middle;\n",
       "    }\n",
       "\n",
       "    .dataframe tbody tr th {\n",
       "        vertical-align: top;\n",
       "    }\n",
       "\n",
       "    .dataframe thead th {\n",
       "        text-align: right;\n",
       "    }\n",
       "</style>\n",
       "<table border=\"1\" class=\"dataframe\">\n",
       "  <thead>\n",
       "    <tr style=\"text-align: right;\">\n",
       "      <th></th>\n",
       "      <th>firma</th>\n",
       "      <th>street</th>\n",
       "      <th>plz</th>\n",
       "      <th>city</th>\n",
       "      <th>country</th>\n",
       "      <th>telefon</th>\n",
       "      <th>telefon_cleaned</th>\n",
       "      <th>local_number</th>\n",
       "      <th>country_code</th>\n",
       "    </tr>\n",
       "  </thead>\n",
       "  <tbody>\n",
       "    <tr>\n",
       "      <th>0</th>\n",
       "      <td>Abschleppdienst und Reparatur Graber Hans</td>\n",
       "      <td>Brennerstraße 5</td>\n",
       "      <td>6150</td>\n",
       "      <td>Steinach am Brenner</td>\n",
       "      <td>AT</td>\n",
       "      <td>+43 664 0020108</td>\n",
       "      <td>436640020108</td>\n",
       "      <td>6640020108</td>\n",
       "      <td>0043</td>\n",
       "    </tr>\n",
       "    <tr>\n",
       "      <th>1</th>\n",
       "      <td>Anhänger Steininger &amp; Partner GmbH</td>\n",
       "      <td>Windhager Straße 22</td>\n",
       "      <td>3931</td>\n",
       "      <td>Schweiggers</td>\n",
       "      <td>AT</td>\n",
       "      <td>/664/3019220</td>\n",
       "      <td>6643019220</td>\n",
       "      <td>6643019220</td>\n",
       "      <td>0043</td>\n",
       "    </tr>\n",
       "    <tr>\n",
       "      <th>2</th>\n",
       "      <td>Täubl Sonnenschutz</td>\n",
       "      <td>Otto-Scharmitzerstr. 24</td>\n",
       "      <td>3464</td>\n",
       "      <td>Goldgeben</td>\n",
       "      <td>AT</td>\n",
       "      <td>Hotline: 676-4429785 (+43)</td>\n",
       "      <td>676442978543</td>\n",
       "      <td>676442978543</td>\n",
       "      <td>0043</td>\n",
       "    </tr>\n",
       "    <tr>\n",
       "      <th>3</th>\n",
       "      <td>Schönhacker Auto- und Fahrradzubehör</td>\n",
       "      <td>Ernest-Thum-Straße 1</td>\n",
       "      <td>3542</td>\n",
       "      <td>Gföhl</td>\n",
       "      <td>AT</td>\n",
       "      <td>+436998521286</td>\n",
       "      <td>436998521286</td>\n",
       "      <td>6998521286</td>\n",
       "      <td>0043</td>\n",
       "    </tr>\n",
       "    <tr>\n",
       "      <th>4</th>\n",
       "      <td>Wuppinger Karosseriebau GmbH</td>\n",
       "      <td>Breitwies 6</td>\n",
       "      <td>5303</td>\n",
       "      <td>Thalgau</td>\n",
       "      <td>AT</td>\n",
       "      <td>+436763066695</td>\n",
       "      <td>436763066695</td>\n",
       "      <td>6763066695</td>\n",
       "      <td>0043</td>\n",
       "    </tr>\n",
       "  </tbody>\n",
       "</table>\n",
       "</div>"
      ],
      "text/plain": [
       "                                       firma                   street   plz  \\\n",
       "0  Abschleppdienst und Reparatur Graber Hans          Brennerstraße 5  6150   \n",
       "1         Anhänger Steininger & Partner GmbH      Windhager Straße 22  3931   \n",
       "2                         Täubl Sonnenschutz  Otto-Scharmitzerstr. 24  3464   \n",
       "3       Schönhacker Auto- und Fahrradzubehör     Ernest-Thum-Straße 1  3542   \n",
       "4               Wuppinger Karosseriebau GmbH              Breitwies 6  5303   \n",
       "\n",
       "                  city country                     telefon telefon_cleaned  \\\n",
       "0  Steinach am Brenner      AT             +43 664 0020108    436640020108   \n",
       "1          Schweiggers      AT                /664/3019220      6643019220   \n",
       "2            Goldgeben      AT  Hotline: 676-4429785 (+43)    676442978543   \n",
       "3                Gföhl      AT               +436998521286    436998521286   \n",
       "4              Thalgau      AT               +436763066695    436763066695   \n",
       "\n",
       "   local_number country_code  \n",
       "0    6640020108         0043  \n",
       "1    6643019220         0043  \n",
       "2  676442978543         0043  \n",
       "3    6998521286         0043  \n",
       "4    6763066695         0043  "
      ]
     },
     "execution_count": 1849,
     "metadata": {},
     "output_type": "execute_result"
    }
   ],
   "source": [
    "at_data.head()"
   ]
  },
  {
   "cell_type": "code",
   "execution_count": null,
   "id": "f01b48a6-3819-4902-ac85-f484eeaa7cd1",
   "metadata": {},
   "outputs": [],
   "source": []
  },
  {
   "cell_type": "markdown",
   "id": "daa9e4ed-6216-45ba-a484-8de15968dca1",
   "metadata": {},
   "source": [
    "##### Switzerland"
   ]
  },
  {
   "cell_type": "code",
   "execution_count": 1852,
   "id": "cae23c1d-8019-4fdf-b3aa-f1587930cc71",
   "metadata": {
    "tags": []
   },
   "outputs": [],
   "source": [
    "# Assign the country code \"0041\" to all rows\n",
    "ch_data['country_code'] = '0041'"
   ]
  },
  {
   "cell_type": "code",
   "execution_count": 1854,
   "id": "71ad334f-1ab5-48f0-929a-2a0a5899d939",
   "metadata": {
    "tags": []
   },
   "outputs": [
    {
     "data": {
      "text/html": [
       "<div>\n",
       "<style scoped>\n",
       "    .dataframe tbody tr th:only-of-type {\n",
       "        vertical-align: middle;\n",
       "    }\n",
       "\n",
       "    .dataframe tbody tr th {\n",
       "        vertical-align: top;\n",
       "    }\n",
       "\n",
       "    .dataframe thead th {\n",
       "        text-align: right;\n",
       "    }\n",
       "</style>\n",
       "<table border=\"1\" class=\"dataframe\">\n",
       "  <thead>\n",
       "    <tr style=\"text-align: right;\">\n",
       "      <th></th>\n",
       "      <th>firma</th>\n",
       "      <th>street</th>\n",
       "      <th>plz</th>\n",
       "      <th>city</th>\n",
       "      <th>country</th>\n",
       "      <th>telefon</th>\n",
       "      <th>telefon_cleaned</th>\n",
       "      <th>local_number</th>\n",
       "      <th>country_code</th>\n",
       "    </tr>\n",
       "  </thead>\n",
       "  <tbody>\n",
       "    <tr>\n",
       "      <th>0</th>\n",
       "      <td>Fankhauser AG Huttwil</td>\n",
       "      <td>Walke 1</td>\n",
       "      <td>4938</td>\n",
       "      <td>Rohrbach</td>\n",
       "      <td>CH</td>\n",
       "      <td>300 CALL 3378 / 78</td>\n",
       "      <td>300337878</td>\n",
       "      <td>300337878</td>\n",
       "      <td>0041</td>\n",
       "    </tr>\n",
       "    <tr>\n",
       "      <th>1</th>\n",
       "      <td>TS-Velos GmbH</td>\n",
       "      <td>Jurastrasse 2</td>\n",
       "      <td>4554</td>\n",
       "      <td>Etziken</td>\n",
       "      <td>CH</td>\n",
       "      <td>+41abc5837-1_x001A_54</td>\n",
       "      <td>415837100154</td>\n",
       "      <td>5837100154</td>\n",
       "      <td>0041</td>\n",
       "    </tr>\n",
       "    <tr>\n",
       "      <th>2</th>\n",
       "      <td>Nocera &amp; Strub AG</td>\n",
       "      <td>Hirzenstrasse 1</td>\n",
       "      <td>9244</td>\n",
       "      <td>Niederuzwil</td>\n",
       "      <td>CH</td>\n",
       "      <td>Telefon: 00 037 CALL 9506 / 79</td>\n",
       "      <td>00037950679</td>\n",
       "      <td>00037950679</td>\n",
       "      <td>0041</td>\n",
       "    </tr>\n",
       "    <tr>\n",
       "      <th>3</th>\n",
       "      <td>Druckerei Lutz AG</td>\n",
       "      <td>Hauptstrasse 18</td>\n",
       "      <td>9042</td>\n",
       "      <td>Speicher</td>\n",
       "      <td>CH</td>\n",
       "      <td>0_x0008_0_x001F_4178abc8579-115</td>\n",
       "      <td>00008000141788579115</td>\n",
       "      <td>00008000141788579115</td>\n",
       "      <td>0041</td>\n",
       "    </tr>\n",
       "    <tr>\n",
       "      <th>4</th>\n",
       "      <td>Hch. Borer Kartenverlag AG</td>\n",
       "      <td>Ilbachstrasse 39</td>\n",
       "      <td>4228</td>\n",
       "      <td>Erschwil</td>\n",
       "      <td>CH</td>\n",
       "      <td>0041760352498</td>\n",
       "      <td>0041760352498</td>\n",
       "      <td>760352498</td>\n",
       "      <td>0041</td>\n",
       "    </tr>\n",
       "  </tbody>\n",
       "</table>\n",
       "</div>"
      ],
      "text/plain": [
       "                        firma            street   plz         city country  \\\n",
       "0       Fankhauser AG Huttwil           Walke 1  4938     Rohrbach      CH   \n",
       "1               TS-Velos GmbH     Jurastrasse 2  4554      Etziken      CH   \n",
       "2           Nocera & Strub AG   Hirzenstrasse 1  9244  Niederuzwil      CH   \n",
       "3           Druckerei Lutz AG   Hauptstrasse 18  9042     Speicher      CH   \n",
       "4  Hch. Borer Kartenverlag AG  Ilbachstrasse 39  4228     Erschwil      CH   \n",
       "\n",
       "                           telefon       telefon_cleaned  \\\n",
       "0               300 CALL 3378 / 78             300337878   \n",
       "1            +41abc5837-1_x001A_54          415837100154   \n",
       "2   Telefon: 00 037 CALL 9506 / 79           00037950679   \n",
       "3  0_x0008_0_x001F_4178abc8579-115  00008000141788579115   \n",
       "4                    0041760352498         0041760352498   \n",
       "\n",
       "           local_number country_code  \n",
       "0             300337878         0041  \n",
       "1            5837100154         0041  \n",
       "2           00037950679         0041  \n",
       "3  00008000141788579115         0041  \n",
       "4             760352498         0041  "
      ]
     },
     "execution_count": 1854,
     "metadata": {},
     "output_type": "execute_result"
    }
   ],
   "source": [
    "ch_data.head()"
   ]
  },
  {
   "cell_type": "code",
   "execution_count": null,
   "id": "20923805-3709-4a74-be05-42ddd8beb3d0",
   "metadata": {},
   "outputs": [],
   "source": []
  },
  {
   "cell_type": "markdown",
   "id": "2b6c3739-62d9-484b-b6c6-3f0b257ad7ca",
   "metadata": {},
   "source": [
    "##### Mixed"
   ]
  },
  {
   "cell_type": "code",
   "execution_count": 1857,
   "id": "5458dcb1-c1c1-432f-8e0a-4a17ba5adb8f",
   "metadata": {
    "tags": []
   },
   "outputs": [],
   "source": [
    "# Create the country code column based on the landesvorwahl to match each country\n",
    "mixed_data['country_code'] = mixed_data['landesvorwahl'].map({49: '0049', 43: '0043', 41: '0041'})"
   ]
  },
  {
   "cell_type": "code",
   "execution_count": 1863,
   "id": "94fb9c1a-b449-4dcb-ad0f-1d00f25d9c54",
   "metadata": {
    "tags": []
   },
   "outputs": [
    {
     "data": {
      "text/html": [
       "<div>\n",
       "<style scoped>\n",
       "    .dataframe tbody tr th:only-of-type {\n",
       "        vertical-align: middle;\n",
       "    }\n",
       "\n",
       "    .dataframe tbody tr th {\n",
       "        vertical-align: top;\n",
       "    }\n",
       "\n",
       "    .dataframe thead th {\n",
       "        text-align: right;\n",
       "    }\n",
       "</style>\n",
       "<table border=\"1\" class=\"dataframe\">\n",
       "  <thead>\n",
       "    <tr style=\"text-align: right;\">\n",
       "      <th></th>\n",
       "      <th>firma</th>\n",
       "      <th>street</th>\n",
       "      <th>plz</th>\n",
       "      <th>city</th>\n",
       "      <th>landesvorwahl</th>\n",
       "      <th>telefon</th>\n",
       "      <th>anrede</th>\n",
       "      <th>vorname</th>\n",
       "      <th>nachname</th>\n",
       "      <th>telefon_cleaned</th>\n",
       "      <th>local_number</th>\n",
       "      <th>country_code</th>\n",
       "    </tr>\n",
       "  </thead>\n",
       "  <tbody>\n",
       "    <tr>\n",
       "      <th>0</th>\n",
       "      <td>Hammurabi Restaurant</td>\n",
       "      <td>Untere Königsstraße</td>\n",
       "      <td>34117</td>\n",
       "      <td>Kassel</td>\n",
       "      <td>49</td>\n",
       "      <td>56128726696.0</td>\n",
       "      <td>NaN</td>\n",
       "      <td>NaN</td>\n",
       "      <td>NaN</td>\n",
       "      <td>561287266960</td>\n",
       "      <td>561287266960</td>\n",
       "      <td>0049</td>\n",
       "    </tr>\n",
       "    <tr>\n",
       "      <th>1</th>\n",
       "      <td>M&amp;M Fahrzeugpflege</td>\n",
       "      <td>Friedrich-Ebert-Straße 9</td>\n",
       "      <td>32339</td>\n",
       "      <td>Espelkamp</td>\n",
       "      <td>49</td>\n",
       "      <td>16095579280.0</td>\n",
       "      <td>NaN</td>\n",
       "      <td>NaN</td>\n",
       "      <td>NaN</td>\n",
       "      <td>160955792800</td>\n",
       "      <td>160955792800</td>\n",
       "      <td>0049</td>\n",
       "    </tr>\n",
       "    <tr>\n",
       "      <th>2</th>\n",
       "      <td>Chic Änderungsschneiderei</td>\n",
       "      <td>Venloer Straße 503</td>\n",
       "      <td>50825</td>\n",
       "      <td>Köln</td>\n",
       "      <td>49</td>\n",
       "      <td>22116933906.0</td>\n",
       "      <td>NaN</td>\n",
       "      <td>NaN</td>\n",
       "      <td>NaN</td>\n",
       "      <td>221169339060</td>\n",
       "      <td>221169339060</td>\n",
       "      <td>0049</td>\n",
       "    </tr>\n",
       "    <tr>\n",
       "      <th>3</th>\n",
       "      <td>Miss Döner</td>\n",
       "      <td>Carl-von-Ossietzky-Platz 1</td>\n",
       "      <td>20099</td>\n",
       "      <td>Hamburg</td>\n",
       "      <td>49</td>\n",
       "      <td>1746528901.0</td>\n",
       "      <td>NaN</td>\n",
       "      <td>NaN</td>\n",
       "      <td>NaN</td>\n",
       "      <td>17465289010</td>\n",
       "      <td>17465289010</td>\n",
       "      <td>0049</td>\n",
       "    </tr>\n",
       "    <tr>\n",
       "      <th>4</th>\n",
       "      <td>Kumpir Haus Ehrenfeld</td>\n",
       "      <td>Venloer Straße 378</td>\n",
       "      <td>50825</td>\n",
       "      <td>Köln</td>\n",
       "      <td>49</td>\n",
       "      <td>15510139521.0</td>\n",
       "      <td>NaN</td>\n",
       "      <td>NaN</td>\n",
       "      <td>NaN</td>\n",
       "      <td>155101395210</td>\n",
       "      <td>155101395210</td>\n",
       "      <td>0049</td>\n",
       "    </tr>\n",
       "  </tbody>\n",
       "</table>\n",
       "</div>"
      ],
      "text/plain": [
       "                       firma                      street    plz       city  \\\n",
       "0       Hammurabi Restaurant       Untere Königsstraße    34117     Kassel   \n",
       "1         M&M Fahrzeugpflege    Friedrich-Ebert-Straße 9  32339  Espelkamp   \n",
       "2  Chic Änderungsschneiderei          Venloer Straße 503  50825       Köln   \n",
       "3                 Miss Döner  Carl-von-Ossietzky-Platz 1  20099    Hamburg   \n",
       "4      Kumpir Haus Ehrenfeld          Venloer Straße 378  50825       Köln   \n",
       "\n",
       "   landesvorwahl        telefon anrede vorname nachname telefon_cleaned  \\\n",
       "0             49  56128726696.0    NaN     NaN      NaN    561287266960   \n",
       "1             49  16095579280.0    NaN     NaN      NaN    160955792800   \n",
       "2             49  22116933906.0    NaN     NaN      NaN    221169339060   \n",
       "3             49   1746528901.0    NaN     NaN      NaN     17465289010   \n",
       "4             49  15510139521.0    NaN     NaN      NaN    155101395210   \n",
       "\n",
       "   local_number country_code  \n",
       "0  561287266960         0049  \n",
       "1  160955792800         0049  \n",
       "2  221169339060         0049  \n",
       "3   17465289010         0049  \n",
       "4  155101395210         0049  "
      ]
     },
     "execution_count": 1863,
     "metadata": {},
     "output_type": "execute_result"
    }
   ],
   "source": [
    "mixed_data.head()"
   ]
  },
  {
   "cell_type": "code",
   "execution_count": null,
   "id": "d19f7852-e813-43cf-ae2e-1e94ed88e5ce",
   "metadata": {},
   "outputs": [],
   "source": []
  },
  {
   "cell_type": "code",
   "execution_count": null,
   "id": "7dc65d01-882a-4ddd-b6c1-6da2ca03f218",
   "metadata": {},
   "outputs": [],
   "source": []
  },
  {
   "cell_type": "markdown",
   "id": "3ab4cfa1-b240-4e7e-b8c5-eae3bfcb7e40",
   "metadata": {},
   "source": [
    "#### 4. Get cleaned dataframe with the columns in the correct order\n",
    "\n",
    "- I do not need the 'telefon' and 'telefon_cleaned' columns since i have already extracted the data i need from them"
   ]
  },
  {
   "cell_type": "markdown",
   "id": "b3f99b5e-1633-48f0-b3f1-3e6c60c59776",
   "metadata": {},
   "source": [
    "##### Germany"
   ]
  },
  {
   "cell_type": "code",
   "execution_count": 1865,
   "id": "489ed84d-95c4-401a-aabe-069f8ec713e2",
   "metadata": {
    "tags": []
   },
   "outputs": [],
   "source": [
    "# Reorder the columns and remove 'telefon' and 'telefon_cleaned'\n",
    "reordered_data_de = de_data[['firma', 'street', 'plz', 'city', 'country', 'country_code', 'local_number']]"
   ]
  },
  {
   "cell_type": "code",
   "execution_count": 1869,
   "id": "8f1cad26-0708-45f4-aa64-5f151fd7d938",
   "metadata": {
    "tags": []
   },
   "outputs": [
    {
     "data": {
      "text/html": [
       "<div>\n",
       "<style scoped>\n",
       "    .dataframe tbody tr th:only-of-type {\n",
       "        vertical-align: middle;\n",
       "    }\n",
       "\n",
       "    .dataframe tbody tr th {\n",
       "        vertical-align: top;\n",
       "    }\n",
       "\n",
       "    .dataframe thead th {\n",
       "        text-align: right;\n",
       "    }\n",
       "</style>\n",
       "<table border=\"1\" class=\"dataframe\">\n",
       "  <thead>\n",
       "    <tr style=\"text-align: right;\">\n",
       "      <th></th>\n",
       "      <th>firma</th>\n",
       "      <th>street</th>\n",
       "      <th>plz</th>\n",
       "      <th>city</th>\n",
       "      <th>country</th>\n",
       "      <th>country_code</th>\n",
       "      <th>local_number</th>\n",
       "    </tr>\n",
       "  </thead>\n",
       "  <tbody>\n",
       "    <tr>\n",
       "      <th>0</th>\n",
       "      <td>Abschleppdienst Arnolds</td>\n",
       "      <td>Völlesbruchstrasse 19</td>\n",
       "      <td>52152</td>\n",
       "      <td>Simmerath</td>\n",
       "      <td>DE</td>\n",
       "      <td>0049</td>\n",
       "      <td>1778754883</td>\n",
       "    </tr>\n",
       "    <tr>\n",
       "      <th>1</th>\n",
       "      <td>AAS-Fink GmbH</td>\n",
       "      <td>Morsbach 39</td>\n",
       "      <td>42857</td>\n",
       "      <td>Remscheid</td>\n",
       "      <td>DE</td>\n",
       "      <td>0049</td>\n",
       "      <td>1722086056</td>\n",
       "    </tr>\n",
       "    <tr>\n",
       "      <th>2</th>\n",
       "      <td>Allfolia Deutschland GmbH</td>\n",
       "      <td>Morsbach 39</td>\n",
       "      <td>42857</td>\n",
       "      <td>Remscheid</td>\n",
       "      <td>DE</td>\n",
       "      <td>0049</td>\n",
       "      <td>1734636476</td>\n",
       "    </tr>\n",
       "    <tr>\n",
       "      <th>3</th>\n",
       "      <td>Autohaus Hentschel GmbH</td>\n",
       "      <td>Vahrenwalder Str. 141</td>\n",
       "      <td>30165</td>\n",
       "      <td>Hannover</td>\n",
       "      <td>DE</td>\n",
       "      <td>0049</td>\n",
       "      <td>00117001186221169</td>\n",
       "    </tr>\n",
       "    <tr>\n",
       "      <th>4</th>\n",
       "      <td>Autohaus Schmohl GmbH</td>\n",
       "      <td>Potsdamer Str. 175</td>\n",
       "      <td>14469</td>\n",
       "      <td>Potsdam</td>\n",
       "      <td>DE</td>\n",
       "      <td>0049</td>\n",
       "      <td>1604666050</td>\n",
       "    </tr>\n",
       "  </tbody>\n",
       "</table>\n",
       "</div>"
      ],
      "text/plain": [
       "                       firma                 street    plz       city country  \\\n",
       "0    Abschleppdienst Arnolds  Völlesbruchstrasse 19  52152  Simmerath      DE   \n",
       "1              AAS-Fink GmbH            Morsbach 39  42857  Remscheid      DE   \n",
       "2  Allfolia Deutschland GmbH            Morsbach 39  42857  Remscheid      DE   \n",
       "3    Autohaus Hentschel GmbH  Vahrenwalder Str. 141  30165   Hannover      DE   \n",
       "4      Autohaus Schmohl GmbH     Potsdamer Str. 175  14469    Potsdam      DE   \n",
       "\n",
       "  country_code       local_number  \n",
       "0         0049         1778754883  \n",
       "1         0049         1722086056  \n",
       "2         0049         1734636476  \n",
       "3         0049  00117001186221169  \n",
       "4         0049         1604666050  "
      ]
     },
     "execution_count": 1869,
     "metadata": {},
     "output_type": "execute_result"
    }
   ],
   "source": [
    "reordered_data_de.head()"
   ]
  },
  {
   "cell_type": "code",
   "execution_count": null,
   "id": "e5b5bb59-8a65-4dae-9ddb-cd454cd2c2d5",
   "metadata": {},
   "outputs": [],
   "source": []
  },
  {
   "cell_type": "markdown",
   "id": "ab395a47-4791-4985-ab7f-60b107a2225c",
   "metadata": {},
   "source": [
    "##### Austria"
   ]
  },
  {
   "cell_type": "code",
   "execution_count": 1873,
   "id": "d9eade57-ede9-426b-8110-da774be27a38",
   "metadata": {
    "tags": []
   },
   "outputs": [],
   "source": [
    "# Reorder the columns and remove 'telefon' and 'telefon_cleaned'\n",
    "reordered_data_at = at_data[['firma', 'street', 'plz', 'city', 'country', 'country_code', 'local_number']]"
   ]
  },
  {
   "cell_type": "code",
   "execution_count": 1875,
   "id": "68826ee9-a734-4b8e-98ef-1e7374d21927",
   "metadata": {
    "tags": []
   },
   "outputs": [
    {
     "data": {
      "text/html": [
       "<div>\n",
       "<style scoped>\n",
       "    .dataframe tbody tr th:only-of-type {\n",
       "        vertical-align: middle;\n",
       "    }\n",
       "\n",
       "    .dataframe tbody tr th {\n",
       "        vertical-align: top;\n",
       "    }\n",
       "\n",
       "    .dataframe thead th {\n",
       "        text-align: right;\n",
       "    }\n",
       "</style>\n",
       "<table border=\"1\" class=\"dataframe\">\n",
       "  <thead>\n",
       "    <tr style=\"text-align: right;\">\n",
       "      <th></th>\n",
       "      <th>firma</th>\n",
       "      <th>street</th>\n",
       "      <th>plz</th>\n",
       "      <th>city</th>\n",
       "      <th>country</th>\n",
       "      <th>country_code</th>\n",
       "      <th>local_number</th>\n",
       "    </tr>\n",
       "  </thead>\n",
       "  <tbody>\n",
       "    <tr>\n",
       "      <th>0</th>\n",
       "      <td>Abschleppdienst und Reparatur Graber Hans</td>\n",
       "      <td>Brennerstraße 5</td>\n",
       "      <td>6150</td>\n",
       "      <td>Steinach am Brenner</td>\n",
       "      <td>AT</td>\n",
       "      <td>0043</td>\n",
       "      <td>6640020108</td>\n",
       "    </tr>\n",
       "    <tr>\n",
       "      <th>1</th>\n",
       "      <td>Anhänger Steininger &amp; Partner GmbH</td>\n",
       "      <td>Windhager Straße 22</td>\n",
       "      <td>3931</td>\n",
       "      <td>Schweiggers</td>\n",
       "      <td>AT</td>\n",
       "      <td>0043</td>\n",
       "      <td>6643019220</td>\n",
       "    </tr>\n",
       "    <tr>\n",
       "      <th>2</th>\n",
       "      <td>Täubl Sonnenschutz</td>\n",
       "      <td>Otto-Scharmitzerstr. 24</td>\n",
       "      <td>3464</td>\n",
       "      <td>Goldgeben</td>\n",
       "      <td>AT</td>\n",
       "      <td>0043</td>\n",
       "      <td>676442978543</td>\n",
       "    </tr>\n",
       "    <tr>\n",
       "      <th>3</th>\n",
       "      <td>Schönhacker Auto- und Fahrradzubehör</td>\n",
       "      <td>Ernest-Thum-Straße 1</td>\n",
       "      <td>3542</td>\n",
       "      <td>Gföhl</td>\n",
       "      <td>AT</td>\n",
       "      <td>0043</td>\n",
       "      <td>6998521286</td>\n",
       "    </tr>\n",
       "    <tr>\n",
       "      <th>4</th>\n",
       "      <td>Wuppinger Karosseriebau GmbH</td>\n",
       "      <td>Breitwies 6</td>\n",
       "      <td>5303</td>\n",
       "      <td>Thalgau</td>\n",
       "      <td>AT</td>\n",
       "      <td>0043</td>\n",
       "      <td>6763066695</td>\n",
       "    </tr>\n",
       "  </tbody>\n",
       "</table>\n",
       "</div>"
      ],
      "text/plain": [
       "                                       firma                   street   plz  \\\n",
       "0  Abschleppdienst und Reparatur Graber Hans          Brennerstraße 5  6150   \n",
       "1         Anhänger Steininger & Partner GmbH      Windhager Straße 22  3931   \n",
       "2                         Täubl Sonnenschutz  Otto-Scharmitzerstr. 24  3464   \n",
       "3       Schönhacker Auto- und Fahrradzubehör     Ernest-Thum-Straße 1  3542   \n",
       "4               Wuppinger Karosseriebau GmbH              Breitwies 6  5303   \n",
       "\n",
       "                  city country country_code  local_number  \n",
       "0  Steinach am Brenner      AT         0043    6640020108  \n",
       "1          Schweiggers      AT         0043    6643019220  \n",
       "2            Goldgeben      AT         0043  676442978543  \n",
       "3                Gföhl      AT         0043    6998521286  \n",
       "4              Thalgau      AT         0043    6763066695  "
      ]
     },
     "execution_count": 1875,
     "metadata": {},
     "output_type": "execute_result"
    }
   ],
   "source": [
    "reordered_data_at.head()"
   ]
  },
  {
   "cell_type": "code",
   "execution_count": null,
   "id": "4a7fa1fa-163e-43b3-afda-d74dc02d3664",
   "metadata": {},
   "outputs": [],
   "source": []
  },
  {
   "cell_type": "markdown",
   "id": "b2da57c4-fa34-4a3c-b8f5-c25621ddbc70",
   "metadata": {},
   "source": [
    "##### Switzerland"
   ]
  },
  {
   "cell_type": "code",
   "execution_count": 1878,
   "id": "69221ff0-5331-458b-af15-a130dc7bafd0",
   "metadata": {
    "tags": []
   },
   "outputs": [],
   "source": [
    "# Reorder the columns and remove 'telefon' and 'telefon_cleaned'\n",
    "reordered_data_ch = ch_data[['firma', 'street', 'plz', 'city', 'country', 'country_code', 'local_number']]"
   ]
  },
  {
   "cell_type": "code",
   "execution_count": 1880,
   "id": "b16be128-3753-463b-ab9b-822d4f87d58a",
   "metadata": {
    "tags": []
   },
   "outputs": [
    {
     "data": {
      "text/html": [
       "<div>\n",
       "<style scoped>\n",
       "    .dataframe tbody tr th:only-of-type {\n",
       "        vertical-align: middle;\n",
       "    }\n",
       "\n",
       "    .dataframe tbody tr th {\n",
       "        vertical-align: top;\n",
       "    }\n",
       "\n",
       "    .dataframe thead th {\n",
       "        text-align: right;\n",
       "    }\n",
       "</style>\n",
       "<table border=\"1\" class=\"dataframe\">\n",
       "  <thead>\n",
       "    <tr style=\"text-align: right;\">\n",
       "      <th></th>\n",
       "      <th>firma</th>\n",
       "      <th>street</th>\n",
       "      <th>plz</th>\n",
       "      <th>city</th>\n",
       "      <th>country</th>\n",
       "      <th>country_code</th>\n",
       "      <th>local_number</th>\n",
       "    </tr>\n",
       "  </thead>\n",
       "  <tbody>\n",
       "    <tr>\n",
       "      <th>0</th>\n",
       "      <td>Fankhauser AG Huttwil</td>\n",
       "      <td>Walke 1</td>\n",
       "      <td>4938</td>\n",
       "      <td>Rohrbach</td>\n",
       "      <td>CH</td>\n",
       "      <td>0041</td>\n",
       "      <td>300337878</td>\n",
       "    </tr>\n",
       "    <tr>\n",
       "      <th>1</th>\n",
       "      <td>TS-Velos GmbH</td>\n",
       "      <td>Jurastrasse 2</td>\n",
       "      <td>4554</td>\n",
       "      <td>Etziken</td>\n",
       "      <td>CH</td>\n",
       "      <td>0041</td>\n",
       "      <td>5837100154</td>\n",
       "    </tr>\n",
       "    <tr>\n",
       "      <th>2</th>\n",
       "      <td>Nocera &amp; Strub AG</td>\n",
       "      <td>Hirzenstrasse 1</td>\n",
       "      <td>9244</td>\n",
       "      <td>Niederuzwil</td>\n",
       "      <td>CH</td>\n",
       "      <td>0041</td>\n",
       "      <td>00037950679</td>\n",
       "    </tr>\n",
       "    <tr>\n",
       "      <th>3</th>\n",
       "      <td>Druckerei Lutz AG</td>\n",
       "      <td>Hauptstrasse 18</td>\n",
       "      <td>9042</td>\n",
       "      <td>Speicher</td>\n",
       "      <td>CH</td>\n",
       "      <td>0041</td>\n",
       "      <td>00008000141788579115</td>\n",
       "    </tr>\n",
       "    <tr>\n",
       "      <th>4</th>\n",
       "      <td>Hch. Borer Kartenverlag AG</td>\n",
       "      <td>Ilbachstrasse 39</td>\n",
       "      <td>4228</td>\n",
       "      <td>Erschwil</td>\n",
       "      <td>CH</td>\n",
       "      <td>0041</td>\n",
       "      <td>760352498</td>\n",
       "    </tr>\n",
       "  </tbody>\n",
       "</table>\n",
       "</div>"
      ],
      "text/plain": [
       "                        firma            street   plz         city country  \\\n",
       "0       Fankhauser AG Huttwil           Walke 1  4938     Rohrbach      CH   \n",
       "1               TS-Velos GmbH     Jurastrasse 2  4554      Etziken      CH   \n",
       "2           Nocera & Strub AG   Hirzenstrasse 1  9244  Niederuzwil      CH   \n",
       "3           Druckerei Lutz AG   Hauptstrasse 18  9042     Speicher      CH   \n",
       "4  Hch. Borer Kartenverlag AG  Ilbachstrasse 39  4228     Erschwil      CH   \n",
       "\n",
       "  country_code          local_number  \n",
       "0         0041             300337878  \n",
       "1         0041            5837100154  \n",
       "2         0041           00037950679  \n",
       "3         0041  00008000141788579115  \n",
       "4         0041             760352498  "
      ]
     },
     "execution_count": 1880,
     "metadata": {},
     "output_type": "execute_result"
    }
   ],
   "source": [
    "reordered_data_ch.head()"
   ]
  },
  {
   "cell_type": "code",
   "execution_count": null,
   "id": "a69c3c2e-fb65-462f-9b42-0f638f3f70e7",
   "metadata": {},
   "outputs": [],
   "source": []
  },
  {
   "cell_type": "markdown",
   "id": "76a99ba0-f279-451c-a535-1a5c8e70b7c5",
   "metadata": {},
   "source": [
    "##### Mixed"
   ]
  },
  {
   "cell_type": "code",
   "execution_count": null,
   "id": "469d72c6-16ef-4e2b-a9cd-63c345770d14",
   "metadata": {},
   "outputs": [],
   "source": [
    "# Adding additional columns from the Mixed dataset \n",
    "#reordered_mixed = mixed_data[['firma', 'street', 'plz', 'city', 'landesvorwahl', 'country_code', 'local_number', 'anrede', 'vorname', 'nachname']]\n"
   ]
  },
  {
   "cell_type": "code",
   "execution_count": 1884,
   "id": "397f6d07-83d6-4290-ae45-a8758d3c12bb",
   "metadata": {
    "tags": []
   },
   "outputs": [],
   "source": [
    "# In order to not have conflicts during merging, I am creating a country column \n",
    "mixed_data['country'] = mixed_data['landesvorwahl'].map({49:'DE', 43:'AT', 41:'CH'})"
   ]
  },
  {
   "cell_type": "code",
   "execution_count": 1886,
   "id": "a48e9d45-c43c-45e0-bce3-78f78dbde68f",
   "metadata": {
    "tags": []
   },
   "outputs": [
    {
     "data": {
      "text/html": [
       "<div>\n",
       "<style scoped>\n",
       "    .dataframe tbody tr th:only-of-type {\n",
       "        vertical-align: middle;\n",
       "    }\n",
       "\n",
       "    .dataframe tbody tr th {\n",
       "        vertical-align: top;\n",
       "    }\n",
       "\n",
       "    .dataframe thead th {\n",
       "        text-align: right;\n",
       "    }\n",
       "</style>\n",
       "<table border=\"1\" class=\"dataframe\">\n",
       "  <thead>\n",
       "    <tr style=\"text-align: right;\">\n",
       "      <th></th>\n",
       "      <th>firma</th>\n",
       "      <th>street</th>\n",
       "      <th>plz</th>\n",
       "      <th>city</th>\n",
       "      <th>landesvorwahl</th>\n",
       "      <th>telefon</th>\n",
       "      <th>anrede</th>\n",
       "      <th>vorname</th>\n",
       "      <th>nachname</th>\n",
       "      <th>telefon_cleaned</th>\n",
       "      <th>local_number</th>\n",
       "      <th>country_code</th>\n",
       "      <th>country</th>\n",
       "    </tr>\n",
       "  </thead>\n",
       "  <tbody>\n",
       "    <tr>\n",
       "      <th>0</th>\n",
       "      <td>Hammurabi Restaurant</td>\n",
       "      <td>Untere Königsstraße</td>\n",
       "      <td>34117</td>\n",
       "      <td>Kassel</td>\n",
       "      <td>49</td>\n",
       "      <td>56128726696.0</td>\n",
       "      <td>NaN</td>\n",
       "      <td>NaN</td>\n",
       "      <td>NaN</td>\n",
       "      <td>561287266960</td>\n",
       "      <td>561287266960</td>\n",
       "      <td>0049</td>\n",
       "      <td>DE</td>\n",
       "    </tr>\n",
       "    <tr>\n",
       "      <th>1</th>\n",
       "      <td>M&amp;M Fahrzeugpflege</td>\n",
       "      <td>Friedrich-Ebert-Straße 9</td>\n",
       "      <td>32339</td>\n",
       "      <td>Espelkamp</td>\n",
       "      <td>49</td>\n",
       "      <td>16095579280.0</td>\n",
       "      <td>NaN</td>\n",
       "      <td>NaN</td>\n",
       "      <td>NaN</td>\n",
       "      <td>160955792800</td>\n",
       "      <td>160955792800</td>\n",
       "      <td>0049</td>\n",
       "      <td>DE</td>\n",
       "    </tr>\n",
       "    <tr>\n",
       "      <th>2</th>\n",
       "      <td>Chic Änderungsschneiderei</td>\n",
       "      <td>Venloer Straße 503</td>\n",
       "      <td>50825</td>\n",
       "      <td>Köln</td>\n",
       "      <td>49</td>\n",
       "      <td>22116933906.0</td>\n",
       "      <td>NaN</td>\n",
       "      <td>NaN</td>\n",
       "      <td>NaN</td>\n",
       "      <td>221169339060</td>\n",
       "      <td>221169339060</td>\n",
       "      <td>0049</td>\n",
       "      <td>DE</td>\n",
       "    </tr>\n",
       "    <tr>\n",
       "      <th>3</th>\n",
       "      <td>Miss Döner</td>\n",
       "      <td>Carl-von-Ossietzky-Platz 1</td>\n",
       "      <td>20099</td>\n",
       "      <td>Hamburg</td>\n",
       "      <td>49</td>\n",
       "      <td>1746528901.0</td>\n",
       "      <td>NaN</td>\n",
       "      <td>NaN</td>\n",
       "      <td>NaN</td>\n",
       "      <td>17465289010</td>\n",
       "      <td>17465289010</td>\n",
       "      <td>0049</td>\n",
       "      <td>DE</td>\n",
       "    </tr>\n",
       "    <tr>\n",
       "      <th>4</th>\n",
       "      <td>Kumpir Haus Ehrenfeld</td>\n",
       "      <td>Venloer Straße 378</td>\n",
       "      <td>50825</td>\n",
       "      <td>Köln</td>\n",
       "      <td>49</td>\n",
       "      <td>15510139521.0</td>\n",
       "      <td>NaN</td>\n",
       "      <td>NaN</td>\n",
       "      <td>NaN</td>\n",
       "      <td>155101395210</td>\n",
       "      <td>155101395210</td>\n",
       "      <td>0049</td>\n",
       "      <td>DE</td>\n",
       "    </tr>\n",
       "  </tbody>\n",
       "</table>\n",
       "</div>"
      ],
      "text/plain": [
       "                       firma                      street    plz       city  \\\n",
       "0       Hammurabi Restaurant       Untere Königsstraße    34117     Kassel   \n",
       "1         M&M Fahrzeugpflege    Friedrich-Ebert-Straße 9  32339  Espelkamp   \n",
       "2  Chic Änderungsschneiderei          Venloer Straße 503  50825       Köln   \n",
       "3                 Miss Döner  Carl-von-Ossietzky-Platz 1  20099    Hamburg   \n",
       "4      Kumpir Haus Ehrenfeld          Venloer Straße 378  50825       Köln   \n",
       "\n",
       "   landesvorwahl        telefon anrede vorname nachname telefon_cleaned  \\\n",
       "0             49  56128726696.0    NaN     NaN      NaN    561287266960   \n",
       "1             49  16095579280.0    NaN     NaN      NaN    160955792800   \n",
       "2             49  22116933906.0    NaN     NaN      NaN    221169339060   \n",
       "3             49   1746528901.0    NaN     NaN      NaN     17465289010   \n",
       "4             49  15510139521.0    NaN     NaN      NaN    155101395210   \n",
       "\n",
       "   local_number country_code country  \n",
       "0  561287266960         0049      DE  \n",
       "1  160955792800         0049      DE  \n",
       "2  221169339060         0049      DE  \n",
       "3   17465289010         0049      DE  \n",
       "4  155101395210         0049      DE  "
      ]
     },
     "execution_count": 1886,
     "metadata": {},
     "output_type": "execute_result"
    }
   ],
   "source": [
    "mixed_data.head()"
   ]
  },
  {
   "cell_type": "code",
   "execution_count": 1888,
   "id": "2a7e534f-b425-4e8b-95d7-3085e3e59284",
   "metadata": {
    "tags": []
   },
   "outputs": [],
   "source": [
    "# drop the landesvorwahl, it is not needed anymore\n",
    "mixed_data.drop('landesvorwahl', axis=1, inplace=True)"
   ]
  },
  {
   "cell_type": "code",
   "execution_count": 1890,
   "id": "f5de4d93-c34b-459a-bb0c-bb7bcb448b8c",
   "metadata": {
    "tags": []
   },
   "outputs": [
    {
     "data": {
      "text/html": [
       "<div>\n",
       "<style scoped>\n",
       "    .dataframe tbody tr th:only-of-type {\n",
       "        vertical-align: middle;\n",
       "    }\n",
       "\n",
       "    .dataframe tbody tr th {\n",
       "        vertical-align: top;\n",
       "    }\n",
       "\n",
       "    .dataframe thead th {\n",
       "        text-align: right;\n",
       "    }\n",
       "</style>\n",
       "<table border=\"1\" class=\"dataframe\">\n",
       "  <thead>\n",
       "    <tr style=\"text-align: right;\">\n",
       "      <th></th>\n",
       "      <th>firma</th>\n",
       "      <th>street</th>\n",
       "      <th>plz</th>\n",
       "      <th>city</th>\n",
       "      <th>telefon</th>\n",
       "      <th>anrede</th>\n",
       "      <th>vorname</th>\n",
       "      <th>nachname</th>\n",
       "      <th>telefon_cleaned</th>\n",
       "      <th>local_number</th>\n",
       "      <th>country_code</th>\n",
       "      <th>country</th>\n",
       "    </tr>\n",
       "  </thead>\n",
       "  <tbody>\n",
       "    <tr>\n",
       "      <th>0</th>\n",
       "      <td>Hammurabi Restaurant</td>\n",
       "      <td>Untere Königsstraße</td>\n",
       "      <td>34117</td>\n",
       "      <td>Kassel</td>\n",
       "      <td>56128726696.0</td>\n",
       "      <td>NaN</td>\n",
       "      <td>NaN</td>\n",
       "      <td>NaN</td>\n",
       "      <td>561287266960</td>\n",
       "      <td>561287266960</td>\n",
       "      <td>0049</td>\n",
       "      <td>DE</td>\n",
       "    </tr>\n",
       "    <tr>\n",
       "      <th>1</th>\n",
       "      <td>M&amp;M Fahrzeugpflege</td>\n",
       "      <td>Friedrich-Ebert-Straße 9</td>\n",
       "      <td>32339</td>\n",
       "      <td>Espelkamp</td>\n",
       "      <td>16095579280.0</td>\n",
       "      <td>NaN</td>\n",
       "      <td>NaN</td>\n",
       "      <td>NaN</td>\n",
       "      <td>160955792800</td>\n",
       "      <td>160955792800</td>\n",
       "      <td>0049</td>\n",
       "      <td>DE</td>\n",
       "    </tr>\n",
       "    <tr>\n",
       "      <th>2</th>\n",
       "      <td>Chic Änderungsschneiderei</td>\n",
       "      <td>Venloer Straße 503</td>\n",
       "      <td>50825</td>\n",
       "      <td>Köln</td>\n",
       "      <td>22116933906.0</td>\n",
       "      <td>NaN</td>\n",
       "      <td>NaN</td>\n",
       "      <td>NaN</td>\n",
       "      <td>221169339060</td>\n",
       "      <td>221169339060</td>\n",
       "      <td>0049</td>\n",
       "      <td>DE</td>\n",
       "    </tr>\n",
       "    <tr>\n",
       "      <th>3</th>\n",
       "      <td>Miss Döner</td>\n",
       "      <td>Carl-von-Ossietzky-Platz 1</td>\n",
       "      <td>20099</td>\n",
       "      <td>Hamburg</td>\n",
       "      <td>1746528901.0</td>\n",
       "      <td>NaN</td>\n",
       "      <td>NaN</td>\n",
       "      <td>NaN</td>\n",
       "      <td>17465289010</td>\n",
       "      <td>17465289010</td>\n",
       "      <td>0049</td>\n",
       "      <td>DE</td>\n",
       "    </tr>\n",
       "    <tr>\n",
       "      <th>4</th>\n",
       "      <td>Kumpir Haus Ehrenfeld</td>\n",
       "      <td>Venloer Straße 378</td>\n",
       "      <td>50825</td>\n",
       "      <td>Köln</td>\n",
       "      <td>15510139521.0</td>\n",
       "      <td>NaN</td>\n",
       "      <td>NaN</td>\n",
       "      <td>NaN</td>\n",
       "      <td>155101395210</td>\n",
       "      <td>155101395210</td>\n",
       "      <td>0049</td>\n",
       "      <td>DE</td>\n",
       "    </tr>\n",
       "  </tbody>\n",
       "</table>\n",
       "</div>"
      ],
      "text/plain": [
       "                       firma                      street    plz       city  \\\n",
       "0       Hammurabi Restaurant       Untere Königsstraße    34117     Kassel   \n",
       "1         M&M Fahrzeugpflege    Friedrich-Ebert-Straße 9  32339  Espelkamp   \n",
       "2  Chic Änderungsschneiderei          Venloer Straße 503  50825       Köln   \n",
       "3                 Miss Döner  Carl-von-Ossietzky-Platz 1  20099    Hamburg   \n",
       "4      Kumpir Haus Ehrenfeld          Venloer Straße 378  50825       Köln   \n",
       "\n",
       "         telefon anrede vorname nachname telefon_cleaned  local_number  \\\n",
       "0  56128726696.0    NaN     NaN      NaN    561287266960  561287266960   \n",
       "1  16095579280.0    NaN     NaN      NaN    160955792800  160955792800   \n",
       "2  22116933906.0    NaN     NaN      NaN    221169339060  221169339060   \n",
       "3   1746528901.0    NaN     NaN      NaN     17465289010   17465289010   \n",
       "4  15510139521.0    NaN     NaN      NaN    155101395210  155101395210   \n",
       "\n",
       "  country_code country  \n",
       "0         0049      DE  \n",
       "1         0049      DE  \n",
       "2         0049      DE  \n",
       "3         0049      DE  \n",
       "4         0049      DE  "
      ]
     },
     "execution_count": 1890,
     "metadata": {},
     "output_type": "execute_result"
    }
   ],
   "source": [
    "mixed_data.head()"
   ]
  },
  {
   "cell_type": "code",
   "execution_count": 1892,
   "id": "5ba0d3a5-cd7f-4e59-bc7b-68c8368fd07c",
   "metadata": {
    "tags": []
   },
   "outputs": [],
   "source": [
    "# Now i rearrange the order of the columns to match the rest of the other datasets\n",
    "reordered_data_mixed = mixed_data[['firma', 'street', 'plz', 'city', 'country', 'country_code', 'local_number', 'anrede', 'vorname', 'nachname']]\n"
   ]
  },
  {
   "cell_type": "code",
   "execution_count": 1894,
   "id": "f3829a75-54b3-4f74-883f-426f2fbca01a",
   "metadata": {
    "tags": []
   },
   "outputs": [
    {
     "data": {
      "text/html": [
       "<div>\n",
       "<style scoped>\n",
       "    .dataframe tbody tr th:only-of-type {\n",
       "        vertical-align: middle;\n",
       "    }\n",
       "\n",
       "    .dataframe tbody tr th {\n",
       "        vertical-align: top;\n",
       "    }\n",
       "\n",
       "    .dataframe thead th {\n",
       "        text-align: right;\n",
       "    }\n",
       "</style>\n",
       "<table border=\"1\" class=\"dataframe\">\n",
       "  <thead>\n",
       "    <tr style=\"text-align: right;\">\n",
       "      <th></th>\n",
       "      <th>firma</th>\n",
       "      <th>street</th>\n",
       "      <th>plz</th>\n",
       "      <th>city</th>\n",
       "      <th>country</th>\n",
       "      <th>country_code</th>\n",
       "      <th>local_number</th>\n",
       "      <th>anrede</th>\n",
       "      <th>vorname</th>\n",
       "      <th>nachname</th>\n",
       "    </tr>\n",
       "  </thead>\n",
       "  <tbody>\n",
       "    <tr>\n",
       "      <th>0</th>\n",
       "      <td>Hammurabi Restaurant</td>\n",
       "      <td>Untere Königsstraße</td>\n",
       "      <td>34117</td>\n",
       "      <td>Kassel</td>\n",
       "      <td>DE</td>\n",
       "      <td>0049</td>\n",
       "      <td>561287266960</td>\n",
       "      <td>NaN</td>\n",
       "      <td>NaN</td>\n",
       "      <td>NaN</td>\n",
       "    </tr>\n",
       "    <tr>\n",
       "      <th>1</th>\n",
       "      <td>M&amp;M Fahrzeugpflege</td>\n",
       "      <td>Friedrich-Ebert-Straße 9</td>\n",
       "      <td>32339</td>\n",
       "      <td>Espelkamp</td>\n",
       "      <td>DE</td>\n",
       "      <td>0049</td>\n",
       "      <td>160955792800</td>\n",
       "      <td>NaN</td>\n",
       "      <td>NaN</td>\n",
       "      <td>NaN</td>\n",
       "    </tr>\n",
       "    <tr>\n",
       "      <th>2</th>\n",
       "      <td>Chic Änderungsschneiderei</td>\n",
       "      <td>Venloer Straße 503</td>\n",
       "      <td>50825</td>\n",
       "      <td>Köln</td>\n",
       "      <td>DE</td>\n",
       "      <td>0049</td>\n",
       "      <td>221169339060</td>\n",
       "      <td>NaN</td>\n",
       "      <td>NaN</td>\n",
       "      <td>NaN</td>\n",
       "    </tr>\n",
       "    <tr>\n",
       "      <th>3</th>\n",
       "      <td>Miss Döner</td>\n",
       "      <td>Carl-von-Ossietzky-Platz 1</td>\n",
       "      <td>20099</td>\n",
       "      <td>Hamburg</td>\n",
       "      <td>DE</td>\n",
       "      <td>0049</td>\n",
       "      <td>17465289010</td>\n",
       "      <td>NaN</td>\n",
       "      <td>NaN</td>\n",
       "      <td>NaN</td>\n",
       "    </tr>\n",
       "    <tr>\n",
       "      <th>4</th>\n",
       "      <td>Kumpir Haus Ehrenfeld</td>\n",
       "      <td>Venloer Straße 378</td>\n",
       "      <td>50825</td>\n",
       "      <td>Köln</td>\n",
       "      <td>DE</td>\n",
       "      <td>0049</td>\n",
       "      <td>155101395210</td>\n",
       "      <td>NaN</td>\n",
       "      <td>NaN</td>\n",
       "      <td>NaN</td>\n",
       "    </tr>\n",
       "  </tbody>\n",
       "</table>\n",
       "</div>"
      ],
      "text/plain": [
       "                       firma                      street    plz       city  \\\n",
       "0       Hammurabi Restaurant       Untere Königsstraße    34117     Kassel   \n",
       "1         M&M Fahrzeugpflege    Friedrich-Ebert-Straße 9  32339  Espelkamp   \n",
       "2  Chic Änderungsschneiderei          Venloer Straße 503  50825       Köln   \n",
       "3                 Miss Döner  Carl-von-Ossietzky-Platz 1  20099    Hamburg   \n",
       "4      Kumpir Haus Ehrenfeld          Venloer Straße 378  50825       Köln   \n",
       "\n",
       "  country country_code  local_number anrede vorname nachname  \n",
       "0      DE         0049  561287266960    NaN     NaN      NaN  \n",
       "1      DE         0049  160955792800    NaN     NaN      NaN  \n",
       "2      DE         0049  221169339060    NaN     NaN      NaN  \n",
       "3      DE         0049   17465289010    NaN     NaN      NaN  \n",
       "4      DE         0049  155101395210    NaN     NaN      NaN  "
      ]
     },
     "execution_count": 1894,
     "metadata": {},
     "output_type": "execute_result"
    }
   ],
   "source": [
    "reordered_data_mixed.head()"
   ]
  },
  {
   "cell_type": "code",
   "execution_count": null,
   "id": "bc5a8cb9-8e4e-42bc-85a1-5ae11c077212",
   "metadata": {},
   "outputs": [],
   "source": []
  },
  {
   "cell_type": "code",
   "execution_count": null,
   "id": "3be37182-05a0-492a-b437-b18c74f32398",
   "metadata": {},
   "outputs": [],
   "source": []
  },
  {
   "cell_type": "markdown",
   "id": "f5c8d82b-800d-4b68-b339-35395b92a9e4",
   "metadata": {},
   "source": [
    "#### 5. Remove any leading zeros in the local number"
   ]
  },
  {
   "cell_type": "markdown",
   "id": "45e8e649-7074-42c7-ab54-9fac9e90a277",
   "metadata": {},
   "source": [
    "##### Germany"
   ]
  },
  {
   "cell_type": "code",
   "execution_count": 1898,
   "id": "36fcb2b8-eaee-469d-9903-51a688063a65",
   "metadata": {
    "tags": []
   },
   "outputs": [],
   "source": [
    "# Remove leading zeros from the local number using .loc to avoid the warning\n",
    "reordered_data_de.loc[:, 'local_number'] = reordered_data_de['local_number'].str.lstrip('0')\n"
   ]
  },
  {
   "cell_type": "code",
   "execution_count": 1902,
   "id": "93c66976-5026-449f-9e6c-356784aa7fde",
   "metadata": {
    "tags": []
   },
   "outputs": [
    {
     "data": {
      "text/html": [
       "<div>\n",
       "<style scoped>\n",
       "    .dataframe tbody tr th:only-of-type {\n",
       "        vertical-align: middle;\n",
       "    }\n",
       "\n",
       "    .dataframe tbody tr th {\n",
       "        vertical-align: top;\n",
       "    }\n",
       "\n",
       "    .dataframe thead th {\n",
       "        text-align: right;\n",
       "    }\n",
       "</style>\n",
       "<table border=\"1\" class=\"dataframe\">\n",
       "  <thead>\n",
       "    <tr style=\"text-align: right;\">\n",
       "      <th></th>\n",
       "      <th>firma</th>\n",
       "      <th>street</th>\n",
       "      <th>plz</th>\n",
       "      <th>city</th>\n",
       "      <th>country</th>\n",
       "      <th>country_code</th>\n",
       "      <th>local_number</th>\n",
       "    </tr>\n",
       "  </thead>\n",
       "  <tbody>\n",
       "    <tr>\n",
       "      <th>8</th>\n",
       "      <td>Autohaus Siegmar GmbH</td>\n",
       "      <td>Anton-Erhardt-Straße 5</td>\n",
       "      <td>9117</td>\n",
       "      <td>Chemnitz</td>\n",
       "      <td>DE</td>\n",
       "      <td>0049</td>\n",
       "      <td>100044917900089703167</td>\n",
       "    </tr>\n",
       "    <tr>\n",
       "      <th>511</th>\n",
       "      <td>Naturkosmetikfachgeschäft, Natural Beauty</td>\n",
       "      <td>Rödergasse 5</td>\n",
       "      <td>91541</td>\n",
       "      <td>Rothenburg ob der Tauber</td>\n",
       "      <td>DE</td>\n",
       "      <td>0049</td>\n",
       "      <td>1752485665</td>\n",
       "    </tr>\n",
       "    <tr>\n",
       "      <th>248</th>\n",
       "      <td>Käskoung Stub’n</td>\n",
       "      <td>Poppenreuther Straße 6</td>\n",
       "      <td>90419</td>\n",
       "      <td>Nürnberg</td>\n",
       "      <td>DE</td>\n",
       "      <td>0049</td>\n",
       "      <td>1786551593</td>\n",
       "    </tr>\n",
       "    <tr>\n",
       "      <th>313</th>\n",
       "      <td>VSB Versicherungsservice Bantel</td>\n",
       "      <td>Furtbergstr. 106</td>\n",
       "      <td>71665</td>\n",
       "      <td>Vaihingen</td>\n",
       "      <td>DE</td>\n",
       "      <td>0049</td>\n",
       "      <td>571779066239</td>\n",
       "    </tr>\n",
       "    <tr>\n",
       "      <th>479</th>\n",
       "      <td>Agentur für Saisonprodukte Best Season GmbH</td>\n",
       "      <td>Gutenbergstr.1</td>\n",
       "      <td>31157</td>\n",
       "      <td>Sarstedt</td>\n",
       "      <td>DE</td>\n",
       "      <td>0049</td>\n",
       "      <td>1766933301</td>\n",
       "    </tr>\n",
       "    <tr>\n",
       "      <th>...</th>\n",
       "      <td>...</td>\n",
       "      <td>...</td>\n",
       "      <td>...</td>\n",
       "      <td>...</td>\n",
       "      <td>...</td>\n",
       "      <td>...</td>\n",
       "      <td>...</td>\n",
       "    </tr>\n",
       "    <tr>\n",
       "      <th>284</th>\n",
       "      <td>Ausbildungsstall Jochen Leicht, Inhaber: Joche...</td>\n",
       "      <td>Eisendorferstraße 21</td>\n",
       "      <td>85567</td>\n",
       "      <td>Grafing</td>\n",
       "      <td>DE</td>\n",
       "      <td>0049</td>\n",
       "      <td>1524588703</td>\n",
       "    </tr>\n",
       "    <tr>\n",
       "      <th>770</th>\n",
       "      <td>Exalack GmbH</td>\n",
       "      <td>Industriestrasse 52</td>\n",
       "      <td>8112</td>\n",
       "      <td>Otelfingen</td>\n",
       "      <td>DE</td>\n",
       "      <td>0049</td>\n",
       "      <td>941526342474</td>\n",
       "    </tr>\n",
       "    <tr>\n",
       "      <th>686</th>\n",
       "      <td>Verputzer- und Malermeisterbetrieb Walter Dietz</td>\n",
       "      <td>Zehntstrasse 16</td>\n",
       "      <td>97618</td>\n",
       "      <td>Strahlungen</td>\n",
       "      <td>DE</td>\n",
       "      <td>0049</td>\n",
       "      <td>1746690463</td>\n",
       "    </tr>\n",
       "    <tr>\n",
       "      <th>236</th>\n",
       "      <td>Bohlen &amp; Tammling GmbH &amp; Co KG</td>\n",
       "      <td>Heisfelder Str. 161</td>\n",
       "      <td>26789</td>\n",
       "      <td>Leer</td>\n",
       "      <td>DE</td>\n",
       "      <td>0049</td>\n",
       "      <td>1602104553</td>\n",
       "    </tr>\n",
       "    <tr>\n",
       "      <th>716</th>\n",
       "      <td>Schreinerei Simbeck</td>\n",
       "      <td>Grub 4</td>\n",
       "      <td>83737</td>\n",
       "      <td>Irschenberg</td>\n",
       "      <td>DE</td>\n",
       "      <td>0049</td>\n",
       "      <td>1771959356</td>\n",
       "    </tr>\n",
       "  </tbody>\n",
       "</table>\n",
       "<p>100 rows × 7 columns</p>\n",
       "</div>"
      ],
      "text/plain": [
       "                                                 firma  \\\n",
       "8                                Autohaus Siegmar GmbH   \n",
       "511          Naturkosmetikfachgeschäft, Natural Beauty   \n",
       "248                                    Käskoung Stub’n   \n",
       "313                    VSB Versicherungsservice Bantel   \n",
       "479        Agentur für Saisonprodukte Best Season GmbH   \n",
       "..                                                 ...   \n",
       "284  Ausbildungsstall Jochen Leicht, Inhaber: Joche...   \n",
       "770                                       Exalack GmbH   \n",
       "686    Verputzer- und Malermeisterbetrieb Walter Dietz   \n",
       "236                     Bohlen & Tammling GmbH & Co KG   \n",
       "716                                Schreinerei Simbeck   \n",
       "\n",
       "                     street    plz                      city country  \\\n",
       "8    Anton-Erhardt-Straße 5   9117                  Chemnitz      DE   \n",
       "511            Rödergasse 5  91541  Rothenburg ob der Tauber      DE   \n",
       "248  Poppenreuther Straße 6  90419                  Nürnberg      DE   \n",
       "313        Furtbergstr. 106  71665                 Vaihingen      DE   \n",
       "479          Gutenbergstr.1  31157                  Sarstedt      DE   \n",
       "..                      ...    ...                       ...     ...   \n",
       "284    Eisendorferstraße 21  85567                   Grafing      DE   \n",
       "770     Industriestrasse 52   8112                Otelfingen      DE   \n",
       "686         Zehntstrasse 16  97618               Strahlungen      DE   \n",
       "236     Heisfelder Str. 161  26789                      Leer      DE   \n",
       "716                  Grub 4  83737               Irschenberg      DE   \n",
       "\n",
       "    country_code           local_number  \n",
       "8           0049  100044917900089703167  \n",
       "511         0049             1752485665  \n",
       "248         0049             1786551593  \n",
       "313         0049           571779066239  \n",
       "479         0049             1766933301  \n",
       "..           ...                    ...  \n",
       "284         0049             1524588703  \n",
       "770         0049           941526342474  \n",
       "686         0049             1746690463  \n",
       "236         0049             1602104553  \n",
       "716         0049             1771959356  \n",
       "\n",
       "[100 rows x 7 columns]"
      ]
     },
     "execution_count": 1902,
     "metadata": {},
     "output_type": "execute_result"
    }
   ],
   "source": [
    "reordered_data_de.sample(100)"
   ]
  },
  {
   "cell_type": "code",
   "execution_count": null,
   "id": "fa7edd09-7ddf-4035-91e6-d9bb4f29320d",
   "metadata": {},
   "outputs": [],
   "source": []
  },
  {
   "cell_type": "markdown",
   "id": "5bb2df9a-9ea1-459c-9b2d-ab801e04a89a",
   "metadata": {},
   "source": [
    "##### Austria"
   ]
  },
  {
   "cell_type": "code",
   "execution_count": 1904,
   "id": "83d27034-2520-4381-96b3-bf1affd53bca",
   "metadata": {
    "tags": []
   },
   "outputs": [],
   "source": [
    "# Remove leading zeros from the local number using .loc to avoid the warning\n",
    "reordered_data_at.loc[:, 'local_number'] = reordered_data_at['local_number'].str.lstrip('0')"
   ]
  },
  {
   "cell_type": "code",
   "execution_count": 1906,
   "id": "ed7b22cd-e5cb-42d9-b815-b6924334df1d",
   "metadata": {
    "tags": []
   },
   "outputs": [
    {
     "data": {
      "text/html": [
       "<div>\n",
       "<style scoped>\n",
       "    .dataframe tbody tr th:only-of-type {\n",
       "        vertical-align: middle;\n",
       "    }\n",
       "\n",
       "    .dataframe tbody tr th {\n",
       "        vertical-align: top;\n",
       "    }\n",
       "\n",
       "    .dataframe thead th {\n",
       "        text-align: right;\n",
       "    }\n",
       "</style>\n",
       "<table border=\"1\" class=\"dataframe\">\n",
       "  <thead>\n",
       "    <tr style=\"text-align: right;\">\n",
       "      <th></th>\n",
       "      <th>firma</th>\n",
       "      <th>street</th>\n",
       "      <th>plz</th>\n",
       "      <th>city</th>\n",
       "      <th>country</th>\n",
       "      <th>country_code</th>\n",
       "      <th>local_number</th>\n",
       "    </tr>\n",
       "  </thead>\n",
       "  <tbody>\n",
       "    <tr>\n",
       "      <th>0</th>\n",
       "      <td>Abschleppdienst und Reparatur Graber Hans</td>\n",
       "      <td>Brennerstraße 5</td>\n",
       "      <td>6150</td>\n",
       "      <td>Steinach am Brenner</td>\n",
       "      <td>AT</td>\n",
       "      <td>0043</td>\n",
       "      <td>6640020108</td>\n",
       "    </tr>\n",
       "    <tr>\n",
       "      <th>1</th>\n",
       "      <td>Anhänger Steininger &amp; Partner GmbH</td>\n",
       "      <td>Windhager Straße 22</td>\n",
       "      <td>3931</td>\n",
       "      <td>Schweiggers</td>\n",
       "      <td>AT</td>\n",
       "      <td>0043</td>\n",
       "      <td>6643019220</td>\n",
       "    </tr>\n",
       "    <tr>\n",
       "      <th>2</th>\n",
       "      <td>Täubl Sonnenschutz</td>\n",
       "      <td>Otto-Scharmitzerstr. 24</td>\n",
       "      <td>3464</td>\n",
       "      <td>Goldgeben</td>\n",
       "      <td>AT</td>\n",
       "      <td>0043</td>\n",
       "      <td>676442978543</td>\n",
       "    </tr>\n",
       "    <tr>\n",
       "      <th>3</th>\n",
       "      <td>Schönhacker Auto- und Fahrradzubehör</td>\n",
       "      <td>Ernest-Thum-Straße 1</td>\n",
       "      <td>3542</td>\n",
       "      <td>Gföhl</td>\n",
       "      <td>AT</td>\n",
       "      <td>0043</td>\n",
       "      <td>6998521286</td>\n",
       "    </tr>\n",
       "    <tr>\n",
       "      <th>4</th>\n",
       "      <td>Wuppinger Karosseriebau GmbH</td>\n",
       "      <td>Breitwies 6</td>\n",
       "      <td>5303</td>\n",
       "      <td>Thalgau</td>\n",
       "      <td>AT</td>\n",
       "      <td>0043</td>\n",
       "      <td>6763066695</td>\n",
       "    </tr>\n",
       "  </tbody>\n",
       "</table>\n",
       "</div>"
      ],
      "text/plain": [
       "                                       firma                   street   plz  \\\n",
       "0  Abschleppdienst und Reparatur Graber Hans          Brennerstraße 5  6150   \n",
       "1         Anhänger Steininger & Partner GmbH      Windhager Straße 22  3931   \n",
       "2                         Täubl Sonnenschutz  Otto-Scharmitzerstr. 24  3464   \n",
       "3       Schönhacker Auto- und Fahrradzubehör     Ernest-Thum-Straße 1  3542   \n",
       "4               Wuppinger Karosseriebau GmbH              Breitwies 6  5303   \n",
       "\n",
       "                  city country country_code  local_number  \n",
       "0  Steinach am Brenner      AT         0043    6640020108  \n",
       "1          Schweiggers      AT         0043    6643019220  \n",
       "2            Goldgeben      AT         0043  676442978543  \n",
       "3                Gföhl      AT         0043    6998521286  \n",
       "4              Thalgau      AT         0043    6763066695  "
      ]
     },
     "execution_count": 1906,
     "metadata": {},
     "output_type": "execute_result"
    }
   ],
   "source": [
    "reordered_data_at.head()"
   ]
  },
  {
   "cell_type": "code",
   "execution_count": null,
   "id": "37ae52cc-bfde-4e54-8a41-c82ee1ad15a2",
   "metadata": {},
   "outputs": [],
   "source": []
  },
  {
   "cell_type": "markdown",
   "id": "f707a929-7065-404a-ae95-5840233917ac",
   "metadata": {},
   "source": [
    "##### Switzerland"
   ]
  },
  {
   "cell_type": "code",
   "execution_count": 1909,
   "id": "fb98641c-bc51-45a7-bd59-b73321a3dddc",
   "metadata": {
    "tags": []
   },
   "outputs": [],
   "source": [
    "# Remove leading zeros from the local number using .loc to avoid the warning\n",
    "reordered_data_ch.loc[:, 'local_number'] = reordered_data_ch['local_number'].str.lstrip('0')"
   ]
  },
  {
   "cell_type": "code",
   "execution_count": 1911,
   "id": "9260826b-6519-4a73-92de-4f895cd2c7d6",
   "metadata": {
    "tags": []
   },
   "outputs": [
    {
     "data": {
      "text/html": [
       "<div>\n",
       "<style scoped>\n",
       "    .dataframe tbody tr th:only-of-type {\n",
       "        vertical-align: middle;\n",
       "    }\n",
       "\n",
       "    .dataframe tbody tr th {\n",
       "        vertical-align: top;\n",
       "    }\n",
       "\n",
       "    .dataframe thead th {\n",
       "        text-align: right;\n",
       "    }\n",
       "</style>\n",
       "<table border=\"1\" class=\"dataframe\">\n",
       "  <thead>\n",
       "    <tr style=\"text-align: right;\">\n",
       "      <th></th>\n",
       "      <th>firma</th>\n",
       "      <th>street</th>\n",
       "      <th>plz</th>\n",
       "      <th>city</th>\n",
       "      <th>country</th>\n",
       "      <th>country_code</th>\n",
       "      <th>local_number</th>\n",
       "    </tr>\n",
       "  </thead>\n",
       "  <tbody>\n",
       "    <tr>\n",
       "      <th>0</th>\n",
       "      <td>Fankhauser AG Huttwil</td>\n",
       "      <td>Walke 1</td>\n",
       "      <td>4938</td>\n",
       "      <td>Rohrbach</td>\n",
       "      <td>CH</td>\n",
       "      <td>0041</td>\n",
       "      <td>300337878</td>\n",
       "    </tr>\n",
       "    <tr>\n",
       "      <th>1</th>\n",
       "      <td>TS-Velos GmbH</td>\n",
       "      <td>Jurastrasse 2</td>\n",
       "      <td>4554</td>\n",
       "      <td>Etziken</td>\n",
       "      <td>CH</td>\n",
       "      <td>0041</td>\n",
       "      <td>5837100154</td>\n",
       "    </tr>\n",
       "    <tr>\n",
       "      <th>2</th>\n",
       "      <td>Nocera &amp; Strub AG</td>\n",
       "      <td>Hirzenstrasse 1</td>\n",
       "      <td>9244</td>\n",
       "      <td>Niederuzwil</td>\n",
       "      <td>CH</td>\n",
       "      <td>0041</td>\n",
       "      <td>37950679</td>\n",
       "    </tr>\n",
       "    <tr>\n",
       "      <th>3</th>\n",
       "      <td>Druckerei Lutz AG</td>\n",
       "      <td>Hauptstrasse 18</td>\n",
       "      <td>9042</td>\n",
       "      <td>Speicher</td>\n",
       "      <td>CH</td>\n",
       "      <td>0041</td>\n",
       "      <td>8000141788579115</td>\n",
       "    </tr>\n",
       "    <tr>\n",
       "      <th>4</th>\n",
       "      <td>Hch. Borer Kartenverlag AG</td>\n",
       "      <td>Ilbachstrasse 39</td>\n",
       "      <td>4228</td>\n",
       "      <td>Erschwil</td>\n",
       "      <td>CH</td>\n",
       "      <td>0041</td>\n",
       "      <td>760352498</td>\n",
       "    </tr>\n",
       "  </tbody>\n",
       "</table>\n",
       "</div>"
      ],
      "text/plain": [
       "                        firma            street   plz         city country  \\\n",
       "0       Fankhauser AG Huttwil           Walke 1  4938     Rohrbach      CH   \n",
       "1               TS-Velos GmbH     Jurastrasse 2  4554      Etziken      CH   \n",
       "2           Nocera & Strub AG   Hirzenstrasse 1  9244  Niederuzwil      CH   \n",
       "3           Druckerei Lutz AG   Hauptstrasse 18  9042     Speicher      CH   \n",
       "4  Hch. Borer Kartenverlag AG  Ilbachstrasse 39  4228     Erschwil      CH   \n",
       "\n",
       "  country_code      local_number  \n",
       "0         0041         300337878  \n",
       "1         0041        5837100154  \n",
       "2         0041          37950679  \n",
       "3         0041  8000141788579115  \n",
       "4         0041         760352498  "
      ]
     },
     "execution_count": 1911,
     "metadata": {},
     "output_type": "execute_result"
    }
   ],
   "source": [
    "reordered_data_ch.head()"
   ]
  },
  {
   "cell_type": "code",
   "execution_count": null,
   "id": "0f9d8554-0acb-44fd-823c-729ccb5382fb",
   "metadata": {},
   "outputs": [],
   "source": []
  },
  {
   "cell_type": "markdown",
   "id": "e262277d-1b27-42e3-a612-b68ea70e37bf",
   "metadata": {},
   "source": [
    "##### Mixed"
   ]
  },
  {
   "cell_type": "code",
   "execution_count": 1914,
   "id": "bf48ef6d-cacd-47d8-9276-3f783b19e187",
   "metadata": {
    "tags": []
   },
   "outputs": [],
   "source": [
    "# Remove leading zeros from the local number using .loc to avoid the warning\n",
    "reordered_data_mixed.loc[:, 'local_number'] = reordered_data_mixed['local_number'].str.lstrip('0')"
   ]
  },
  {
   "cell_type": "code",
   "execution_count": 1916,
   "id": "4bc01f2b-7082-495f-a5f2-6c9fc92b047e",
   "metadata": {
    "tags": []
   },
   "outputs": [
    {
     "data": {
      "text/html": [
       "<div>\n",
       "<style scoped>\n",
       "    .dataframe tbody tr th:only-of-type {\n",
       "        vertical-align: middle;\n",
       "    }\n",
       "\n",
       "    .dataframe tbody tr th {\n",
       "        vertical-align: top;\n",
       "    }\n",
       "\n",
       "    .dataframe thead th {\n",
       "        text-align: right;\n",
       "    }\n",
       "</style>\n",
       "<table border=\"1\" class=\"dataframe\">\n",
       "  <thead>\n",
       "    <tr style=\"text-align: right;\">\n",
       "      <th></th>\n",
       "      <th>firma</th>\n",
       "      <th>street</th>\n",
       "      <th>plz</th>\n",
       "      <th>city</th>\n",
       "      <th>country</th>\n",
       "      <th>country_code</th>\n",
       "      <th>local_number</th>\n",
       "      <th>anrede</th>\n",
       "      <th>vorname</th>\n",
       "      <th>nachname</th>\n",
       "    </tr>\n",
       "  </thead>\n",
       "  <tbody>\n",
       "    <tr>\n",
       "      <th>0</th>\n",
       "      <td>Hammurabi Restaurant</td>\n",
       "      <td>Untere Königsstraße</td>\n",
       "      <td>34117</td>\n",
       "      <td>Kassel</td>\n",
       "      <td>DE</td>\n",
       "      <td>0049</td>\n",
       "      <td>561287266960</td>\n",
       "      <td>NaN</td>\n",
       "      <td>NaN</td>\n",
       "      <td>NaN</td>\n",
       "    </tr>\n",
       "    <tr>\n",
       "      <th>1</th>\n",
       "      <td>M&amp;M Fahrzeugpflege</td>\n",
       "      <td>Friedrich-Ebert-Straße 9</td>\n",
       "      <td>32339</td>\n",
       "      <td>Espelkamp</td>\n",
       "      <td>DE</td>\n",
       "      <td>0049</td>\n",
       "      <td>160955792800</td>\n",
       "      <td>NaN</td>\n",
       "      <td>NaN</td>\n",
       "      <td>NaN</td>\n",
       "    </tr>\n",
       "    <tr>\n",
       "      <th>2</th>\n",
       "      <td>Chic Änderungsschneiderei</td>\n",
       "      <td>Venloer Straße 503</td>\n",
       "      <td>50825</td>\n",
       "      <td>Köln</td>\n",
       "      <td>DE</td>\n",
       "      <td>0049</td>\n",
       "      <td>221169339060</td>\n",
       "      <td>NaN</td>\n",
       "      <td>NaN</td>\n",
       "      <td>NaN</td>\n",
       "    </tr>\n",
       "    <tr>\n",
       "      <th>3</th>\n",
       "      <td>Miss Döner</td>\n",
       "      <td>Carl-von-Ossietzky-Platz 1</td>\n",
       "      <td>20099</td>\n",
       "      <td>Hamburg</td>\n",
       "      <td>DE</td>\n",
       "      <td>0049</td>\n",
       "      <td>17465289010</td>\n",
       "      <td>NaN</td>\n",
       "      <td>NaN</td>\n",
       "      <td>NaN</td>\n",
       "    </tr>\n",
       "    <tr>\n",
       "      <th>4</th>\n",
       "      <td>Kumpir Haus Ehrenfeld</td>\n",
       "      <td>Venloer Straße 378</td>\n",
       "      <td>50825</td>\n",
       "      <td>Köln</td>\n",
       "      <td>DE</td>\n",
       "      <td>0049</td>\n",
       "      <td>155101395210</td>\n",
       "      <td>NaN</td>\n",
       "      <td>NaN</td>\n",
       "      <td>NaN</td>\n",
       "    </tr>\n",
       "  </tbody>\n",
       "</table>\n",
       "</div>"
      ],
      "text/plain": [
       "                       firma                      street    plz       city  \\\n",
       "0       Hammurabi Restaurant       Untere Königsstraße    34117     Kassel   \n",
       "1         M&M Fahrzeugpflege    Friedrich-Ebert-Straße 9  32339  Espelkamp   \n",
       "2  Chic Änderungsschneiderei          Venloer Straße 503  50825       Köln   \n",
       "3                 Miss Döner  Carl-von-Ossietzky-Platz 1  20099    Hamburg   \n",
       "4      Kumpir Haus Ehrenfeld          Venloer Straße 378  50825       Köln   \n",
       "\n",
       "  country country_code  local_number anrede vorname nachname  \n",
       "0      DE         0049  561287266960    NaN     NaN      NaN  \n",
       "1      DE         0049  160955792800    NaN     NaN      NaN  \n",
       "2      DE         0049  221169339060    NaN     NaN      NaN  \n",
       "3      DE         0049   17465289010    NaN     NaN      NaN  \n",
       "4      DE         0049  155101395210    NaN     NaN      NaN  "
      ]
     },
     "execution_count": 1916,
     "metadata": {},
     "output_type": "execute_result"
    }
   ],
   "source": [
    "reordered_data_mixed.head()"
   ]
  },
  {
   "cell_type": "code",
   "execution_count": null,
   "id": "d4e0c855-d900-42ba-9c24-d50628ae846d",
   "metadata": {},
   "outputs": [],
   "source": []
  },
  {
   "cell_type": "code",
   "execution_count": null,
   "id": "5160f210-4b98-4243-8b98-8365bb4dc370",
   "metadata": {},
   "outputs": [],
   "source": []
  },
  {
   "cell_type": "markdown",
   "id": "db9a7d16-13a6-44e6-9f88-f30b0297de02",
   "metadata": {},
   "source": [
    "#### 6. Flagging Long Phone Numbers for Manual Review\n",
    "\n",
    "- Phone numbers that exceed the typical length of 13 digits for local German numbers are likely incorrect \n",
    "- Since these numbers cannot be automatically corrected, I will flag them for manual review to ensure data integrity and avoid losing potential business leads"
   ]
  },
  {
   "cell_type": "markdown",
   "id": "de393dbb-9839-46f1-adab-9edf1fc16cf9",
   "metadata": {},
   "source": [
    "##### Germany"
   ]
  },
  {
   "cell_type": "code",
   "execution_count": 2102,
   "id": "de50a399-6d83-410d-b4b3-2267b1c3a2a8",
   "metadata": {
    "tags": []
   },
   "outputs": [],
   "source": [
    "# Creates a new column to flag numbers that are longer than 11 digits\n",
    "reordered_data_de.loc[:, 'long_number_flag'] = (reordered_data_de['local_number'].str.len() > 11).astype(str).replace({'True': 'Yes', 'False': 'No'})\n"
   ]
  },
  {
   "cell_type": "code",
   "execution_count": 2104,
   "id": "3417697b-c9b0-4d08-abfe-39c74f0cb0aa",
   "metadata": {
    "tags": []
   },
   "outputs": [
    {
     "data": {
      "text/html": [
       "<div>\n",
       "<style scoped>\n",
       "    .dataframe tbody tr th:only-of-type {\n",
       "        vertical-align: middle;\n",
       "    }\n",
       "\n",
       "    .dataframe tbody tr th {\n",
       "        vertical-align: top;\n",
       "    }\n",
       "\n",
       "    .dataframe thead th {\n",
       "        text-align: right;\n",
       "    }\n",
       "</style>\n",
       "<table border=\"1\" class=\"dataframe\">\n",
       "  <thead>\n",
       "    <tr style=\"text-align: right;\">\n",
       "      <th></th>\n",
       "      <th>firma</th>\n",
       "      <th>street</th>\n",
       "      <th>plz</th>\n",
       "      <th>city</th>\n",
       "      <th>country</th>\n",
       "      <th>country_code</th>\n",
       "      <th>local_number</th>\n",
       "      <th>long_number_flag</th>\n",
       "    </tr>\n",
       "  </thead>\n",
       "  <tbody>\n",
       "    <tr>\n",
       "      <th>0</th>\n",
       "      <td>Abschleppdienst Arnolds</td>\n",
       "      <td>Völlesbruchstrasse 19</td>\n",
       "      <td>52152</td>\n",
       "      <td>Simmerath</td>\n",
       "      <td>DE</td>\n",
       "      <td>0049</td>\n",
       "      <td>1778754883</td>\n",
       "      <td>No</td>\n",
       "    </tr>\n",
       "    <tr>\n",
       "      <th>1</th>\n",
       "      <td>AAS-Fink GmbH</td>\n",
       "      <td>Morsbach 39</td>\n",
       "      <td>42857</td>\n",
       "      <td>Remscheid</td>\n",
       "      <td>DE</td>\n",
       "      <td>0049</td>\n",
       "      <td>1722086056</td>\n",
       "      <td>No</td>\n",
       "    </tr>\n",
       "    <tr>\n",
       "      <th>2</th>\n",
       "      <td>Allfolia Deutschland GmbH</td>\n",
       "      <td>Morsbach 39</td>\n",
       "      <td>42857</td>\n",
       "      <td>Remscheid</td>\n",
       "      <td>DE</td>\n",
       "      <td>0049</td>\n",
       "      <td>1734636476</td>\n",
       "      <td>No</td>\n",
       "    </tr>\n",
       "    <tr>\n",
       "      <th>3</th>\n",
       "      <td>Autohaus Hentschel GmbH</td>\n",
       "      <td>Vahrenwalder Str. 141</td>\n",
       "      <td>30165</td>\n",
       "      <td>Hannover</td>\n",
       "      <td>DE</td>\n",
       "      <td>0049</td>\n",
       "      <td>117001186221169</td>\n",
       "      <td>Yes</td>\n",
       "    </tr>\n",
       "    <tr>\n",
       "      <th>4</th>\n",
       "      <td>Autohaus Schmohl GmbH</td>\n",
       "      <td>Potsdamer Str. 175</td>\n",
       "      <td>14469</td>\n",
       "      <td>Potsdam</td>\n",
       "      <td>DE</td>\n",
       "      <td>0049</td>\n",
       "      <td>1604666050</td>\n",
       "      <td>No</td>\n",
       "    </tr>\n",
       "  </tbody>\n",
       "</table>\n",
       "</div>"
      ],
      "text/plain": [
       "                       firma                 street    plz       city country  \\\n",
       "0    Abschleppdienst Arnolds  Völlesbruchstrasse 19  52152  Simmerath      DE   \n",
       "1              AAS-Fink GmbH            Morsbach 39  42857  Remscheid      DE   \n",
       "2  Allfolia Deutschland GmbH            Morsbach 39  42857  Remscheid      DE   \n",
       "3    Autohaus Hentschel GmbH  Vahrenwalder Str. 141  30165   Hannover      DE   \n",
       "4      Autohaus Schmohl GmbH     Potsdamer Str. 175  14469    Potsdam      DE   \n",
       "\n",
       "  country_code     local_number long_number_flag  \n",
       "0         0049       1778754883               No  \n",
       "1         0049       1722086056               No  \n",
       "2         0049       1734636476               No  \n",
       "3         0049  117001186221169              Yes  \n",
       "4         0049       1604666050               No  "
      ]
     },
     "execution_count": 2104,
     "metadata": {},
     "output_type": "execute_result"
    }
   ],
   "source": [
    "reordered_data_de.head()"
   ]
  },
  {
   "cell_type": "code",
   "execution_count": null,
   "id": "56446fe5-695e-4520-8607-2e3eac677731",
   "metadata": {},
   "outputs": [],
   "source": []
  },
  {
   "cell_type": "markdown",
   "id": "48ba3aef-5a63-48fd-b7cb-c04af85f0f60",
   "metadata": {},
   "source": [
    "##### Austria"
   ]
  },
  {
   "cell_type": "code",
   "execution_count": 2106,
   "id": "d8f1ad24-4fd9-4b96-8579-92c593a8f418",
   "metadata": {
    "tags": []
   },
   "outputs": [],
   "source": [
    "# Creates a new column to flag numbers that are longer than 11 digits\n",
    "reordered_data_at.loc[:, 'long_number_flag'] = (reordered_data_at['local_number'].str.len() > 11).astype(str).replace({'True': 'Yes', 'False': 'No'})"
   ]
  },
  {
   "cell_type": "code",
   "execution_count": 2108,
   "id": "6dce6412-0d1a-445e-a4ad-1db4efeef987",
   "metadata": {
    "tags": []
   },
   "outputs": [
    {
     "data": {
      "text/html": [
       "<div>\n",
       "<style scoped>\n",
       "    .dataframe tbody tr th:only-of-type {\n",
       "        vertical-align: middle;\n",
       "    }\n",
       "\n",
       "    .dataframe tbody tr th {\n",
       "        vertical-align: top;\n",
       "    }\n",
       "\n",
       "    .dataframe thead th {\n",
       "        text-align: right;\n",
       "    }\n",
       "</style>\n",
       "<table border=\"1\" class=\"dataframe\">\n",
       "  <thead>\n",
       "    <tr style=\"text-align: right;\">\n",
       "      <th></th>\n",
       "      <th>firma</th>\n",
       "      <th>street</th>\n",
       "      <th>plz</th>\n",
       "      <th>city</th>\n",
       "      <th>country</th>\n",
       "      <th>country_code</th>\n",
       "      <th>local_number</th>\n",
       "      <th>long_number_flag</th>\n",
       "    </tr>\n",
       "  </thead>\n",
       "  <tbody>\n",
       "    <tr>\n",
       "      <th>0</th>\n",
       "      <td>Abschleppdienst und Reparatur Graber Hans</td>\n",
       "      <td>Brennerstraße 5</td>\n",
       "      <td>6150</td>\n",
       "      <td>Steinach am Brenner</td>\n",
       "      <td>AT</td>\n",
       "      <td>0043</td>\n",
       "      <td>6640020108</td>\n",
       "      <td>No</td>\n",
       "    </tr>\n",
       "    <tr>\n",
       "      <th>1</th>\n",
       "      <td>Anhänger Steininger &amp; Partner GmbH</td>\n",
       "      <td>Windhager Straße 22</td>\n",
       "      <td>3931</td>\n",
       "      <td>Schweiggers</td>\n",
       "      <td>AT</td>\n",
       "      <td>0043</td>\n",
       "      <td>6643019220</td>\n",
       "      <td>No</td>\n",
       "    </tr>\n",
       "    <tr>\n",
       "      <th>2</th>\n",
       "      <td>Täubl Sonnenschutz</td>\n",
       "      <td>Otto-Scharmitzerstr. 24</td>\n",
       "      <td>3464</td>\n",
       "      <td>Goldgeben</td>\n",
       "      <td>AT</td>\n",
       "      <td>0043</td>\n",
       "      <td>676442978543</td>\n",
       "      <td>Yes</td>\n",
       "    </tr>\n",
       "    <tr>\n",
       "      <th>3</th>\n",
       "      <td>Schönhacker Auto- und Fahrradzubehör</td>\n",
       "      <td>Ernest-Thum-Straße 1</td>\n",
       "      <td>3542</td>\n",
       "      <td>Gföhl</td>\n",
       "      <td>AT</td>\n",
       "      <td>0043</td>\n",
       "      <td>6998521286</td>\n",
       "      <td>No</td>\n",
       "    </tr>\n",
       "    <tr>\n",
       "      <th>4</th>\n",
       "      <td>Wuppinger Karosseriebau GmbH</td>\n",
       "      <td>Breitwies 6</td>\n",
       "      <td>5303</td>\n",
       "      <td>Thalgau</td>\n",
       "      <td>AT</td>\n",
       "      <td>0043</td>\n",
       "      <td>6763066695</td>\n",
       "      <td>No</td>\n",
       "    </tr>\n",
       "  </tbody>\n",
       "</table>\n",
       "</div>"
      ],
      "text/plain": [
       "                                       firma                   street   plz  \\\n",
       "0  Abschleppdienst und Reparatur Graber Hans          Brennerstraße 5  6150   \n",
       "1         Anhänger Steininger & Partner GmbH      Windhager Straße 22  3931   \n",
       "2                         Täubl Sonnenschutz  Otto-Scharmitzerstr. 24  3464   \n",
       "3       Schönhacker Auto- und Fahrradzubehör     Ernest-Thum-Straße 1  3542   \n",
       "4               Wuppinger Karosseriebau GmbH              Breitwies 6  5303   \n",
       "\n",
       "                  city country country_code  local_number long_number_flag  \n",
       "0  Steinach am Brenner      AT         0043    6640020108               No  \n",
       "1          Schweiggers      AT         0043    6643019220               No  \n",
       "2            Goldgeben      AT         0043  676442978543              Yes  \n",
       "3                Gföhl      AT         0043    6998521286               No  \n",
       "4              Thalgau      AT         0043    6763066695               No  "
      ]
     },
     "execution_count": 2108,
     "metadata": {},
     "output_type": "execute_result"
    }
   ],
   "source": [
    "reordered_data_at.head()"
   ]
  },
  {
   "cell_type": "code",
   "execution_count": null,
   "id": "2d270eb7-85a3-4bdb-a7df-f795e12db865",
   "metadata": {},
   "outputs": [],
   "source": []
  },
  {
   "cell_type": "markdown",
   "id": "323dc272-3d67-431f-b049-7624f8c81baa",
   "metadata": {},
   "source": [
    "##### Switzerland"
   ]
  },
  {
   "cell_type": "code",
   "execution_count": 2110,
   "id": "d31af919-a4e9-4d0f-8e54-2294c8643556",
   "metadata": {
    "tags": []
   },
   "outputs": [],
   "source": [
    "# Creates a new column to flag numbers that are longer than 11 digits\n",
    "reordered_data_ch.loc[:, 'long_number_flag'] = (reordered_data_ch['local_number'].str.len() > 11).astype(str).replace({'True': 'Yes', 'False': 'No'})"
   ]
  },
  {
   "cell_type": "code",
   "execution_count": 2112,
   "id": "c487d070-b60a-4d0b-bd25-1b6b0c4578df",
   "metadata": {
    "tags": []
   },
   "outputs": [
    {
     "data": {
      "text/html": [
       "<div>\n",
       "<style scoped>\n",
       "    .dataframe tbody tr th:only-of-type {\n",
       "        vertical-align: middle;\n",
       "    }\n",
       "\n",
       "    .dataframe tbody tr th {\n",
       "        vertical-align: top;\n",
       "    }\n",
       "\n",
       "    .dataframe thead th {\n",
       "        text-align: right;\n",
       "    }\n",
       "</style>\n",
       "<table border=\"1\" class=\"dataframe\">\n",
       "  <thead>\n",
       "    <tr style=\"text-align: right;\">\n",
       "      <th></th>\n",
       "      <th>firma</th>\n",
       "      <th>street</th>\n",
       "      <th>plz</th>\n",
       "      <th>city</th>\n",
       "      <th>country</th>\n",
       "      <th>country_code</th>\n",
       "      <th>local_number</th>\n",
       "      <th>long_number_flag</th>\n",
       "    </tr>\n",
       "  </thead>\n",
       "  <tbody>\n",
       "    <tr>\n",
       "      <th>0</th>\n",
       "      <td>Fankhauser AG Huttwil</td>\n",
       "      <td>Walke 1</td>\n",
       "      <td>4938</td>\n",
       "      <td>Rohrbach</td>\n",
       "      <td>CH</td>\n",
       "      <td>0041</td>\n",
       "      <td>300337878</td>\n",
       "      <td>No</td>\n",
       "    </tr>\n",
       "    <tr>\n",
       "      <th>1</th>\n",
       "      <td>TS-Velos GmbH</td>\n",
       "      <td>Jurastrasse 2</td>\n",
       "      <td>4554</td>\n",
       "      <td>Etziken</td>\n",
       "      <td>CH</td>\n",
       "      <td>0041</td>\n",
       "      <td>5837100154</td>\n",
       "      <td>No</td>\n",
       "    </tr>\n",
       "    <tr>\n",
       "      <th>2</th>\n",
       "      <td>Nocera &amp; Strub AG</td>\n",
       "      <td>Hirzenstrasse 1</td>\n",
       "      <td>9244</td>\n",
       "      <td>Niederuzwil</td>\n",
       "      <td>CH</td>\n",
       "      <td>0041</td>\n",
       "      <td>37950679</td>\n",
       "      <td>No</td>\n",
       "    </tr>\n",
       "    <tr>\n",
       "      <th>3</th>\n",
       "      <td>Druckerei Lutz AG</td>\n",
       "      <td>Hauptstrasse 18</td>\n",
       "      <td>9042</td>\n",
       "      <td>Speicher</td>\n",
       "      <td>CH</td>\n",
       "      <td>0041</td>\n",
       "      <td>8000141788579115</td>\n",
       "      <td>Yes</td>\n",
       "    </tr>\n",
       "    <tr>\n",
       "      <th>4</th>\n",
       "      <td>Hch. Borer Kartenverlag AG</td>\n",
       "      <td>Ilbachstrasse 39</td>\n",
       "      <td>4228</td>\n",
       "      <td>Erschwil</td>\n",
       "      <td>CH</td>\n",
       "      <td>0041</td>\n",
       "      <td>760352498</td>\n",
       "      <td>No</td>\n",
       "    </tr>\n",
       "  </tbody>\n",
       "</table>\n",
       "</div>"
      ],
      "text/plain": [
       "                        firma            street   plz         city country  \\\n",
       "0       Fankhauser AG Huttwil           Walke 1  4938     Rohrbach      CH   \n",
       "1               TS-Velos GmbH     Jurastrasse 2  4554      Etziken      CH   \n",
       "2           Nocera & Strub AG   Hirzenstrasse 1  9244  Niederuzwil      CH   \n",
       "3           Druckerei Lutz AG   Hauptstrasse 18  9042     Speicher      CH   \n",
       "4  Hch. Borer Kartenverlag AG  Ilbachstrasse 39  4228     Erschwil      CH   \n",
       "\n",
       "  country_code      local_number long_number_flag  \n",
       "0         0041         300337878               No  \n",
       "1         0041        5837100154               No  \n",
       "2         0041          37950679               No  \n",
       "3         0041  8000141788579115              Yes  \n",
       "4         0041         760352498               No  "
      ]
     },
     "execution_count": 2112,
     "metadata": {},
     "output_type": "execute_result"
    }
   ],
   "source": [
    "reordered_data_ch.head()"
   ]
  },
  {
   "cell_type": "code",
   "execution_count": null,
   "id": "87456248-53d5-4d7c-8034-17ae776e1c23",
   "metadata": {},
   "outputs": [],
   "source": []
  },
  {
   "cell_type": "markdown",
   "id": "43752fce-f115-4137-89a4-8fd2b983070a",
   "metadata": {},
   "source": [
    "##### Mixed"
   ]
  },
  {
   "cell_type": "code",
   "execution_count": 2114,
   "id": "bbf772dd-bc87-47a9-ba9f-56e02a8c117a",
   "metadata": {
    "tags": []
   },
   "outputs": [],
   "source": [
    "# Creates a new column to flag numbers that are longer than 11 digits\n",
    "reordered_data_mixed.loc[:, 'long_number_flag'] = (reordered_data_mixed['local_number'].str.len() > 11).astype(str).replace({'True': 'Yes', 'False': 'No'})"
   ]
  },
  {
   "cell_type": "code",
   "execution_count": 2116,
   "id": "1cc65d3f-59f3-44d7-beb0-c41e588fa1e5",
   "metadata": {
    "tags": []
   },
   "outputs": [
    {
     "data": {
      "text/html": [
       "<div>\n",
       "<style scoped>\n",
       "    .dataframe tbody tr th:only-of-type {\n",
       "        vertical-align: middle;\n",
       "    }\n",
       "\n",
       "    .dataframe tbody tr th {\n",
       "        vertical-align: top;\n",
       "    }\n",
       "\n",
       "    .dataframe thead th {\n",
       "        text-align: right;\n",
       "    }\n",
       "</style>\n",
       "<table border=\"1\" class=\"dataframe\">\n",
       "  <thead>\n",
       "    <tr style=\"text-align: right;\">\n",
       "      <th></th>\n",
       "      <th>firma</th>\n",
       "      <th>street</th>\n",
       "      <th>plz</th>\n",
       "      <th>city</th>\n",
       "      <th>country</th>\n",
       "      <th>country_code</th>\n",
       "      <th>local_number</th>\n",
       "      <th>anrede</th>\n",
       "      <th>vorname</th>\n",
       "      <th>nachname</th>\n",
       "      <th>long_number_flag</th>\n",
       "    </tr>\n",
       "  </thead>\n",
       "  <tbody>\n",
       "    <tr>\n",
       "      <th>0</th>\n",
       "      <td>Hammurabi Restaurant</td>\n",
       "      <td>Untere Königsstraße</td>\n",
       "      <td>34117</td>\n",
       "      <td>Kassel</td>\n",
       "      <td>DE</td>\n",
       "      <td>0049</td>\n",
       "      <td>561287266960</td>\n",
       "      <td>NaN</td>\n",
       "      <td>NaN</td>\n",
       "      <td>NaN</td>\n",
       "      <td>Yes</td>\n",
       "    </tr>\n",
       "    <tr>\n",
       "      <th>1</th>\n",
       "      <td>M&amp;M Fahrzeugpflege</td>\n",
       "      <td>Friedrich-Ebert-Straße 9</td>\n",
       "      <td>32339</td>\n",
       "      <td>Espelkamp</td>\n",
       "      <td>DE</td>\n",
       "      <td>0049</td>\n",
       "      <td>160955792800</td>\n",
       "      <td>NaN</td>\n",
       "      <td>NaN</td>\n",
       "      <td>NaN</td>\n",
       "      <td>Yes</td>\n",
       "    </tr>\n",
       "    <tr>\n",
       "      <th>2</th>\n",
       "      <td>Chic Änderungsschneiderei</td>\n",
       "      <td>Venloer Straße 503</td>\n",
       "      <td>50825</td>\n",
       "      <td>Köln</td>\n",
       "      <td>DE</td>\n",
       "      <td>0049</td>\n",
       "      <td>221169339060</td>\n",
       "      <td>NaN</td>\n",
       "      <td>NaN</td>\n",
       "      <td>NaN</td>\n",
       "      <td>Yes</td>\n",
       "    </tr>\n",
       "    <tr>\n",
       "      <th>3</th>\n",
       "      <td>Miss Döner</td>\n",
       "      <td>Carl-von-Ossietzky-Platz 1</td>\n",
       "      <td>20099</td>\n",
       "      <td>Hamburg</td>\n",
       "      <td>DE</td>\n",
       "      <td>0049</td>\n",
       "      <td>17465289010</td>\n",
       "      <td>NaN</td>\n",
       "      <td>NaN</td>\n",
       "      <td>NaN</td>\n",
       "      <td>No</td>\n",
       "    </tr>\n",
       "    <tr>\n",
       "      <th>4</th>\n",
       "      <td>Kumpir Haus Ehrenfeld</td>\n",
       "      <td>Venloer Straße 378</td>\n",
       "      <td>50825</td>\n",
       "      <td>Köln</td>\n",
       "      <td>DE</td>\n",
       "      <td>0049</td>\n",
       "      <td>155101395210</td>\n",
       "      <td>NaN</td>\n",
       "      <td>NaN</td>\n",
       "      <td>NaN</td>\n",
       "      <td>Yes</td>\n",
       "    </tr>\n",
       "  </tbody>\n",
       "</table>\n",
       "</div>"
      ],
      "text/plain": [
       "                       firma                      street    plz       city  \\\n",
       "0       Hammurabi Restaurant       Untere Königsstraße    34117     Kassel   \n",
       "1         M&M Fahrzeugpflege    Friedrich-Ebert-Straße 9  32339  Espelkamp   \n",
       "2  Chic Änderungsschneiderei          Venloer Straße 503  50825       Köln   \n",
       "3                 Miss Döner  Carl-von-Ossietzky-Platz 1  20099    Hamburg   \n",
       "4      Kumpir Haus Ehrenfeld          Venloer Straße 378  50825       Köln   \n",
       "\n",
       "  country country_code  local_number anrede vorname nachname long_number_flag  \n",
       "0      DE         0049  561287266960    NaN     NaN      NaN              Yes  \n",
       "1      DE         0049  160955792800    NaN     NaN      NaN              Yes  \n",
       "2      DE         0049  221169339060    NaN     NaN      NaN              Yes  \n",
       "3      DE         0049   17465289010    NaN     NaN      NaN               No  \n",
       "4      DE         0049  155101395210    NaN     NaN      NaN              Yes  "
      ]
     },
     "execution_count": 2116,
     "metadata": {},
     "output_type": "execute_result"
    }
   ],
   "source": [
    "reordered_data_mixed.head()"
   ]
  },
  {
   "cell_type": "code",
   "execution_count": null,
   "id": "6d9919aa-936d-4bf9-8110-bb8a1ca9c705",
   "metadata": {},
   "outputs": [],
   "source": []
  },
  {
   "cell_type": "code",
   "execution_count": null,
   "id": "c1cabddf-8a57-476d-93d4-8c7a497b1e18",
   "metadata": {},
   "outputs": [],
   "source": []
  },
  {
   "cell_type": "markdown",
   "id": "acedca2b-dd2c-46d3-a637-48367f8125cf",
   "metadata": {},
   "source": [
    "#### 7. Check for duplicates and Missing Values\n",
    "\n",
    "- it's important to identify bad data and irrecoverable records"
   ]
  },
  {
   "cell_type": "code",
   "execution_count": 1950,
   "id": "0747d0ec-89be-4b4a-8ec9-e1173bb4bbfa",
   "metadata": {
    "tags": []
   },
   "outputs": [
    {
     "data": {
      "text/plain": [
       "0"
      ]
     },
     "execution_count": 1950,
     "metadata": {},
     "output_type": "execute_result"
    }
   ],
   "source": [
    "#Germany\n",
    "reordered_data_de.duplicated().sum()"
   ]
  },
  {
   "cell_type": "code",
   "execution_count": 1645,
   "id": "9f94b8c3-115b-4728-8634-d3799a8a08be",
   "metadata": {
    "tags": []
   },
   "outputs": [],
   "source": [
    "missing_values = reordered_data[['firma', 'street', 'plz', 'city', 'country', 'country_code', 'local_number']].isnull().sum()"
   ]
  },
  {
   "cell_type": "code",
   "execution_count": 1647,
   "id": "4218014d-0fc9-4d0f-b052-c5792296f13f",
   "metadata": {
    "tags": []
   },
   "outputs": [
    {
     "data": {
      "text/plain": [
       "firma           0\n",
       "street          0\n",
       "plz             0\n",
       "city            0\n",
       "country         0\n",
       "country_code    0\n",
       "local_number    0\n",
       "dtype: int64"
      ]
     },
     "execution_count": 1647,
     "metadata": {},
     "output_type": "execute_result"
    }
   ],
   "source": [
    "missing_values"
   ]
  },
  {
   "cell_type": "code",
   "execution_count": null,
   "id": "5f0d2f5d-63a4-44b3-87ea-33ae71d77929",
   "metadata": {},
   "outputs": [],
   "source": []
  },
  {
   "cell_type": "code",
   "execution_count": 1952,
   "id": "5cfc7ddb-a370-4f26-93cb-7f2d200ed4ae",
   "metadata": {
    "tags": []
   },
   "outputs": [
    {
     "data": {
      "text/plain": [
       "0"
      ]
     },
     "execution_count": 1952,
     "metadata": {},
     "output_type": "execute_result"
    }
   ],
   "source": [
    "# Austria\n",
    "reordered_data_at.duplicated().sum()"
   ]
  },
  {
   "cell_type": "code",
   "execution_count": null,
   "id": "768a7d9a-a501-4247-aff7-d66a7aef4eeb",
   "metadata": {},
   "outputs": [],
   "source": []
  },
  {
   "cell_type": "code",
   "execution_count": 1954,
   "id": "544dff6f-75ad-491e-9554-c50a808a9702",
   "metadata": {
    "tags": []
   },
   "outputs": [
    {
     "data": {
      "text/plain": [
       "0"
      ]
     },
     "execution_count": 1954,
     "metadata": {},
     "output_type": "execute_result"
    }
   ],
   "source": [
    "# Switzerland\n",
    "reordered_data_ch.duplicated().sum()"
   ]
  },
  {
   "cell_type": "code",
   "execution_count": null,
   "id": "3425456e-4e09-46c6-8f3b-2b6478d039a4",
   "metadata": {},
   "outputs": [],
   "source": []
  },
  {
   "cell_type": "code",
   "execution_count": 1956,
   "id": "edd8237c-f45c-439e-96a4-c5ade124a219",
   "metadata": {
    "tags": []
   },
   "outputs": [
    {
     "data": {
      "text/plain": [
       "2"
      ]
     },
     "execution_count": 1956,
     "metadata": {},
     "output_type": "execute_result"
    }
   ],
   "source": [
    "# Mixed\n",
    "reordered_data_mixed.duplicated().sum()"
   ]
  },
  {
   "cell_type": "code",
   "execution_count": null,
   "id": "dc44bb1d-f1fa-410c-b00b-be1a48496343",
   "metadata": {},
   "outputs": [],
   "source": []
  },
  {
   "cell_type": "code",
   "execution_count": 1970,
   "id": "2000a544-8257-4d3b-8ad1-aaa7fb064dbc",
   "metadata": {
    "tags": []
   },
   "outputs": [],
   "source": [
    "# Check where the duplicates are in the Mixed Dataset\n",
    "duplicate_rows = reordered_data_mixed[reordered_data_mixed.duplicated(keep=False)]"
   ]
  },
  {
   "cell_type": "code",
   "execution_count": 1972,
   "id": "a4d3f4f9-9584-4c0e-b090-516e06d1a021",
   "metadata": {
    "tags": []
   },
   "outputs": [
    {
     "data": {
      "text/html": [
       "<div>\n",
       "<style scoped>\n",
       "    .dataframe tbody tr th:only-of-type {\n",
       "        vertical-align: middle;\n",
       "    }\n",
       "\n",
       "    .dataframe tbody tr th {\n",
       "        vertical-align: top;\n",
       "    }\n",
       "\n",
       "    .dataframe thead th {\n",
       "        text-align: right;\n",
       "    }\n",
       "</style>\n",
       "<table border=\"1\" class=\"dataframe\">\n",
       "  <thead>\n",
       "    <tr style=\"text-align: right;\">\n",
       "      <th></th>\n",
       "      <th>firma</th>\n",
       "      <th>street</th>\n",
       "      <th>plz</th>\n",
       "      <th>city</th>\n",
       "      <th>country</th>\n",
       "      <th>country_code</th>\n",
       "      <th>local_number</th>\n",
       "      <th>anrede</th>\n",
       "      <th>vorname</th>\n",
       "      <th>nachname</th>\n",
       "      <th>long_number_flag</th>\n",
       "    </tr>\n",
       "  </thead>\n",
       "  <tbody>\n",
       "    <tr>\n",
       "      <th>261</th>\n",
       "      <td>NaN</td>\n",
       "      <td></td>\n",
       "      <td>NaN</td>\n",
       "      <td>NaN</td>\n",
       "      <td>NaN</td>\n",
       "      <td>NaN</td>\n",
       "      <td>NaN</td>\n",
       "      <td>NaN</td>\n",
       "      <td>NaN</td>\n",
       "      <td>NaN</td>\n",
       "      <td>No</td>\n",
       "    </tr>\n",
       "    <tr>\n",
       "      <th>724</th>\n",
       "      <td>NaN</td>\n",
       "      <td></td>\n",
       "      <td>NaN</td>\n",
       "      <td>NaN</td>\n",
       "      <td>NaN</td>\n",
       "      <td>NaN</td>\n",
       "      <td>NaN</td>\n",
       "      <td>NaN</td>\n",
       "      <td>NaN</td>\n",
       "      <td>NaN</td>\n",
       "      <td>No</td>\n",
       "    </tr>\n",
       "    <tr>\n",
       "      <th>871</th>\n",
       "      <td>NaN</td>\n",
       "      <td></td>\n",
       "      <td>NaN</td>\n",
       "      <td>NaN</td>\n",
       "      <td>NaN</td>\n",
       "      <td>NaN</td>\n",
       "      <td>NaN</td>\n",
       "      <td>NaN</td>\n",
       "      <td>NaN</td>\n",
       "      <td>NaN</td>\n",
       "      <td>No</td>\n",
       "    </tr>\n",
       "  </tbody>\n",
       "</table>\n",
       "</div>"
      ],
      "text/plain": [
       "    firma street  plz city country country_code local_number anrede vorname  \\\n",
       "261   NaN         NaN  NaN     NaN          NaN          NaN    NaN     NaN   \n",
       "724   NaN         NaN  NaN     NaN          NaN          NaN    NaN     NaN   \n",
       "871   NaN         NaN  NaN     NaN          NaN          NaN    NaN     NaN   \n",
       "\n",
       "    nachname long_number_flag  \n",
       "261      NaN               No  \n",
       "724      NaN               No  \n",
       "871      NaN               No  "
      ]
     },
     "execution_count": 1972,
     "metadata": {},
     "output_type": "execute_result"
    }
   ],
   "source": [
    "duplicate_rows"
   ]
  },
  {
   "cell_type": "code",
   "execution_count": null,
   "id": "c5d5f867-a363-4ba2-8c82-14869a41ace0",
   "metadata": {},
   "outputs": [],
   "source": []
  },
  {
   "cell_type": "markdown",
   "id": "7dbce07a-bf8a-43c4-8709-fde1a1b2e5a7",
   "metadata": {},
   "source": [
    "#### 8. Removing Duplicates\n",
    "\n",
    "- checking duplicates, shows that there are rows that are completely empty in the Mixed Dataset\n",
    "- The rows that have NA all throughout will be deleted"
   ]
  },
  {
   "cell_type": "code",
   "execution_count": 2008,
   "id": "db2d2045-bb94-4306-a785-89ef763f9d10",
   "metadata": {
    "tags": []
   },
   "outputs": [],
   "source": [
    "# drop any remaining duplicate rows, which could be entirely NaN\n",
    "reordered_data_mixed = reordered_data_mixed.drop_duplicates(keep=False)"
   ]
  },
  {
   "cell_type": "code",
   "execution_count": 2014,
   "id": "4ef37a8b-d622-4900-9cb6-7341e557964b",
   "metadata": {
    "tags": []
   },
   "outputs": [
    {
     "data": {
      "text/plain": [
       "0"
      ]
     },
     "execution_count": 2014,
     "metadata": {},
     "output_type": "execute_result"
    }
   ],
   "source": [
    "reordered_data_mixed.duplicated().sum()"
   ]
  },
  {
   "cell_type": "code",
   "execution_count": null,
   "id": "912ecfb0-e32d-4ad9-9cc7-b6e80fd23cae",
   "metadata": {},
   "outputs": [],
   "source": []
  },
  {
   "cell_type": "markdown",
   "id": "e8c94dbb-0904-4af0-8e02-cbdc3515eb74",
   "metadata": {},
   "source": [
    "#### 9. Merging Datasets\n",
    "\n",
    "- Will use concat instead of merge because the dataframes have the same columns\n",
    "- And i want the Merged Dataset to be one big dataset combined row by row\n",
    "- I will exclude the 'Anrede', 'Vorname' and 'Nachname' from the merging to avoid conflicts and a lot of NA values"
   ]
  },
  {
   "cell_type": "code",
   "execution_count": null,
   "id": "3f4a28af-7c85-4036-911b-3f08f1300a0d",
   "metadata": {},
   "outputs": [],
   "source": []
  },
  {
   "cell_type": "code",
   "execution_count": 2028,
   "id": "8c156ea5-1319-4f9e-8c02-d9b09c254c12",
   "metadata": {
    "tags": []
   },
   "outputs": [],
   "source": [
    "# merging all 4 datasets\n",
    "merged_dataset = pd.concat([reordered_data_de, \n",
    "                            reordered_data_at,\n",
    "                            reordered_data_ch, \n",
    "                            reordered_data_mixed[['firma', 'street', 'plz', 'city', 'country', 'country_code', 'local_number']]],\n",
    "                           ignore_index=True)"
   ]
  },
  {
   "cell_type": "code",
   "execution_count": 2037,
   "id": "4fa777f7-88de-44dd-b329-43e80b10b6fc",
   "metadata": {
    "tags": []
   },
   "outputs": [
    {
     "data": {
      "text/html": [
       "<div>\n",
       "<style scoped>\n",
       "    .dataframe tbody tr th:only-of-type {\n",
       "        vertical-align: middle;\n",
       "    }\n",
       "\n",
       "    .dataframe tbody tr th {\n",
       "        vertical-align: top;\n",
       "    }\n",
       "\n",
       "    .dataframe thead th {\n",
       "        text-align: right;\n",
       "    }\n",
       "</style>\n",
       "<table border=\"1\" class=\"dataframe\">\n",
       "  <thead>\n",
       "    <tr style=\"text-align: right;\">\n",
       "      <th></th>\n",
       "      <th>firma</th>\n",
       "      <th>street</th>\n",
       "      <th>plz</th>\n",
       "      <th>city</th>\n",
       "      <th>country</th>\n",
       "      <th>country_code</th>\n",
       "      <th>local_number</th>\n",
       "      <th>long_number_flag</th>\n",
       "    </tr>\n",
       "  </thead>\n",
       "  <tbody>\n",
       "    <tr>\n",
       "      <th>0</th>\n",
       "      <td>Abschleppdienst Arnolds</td>\n",
       "      <td>Völlesbruchstrasse 19</td>\n",
       "      <td>52152</td>\n",
       "      <td>Simmerath</td>\n",
       "      <td>DE</td>\n",
       "      <td>0049</td>\n",
       "      <td>1778754883</td>\n",
       "      <td>No</td>\n",
       "    </tr>\n",
       "    <tr>\n",
       "      <th>1</th>\n",
       "      <td>AAS-Fink GmbH</td>\n",
       "      <td>Morsbach 39</td>\n",
       "      <td>42857</td>\n",
       "      <td>Remscheid</td>\n",
       "      <td>DE</td>\n",
       "      <td>0049</td>\n",
       "      <td>1722086056</td>\n",
       "      <td>No</td>\n",
       "    </tr>\n",
       "    <tr>\n",
       "      <th>2</th>\n",
       "      <td>Allfolia Deutschland GmbH</td>\n",
       "      <td>Morsbach 39</td>\n",
       "      <td>42857</td>\n",
       "      <td>Remscheid</td>\n",
       "      <td>DE</td>\n",
       "      <td>0049</td>\n",
       "      <td>1734636476</td>\n",
       "      <td>Yes</td>\n",
       "    </tr>\n",
       "    <tr>\n",
       "      <th>3</th>\n",
       "      <td>Autohaus Hentschel GmbH</td>\n",
       "      <td>Vahrenwalder Str. 141</td>\n",
       "      <td>30165</td>\n",
       "      <td>Hannover</td>\n",
       "      <td>DE</td>\n",
       "      <td>0049</td>\n",
       "      <td>117001186221169</td>\n",
       "      <td>Yes</td>\n",
       "    </tr>\n",
       "    <tr>\n",
       "      <th>4</th>\n",
       "      <td>Autohaus Schmohl GmbH</td>\n",
       "      <td>Potsdamer Str. 175</td>\n",
       "      <td>14469</td>\n",
       "      <td>Potsdam</td>\n",
       "      <td>DE</td>\n",
       "      <td>0049</td>\n",
       "      <td>1604666050</td>\n",
       "      <td>No</td>\n",
       "    </tr>\n",
       "  </tbody>\n",
       "</table>\n",
       "</div>"
      ],
      "text/plain": [
       "                       firma                 street    plz       city country  \\\n",
       "0    Abschleppdienst Arnolds  Völlesbruchstrasse 19  52152  Simmerath      DE   \n",
       "1              AAS-Fink GmbH            Morsbach 39  42857  Remscheid      DE   \n",
       "2  Allfolia Deutschland GmbH            Morsbach 39  42857  Remscheid      DE   \n",
       "3    Autohaus Hentschel GmbH  Vahrenwalder Str. 141  30165   Hannover      DE   \n",
       "4      Autohaus Schmohl GmbH     Potsdamer Str. 175  14469    Potsdam      DE   \n",
       "\n",
       "  country_code     local_number long_number_flag  \n",
       "0         0049       1778754883               No  \n",
       "1         0049       1722086056               No  \n",
       "2         0049       1734636476              Yes  \n",
       "3         0049  117001186221169              Yes  \n",
       "4         0049       1604666050               No  "
      ]
     },
     "execution_count": 2037,
     "metadata": {},
     "output_type": "execute_result"
    }
   ],
   "source": [
    "merged_dataset.head()"
   ]
  },
  {
   "cell_type": "code",
   "execution_count": 2055,
   "id": "7ef45fa9-69a5-487f-b6c3-42a3a512377f",
   "metadata": {
    "tags": []
   },
   "outputs": [
    {
     "data": {
      "text/plain": [
       "4746"
      ]
     },
     "execution_count": 2055,
     "metadata": {},
     "output_type": "execute_result"
    }
   ],
   "source": [
    "merged_dataset.shape[0]"
   ]
  },
  {
   "cell_type": "code",
   "execution_count": 2075,
   "id": "dbb5899e-5dce-4b71-aec9-8af3fc9e5117",
   "metadata": {
    "tags": []
   },
   "outputs": [],
   "source": [
    "# check for missing data\n",
    "missing_values = merged_dataset.isnull().sum()\n"
   ]
  },
  {
   "cell_type": "code",
   "execution_count": 2077,
   "id": "56280183-84d2-4471-af2f-12f20ea78880",
   "metadata": {
    "tags": []
   },
   "outputs": [
    {
     "data": {
      "text/plain": [
       "firma                533\n",
       "street                 0\n",
       "plz                  543\n",
       "city                 579\n",
       "country                2\n",
       "country_code           2\n",
       "local_number          53\n",
       "long_number_flag    3589\n",
       "dtype: int64"
      ]
     },
     "execution_count": 2077,
     "metadata": {},
     "output_type": "execute_result"
    }
   ],
   "source": [
    "missing_values"
   ]
  },
  {
   "cell_type": "code",
   "execution_count": null,
   "id": "4348585a-598a-47ad-9929-87a5b315f89c",
   "metadata": {},
   "outputs": [],
   "source": []
  },
  {
   "cell_type": "markdown",
   "id": "bbe4ea3a-f655-4b30-8dd1-f9dcd7e83ab3",
   "metadata": {},
   "source": [
    "#### 10. Handling Missing Data in the Merged Dataset\n",
    "\n",
    "- I address missing values directly in the merged dataset to ensure data completeness and quality\n",
    "- By focusing on the merged dataset, I streamline the cleaning process and avoid duplicating efforts across multiple individual datasets\n",
    "- Many rows in the merged dataset lack company names and addresses, with only country codes and local numbers, many of which are invalid\n",
    "- It's impractical to recover businesses using incomplete or inaccurate data, so I will drop these rows to maintain data quality and streamline the dataset."
   ]
  },
  {
   "cell_type": "code",
   "execution_count": null,
   "id": "b0817d8e-c91f-4725-8f83-eb239558f691",
   "metadata": {},
   "outputs": [],
   "source": []
  },
  {
   "cell_type": "code",
   "execution_count": 2083,
   "id": "ba56d20e-f232-432b-ae57-98d7ee54d091",
   "metadata": {
    "tags": []
   },
   "outputs": [],
   "source": [
    "# Drop rows where 'firma' (company name) is missing\n",
    "merged_dataset_cleaned = merged_dataset.dropna(subset=['firma'])"
   ]
  },
  {
   "cell_type": "code",
   "execution_count": 2139,
   "id": "2e635f65-5594-4d2a-859b-30c207bb29de",
   "metadata": {
    "tags": []
   },
   "outputs": [],
   "source": [
    "# dropping rows where 'firma' appears as 'NN'\n",
    "merged_dataset_cleaned = merged_dataset_cleaned[merged_dataset_cleaned['firma'] != 'NN']"
   ]
  },
  {
   "cell_type": "code",
   "execution_count": null,
   "id": "13d9b147-42b8-4273-998e-d5e7483d6e05",
   "metadata": {},
   "outputs": [],
   "source": []
  },
  {
   "cell_type": "code",
   "execution_count": 2141,
   "id": "288756ff-5c6d-4283-a15b-410507d580f2",
   "metadata": {
    "tags": []
   },
   "outputs": [
    {
     "data": {
      "text/plain": [
       "4126"
      ]
     },
     "execution_count": 2141,
     "metadata": {},
     "output_type": "execute_result"
    }
   ],
   "source": [
    "merged_dataset_cleaned.shape[0]"
   ]
  },
  {
   "cell_type": "code",
   "execution_count": null,
   "id": "b5221111-d379-4b8c-9dc4-53f1b964c6ab",
   "metadata": {},
   "outputs": [],
   "source": []
  },
  {
   "cell_type": "markdown",
   "id": "3677e569-9627-48ac-bd64-c59c5b988492",
   "metadata": {},
   "source": [
    "#### 10. Saving Cleaned Datasets to Excel File & CSV File\n",
    "\n",
    "- I saved the cleaned datasets as an Excel file with multiple sheets to preserve the original structure and keep the datasets easily accessible in one file for future use."
   ]
  },
  {
   "cell_type": "code",
   "execution_count": 2124,
   "id": "b5126912-5a72-4eb0-ac3e-7652c42e6725",
   "metadata": {
    "tags": []
   },
   "outputs": [],
   "source": [
    "with pd.ExcelWriter(\"cleaned_datasets.xlsx\") as writer:\n",
    "        reordered_data_de.to_excel(writer, sheet_name= \"DE\", index=False)\n",
    "        reordered_data_at.to_excel(writer, sheet_name=\"AT\", index=False)\n",
    "        reordered_data_ch.to_excel(writer, sheet_name=\"CH\", index=False)\n",
    "        reordered_data_mixed.to_excel(writer, sheet_name=\"Mixed\", index=False)"
   ]
  },
  {
   "cell_type": "code",
   "execution_count": null,
   "id": "0584b330-a5ce-4198-a82f-4bd72cbcf285",
   "metadata": {},
   "outputs": [],
   "source": []
  },
  {
   "cell_type": "code",
   "execution_count": 2118,
   "id": "6a1fd158-438a-4568-90a8-e887c37db0da",
   "metadata": {
    "tags": []
   },
   "outputs": [],
   "source": [
    "# Save the cleaned dataset to a CSV file to read in second Notebook\n",
    "merged_dataset_cleaned.to_csv('final_lead_dataset.csv', index=False)"
   ]
  },
  {
   "cell_type": "code",
   "execution_count": null,
   "id": "21fa4e81-d18f-4a20-ba5c-fea1b06fded3",
   "metadata": {},
   "outputs": [],
   "source": []
  },
  {
   "cell_type": "code",
   "execution_count": 2146,
   "id": "300989fd-c873-4269-87ba-0aa93e477e45",
   "metadata": {
    "tags": []
   },
   "outputs": [],
   "source": [
    "# check missing values\n",
    "missing_phone = merged_dataset_cleaned['local_number'].isna().sum()"
   ]
  },
  {
   "cell_type": "code",
   "execution_count": 2148,
   "id": "afa536a6-58b6-4c9d-bdee-77838e85d0a1",
   "metadata": {
    "tags": []
   },
   "outputs": [
    {
     "data": {
      "text/plain": [
       "50"
      ]
     },
     "execution_count": 2148,
     "metadata": {},
     "output_type": "execute_result"
    }
   ],
   "source": [
    "missing_phone"
   ]
  },
  {
   "cell_type": "code",
   "execution_count": 2150,
   "id": "23a7553a-ca6a-4382-87c6-456113596786",
   "metadata": {
    "tags": []
   },
   "outputs": [],
   "source": [
    "missing_street = merged_dataset_cleaned['street'].isna().sum()"
   ]
  },
  {
   "cell_type": "code",
   "execution_count": 2152,
   "id": "58f7b302-f678-4fe0-a975-8e2b5d232648",
   "metadata": {
    "tags": []
   },
   "outputs": [
    {
     "data": {
      "text/plain": [
       "0"
      ]
     },
     "execution_count": 2152,
     "metadata": {},
     "output_type": "execute_result"
    }
   ],
   "source": [
    "missing_street"
   ]
  },
  {
   "cell_type": "code",
   "execution_count": null,
   "id": "e38a01de-13dd-468b-8b15-9cfc82e69a3a",
   "metadata": {},
   "outputs": [],
   "source": []
  },
  {
   "cell_type": "markdown",
   "id": "d5cabebc-8092-4bc1-b91e-d95576d53235",
   "metadata": {},
   "source": [
    "### Summary of Data Quality Before and After Cleaning"
   ]
  },
  {
   "cell_type": "markdown",
   "id": "0fef9159-400b-4489-bdf0-dee01d50dd55",
   "metadata": {},
   "source": [
    "### Data Quality Before Cleaning:\n",
    "\n",
    "The datasets contained a variety of issues, including inconsistent phone number formats (some with special characters, varying country codes like +49 and 0049), missing values in critical fields like phone numbers and addresses, and duplicate entries.\n",
    "Some datasets lacked consistent column structures (e.g., the mixed dataset had different column names such as landesvorwahl).\n",
    "The presence of incomplete or empty rows reduced the overall reliability of the data, which could have impacted downstream analysis and lead tracking.\n"
   ]
  },
  {
   "cell_type": "code",
   "execution_count": null,
   "id": "61644bbf-bfff-44c1-af47-4e190062e893",
   "metadata": {},
   "outputs": [],
   "source": []
  },
  {
   "cell_type": "markdown",
   "id": "97eeeebe-310b-40c0-9435-22e356e3c2f1",
   "metadata": {},
   "source": [
    "### Data Quality After Cleaning:\n",
    "\n",
    "All phone numbers were standardized by removing special characters, extracting country codes, and ensuring local numbers had no leading zeros.\n",
    "Missing values were flagged where appropriate, and no valuable lead data was removed. This ensures that the datasets can be enriched later without losing potential information.\n",
    "Duplicate rows, especially those with completely missing information, were identified and removed to improve data consistency.\n",
    "All datasets were cleaned, structured uniformly, and merged into a single, consolidated dataset with consistent columns across all regions (DE, AT, CH, Mixed). This improved data quality and ensured the data was ready for downstream processes, such as uploading to the database."
   ]
  },
  {
   "cell_type": "code",
   "execution_count": null,
   "id": "d5f20635-c19b-43a1-854a-00dcb55d2bc2",
   "metadata": {},
   "outputs": [],
   "source": []
  }
 ],
 "metadata": {
  "kernelspec": {
   "display_name": "Python 3 (ipykernel)",
   "language": "python",
   "name": "python3"
  },
  "language_info": {
   "codemirror_mode": {
    "name": "ipython",
    "version": 3
   },
   "file_extension": ".py",
   "mimetype": "text/x-python",
   "name": "python",
   "nbconvert_exporter": "python",
   "pygments_lexer": "ipython3",
   "version": "3.11.8"
  }
 },
 "nbformat": 4,
 "nbformat_minor": 5
}
