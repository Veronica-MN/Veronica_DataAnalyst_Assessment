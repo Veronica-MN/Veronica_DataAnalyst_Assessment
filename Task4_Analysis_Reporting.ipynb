{
 "cells": [
  {
   "cell_type": "markdown",
   "id": "4810c9c9-43b2-4159-9ba6-787afca6d68c",
   "metadata": {},
   "source": [
    "# Data Analysis and Reporting"
   ]
  },
  {
   "cell_type": "markdown",
   "id": "2e981196-00f8-4ea1-823e-7d1504fe01d2",
   "metadata": {},
   "source": [
    "## Objective"
   ]
  },
  {
   "cell_type": "markdown",
   "id": "421a2e36-13aa-4b4a-9154-ddbd43859417",
   "metadata": {},
   "source": [
    "In this final phase, I will conduct exploratory data analysis (EDA) on the cleaned and enhanced lead dataset.\n",
    "This will help me to identify key insights, and create visualizations. \n",
    "By doing so i can answer find out for example:\n",
    "\n",
    "- How leads are distributed across different countries.\n",
    "- Whether there are any data quality issues, such as missing or inconsistent information.\n",
    "- Insights into the overall structure and completeness of the data"
   ]
  },
  {
   "cell_type": "code",
   "execution_count": 2,
   "id": "f73486a5-440f-4225-938c-fa169710dff7",
   "metadata": {
    "tags": []
   },
   "outputs": [],
   "source": [
    "import pandas as pd\n",
    "import matplotlib.pyplot as plt"
   ]
  },
  {
   "cell_type": "code",
   "execution_count": null,
   "id": "2ebe4369-da2f-40b1-90ef-5359d3063d13",
   "metadata": {},
   "outputs": [],
   "source": []
  },
  {
   "cell_type": "code",
   "execution_count": 6,
   "id": "a48bde88-feee-4d7b-aa9a-e56c6b27285c",
   "metadata": {
    "tags": []
   },
   "outputs": [],
   "source": [
    "# reading updated dataset\n",
    "lead_dataset = pd.read_csv('final_lead_dataset_updated.csv')"
   ]
  },
  {
   "cell_type": "code",
   "execution_count": null,
   "id": "3c163f7b-dce1-4f98-a6e6-2af9123b3fd1",
   "metadata": {},
   "outputs": [],
   "source": []
  },
  {
   "cell_type": "markdown",
   "id": "58e85f1a-075f-4df9-af6b-06dbedcc85d3",
   "metadata": {},
   "source": [
    "### 1. Exploratory Data Analysis\n",
    "\n",
    "I will use some of the main Pandas methods to explore the data"
   ]
  },
  {
   "cell_type": "code",
   "execution_count": 23,
   "id": "97b51f60-0168-4d4f-b7fb-ec3153c21b49",
   "metadata": {
    "tags": []
   },
   "outputs": [
    {
     "name": "stdout",
     "output_type": "stream",
     "text": [
      "<class 'pandas.core.frame.DataFrame'>\n",
      "RangeIndex: 4213 entries, 0 to 4212\n",
      "Data columns (total 8 columns):\n",
      " #   Column            Non-Null Count  Dtype  \n",
      "---  ------            --------------  -----  \n",
      " 0   firma             4213 non-null   object \n",
      " 1   street            4213 non-null   object \n",
      " 2   plz               4183 non-null   object \n",
      " 3   city              4161 non-null   object \n",
      " 4   country           4212 non-null   object \n",
      " 5   country_code      4212 non-null   float64\n",
      " 6   local_number      4212 non-null   object \n",
      " 7   long_number_flag  1157 non-null   object \n",
      "dtypes: float64(1), object(7)\n",
      "memory usage: 263.4+ KB\n"
     ]
    }
   ],
   "source": [
    "lead_dataset.info()"
   ]
  },
  {
   "cell_type": "markdown",
   "id": "72165436-b995-4068-bc50-f8b957660cfe",
   "metadata": {},
   "source": [
    "- the country code was initially converted to **int**\n",
    "- But it appears as a **float** because pandas automatically converts columns to float64 when they contain missing values (NaN), as integers cannot store NaN values"
   ]
  },
  {
   "cell_type": "code",
   "execution_count": 12,
   "id": "cb13ecc0-ce22-47b2-b7fc-e05c3430ed54",
   "metadata": {
    "tags": []
   },
   "outputs": [
    {
     "data": {
      "text/html": [
       "<div>\n",
       "<style scoped>\n",
       "    .dataframe tbody tr th:only-of-type {\n",
       "        vertical-align: middle;\n",
       "    }\n",
       "\n",
       "    .dataframe tbody tr th {\n",
       "        vertical-align: top;\n",
       "    }\n",
       "\n",
       "    .dataframe thead th {\n",
       "        text-align: right;\n",
       "    }\n",
       "</style>\n",
       "<table border=\"1\" class=\"dataframe\">\n",
       "  <thead>\n",
       "    <tr style=\"text-align: right;\">\n",
       "      <th></th>\n",
       "      <th>country_code</th>\n",
       "    </tr>\n",
       "  </thead>\n",
       "  <tbody>\n",
       "    <tr>\n",
       "      <th>count</th>\n",
       "      <td>4212.000000</td>\n",
       "    </tr>\n",
       "    <tr>\n",
       "      <th>mean</th>\n",
       "      <td>48.364198</td>\n",
       "    </tr>\n",
       "    <tr>\n",
       "      <th>std</th>\n",
       "      <td>1.990557</td>\n",
       "    </tr>\n",
       "    <tr>\n",
       "      <th>min</th>\n",
       "      <td>41.000000</td>\n",
       "    </tr>\n",
       "    <tr>\n",
       "      <th>25%</th>\n",
       "      <td>49.000000</td>\n",
       "    </tr>\n",
       "    <tr>\n",
       "      <th>50%</th>\n",
       "      <td>49.000000</td>\n",
       "    </tr>\n",
       "    <tr>\n",
       "      <th>75%</th>\n",
       "      <td>49.000000</td>\n",
       "    </tr>\n",
       "    <tr>\n",
       "      <th>max</th>\n",
       "      <td>49.000000</td>\n",
       "    </tr>\n",
       "  </tbody>\n",
       "</table>\n",
       "</div>"
      ],
      "text/plain": [
       "       country_code\n",
       "count   4212.000000\n",
       "mean      48.364198\n",
       "std        1.990557\n",
       "min       41.000000\n",
       "25%       49.000000\n",
       "50%       49.000000\n",
       "75%       49.000000\n",
       "max       49.000000"
      ]
     },
     "execution_count": 12,
     "metadata": {},
     "output_type": "execute_result"
    }
   ],
   "source": [
    "# Check basic statistics\n",
    "lead_dataset.describe()"
   ]
  },
  {
   "cell_type": "code",
   "execution_count": 15,
   "id": "ea8a2e72-b737-46cb-a385-f3b89e6a9cab",
   "metadata": {
    "tags": []
   },
   "outputs": [
    {
     "data": {
      "text/plain": [
       "country\n",
       "DE    3814\n",
       "AT     253\n",
       "CH     145\n",
       "Name: count, dtype: int64"
      ]
     },
     "execution_count": 15,
     "metadata": {},
     "output_type": "execute_result"
    }
   ],
   "source": [
    "# count of leads for each country (DE, AT, CH) in the dataset\n",
    "lead_dataset['country'].value_counts()"
   ]
  },
  {
   "cell_type": "code",
   "execution_count": 17,
   "id": "47052fe2-932d-4399-b900-83206113c419",
   "metadata": {
    "tags": []
   },
   "outputs": [
    {
     "data": {
      "text/plain": [
       "country_code\n",
       "49.0    3814\n",
       "43.0     253\n",
       "41.0     145\n",
       "Name: count, dtype: int64"
      ]
     },
     "execution_count": 17,
     "metadata": {},
     "output_type": "execute_result"
    }
   ],
   "source": [
    "# count of leads for each country code (49, 43, 41) in the dataset\n",
    "lead_dataset['country_code'].value_counts()"
   ]
  },
  {
   "cell_type": "code",
   "execution_count": null,
   "id": "487063af-1d90-460f-bc29-39be27e0e9c9",
   "metadata": {},
   "outputs": [],
   "source": []
  },
  {
   "cell_type": "code",
   "execution_count": 21,
   "id": "96f57da5-9951-42f7-8a7f-f0c8f54d80ff",
   "metadata": {
    "tags": []
   },
   "outputs": [
    {
     "name": "stdout",
     "output_type": "stream",
     "text": [
      "firma                  0\n",
      "street                 0\n",
      "plz                   30\n",
      "city                  52\n",
      "country                1\n",
      "country_code           1\n",
      "local_number           1\n",
      "long_number_flag    3056\n",
      "dtype: int64\n"
     ]
    }
   ],
   "source": [
    "# Check for missing values in the dataset\n",
    "print(lead_dataset.isnull().sum())"
   ]
  },
  {
   "cell_type": "markdown",
   "id": "62541967-ffbc-4998-9d5f-215056461267",
   "metadata": {},
   "source": [
    "- 3056 missing entries, which indicates that the long number flag was not applied to many rows\n",
    "- 1 local number missing as seen previously is for the Business information that could not be found by the API\n"
   ]
  },
  {
   "cell_type": "code",
   "execution_count": 29,
   "id": "04c6506b-72c0-45cc-82f9-316068184cb8",
   "metadata": {
    "tags": []
   },
   "outputs": [
    {
     "data": {
      "text/plain": [
       "firma               4105\n",
       "street              4130\n",
       "plz                 2723\n",
       "city                1922\n",
       "country                3\n",
       "country_code           3\n",
       "local_number        4205\n",
       "long_number_flag       2\n",
       "dtype: int64"
      ]
     },
     "execution_count": 29,
     "metadata": {},
     "output_type": "execute_result"
    }
   ],
   "source": [
    "# unique values for each column\n",
    "lead_dataset.nunique()"
   ]
  },
  {
   "cell_type": "code",
   "execution_count": 31,
   "id": "88658eed-ec6c-4ac6-a510-b1c77d1ffe21",
   "metadata": {
    "tags": []
   },
   "outputs": [
    {
     "data": {
      "text/plain": [
       "1"
      ]
     },
     "execution_count": 31,
     "metadata": {},
     "output_type": "execute_result"
    }
   ],
   "source": [
    "# duplicates\n",
    "lead_dataset.duplicated().sum()"
   ]
  },
  {
   "cell_type": "code",
   "execution_count": null,
   "id": "c2e3d053-3019-403e-a2d0-5e77072cc4f7",
   "metadata": {},
   "outputs": [],
   "source": []
  },
  {
   "cell_type": "markdown",
   "id": "5f713ecf-3a19-4fa9-bb1c-6138c77fcfea",
   "metadata": {},
   "source": [
    "### Visualisation\n",
    "\n",
    "A bar chart will help me understand the distribution of leads across different countries. This helps us identify which regions have the highest concentration of leads. "
   ]
  },
  {
   "cell_type": "code",
   "execution_count": null,
   "id": "8eb0cc87-e6ae-48ea-ba4f-dcbfc43e9875",
   "metadata": {},
   "outputs": [],
   "source": []
  },
  {
   "cell_type": "code",
   "execution_count": 46,
   "id": "29f2adc9-9617-4528-a210-650893f13da1",
   "metadata": {
    "tags": []
   },
   "outputs": [
    {
     "data": {
      "image/png": "[encoded data removed]",
      "text/plain": [
       "<Figure size 1000x600 with 1 Axes>"
      ]
     },
     "metadata": {},
     "output_type": "display_data"
    }
   ],
   "source": [
    "# Grouping by country and then counting the number of leads in each\n",
    "lead_distribution = lead_dataset['country'].value_counts()\n",
    "\n",
    "# Define colors for the bars, maroon for the highest, green for the lowest\n",
    "colors = ['#806900' if country == 'DE' else '#46b2b4' for country in lead_distribution.index]\n",
    "\n",
    "# Plot the distribution with updated colors\n",
    "plt.figure(figsize=(10,6))\n",
    "lead_distribution.plot(kind='bar', color=colors)\n",
    "plt.title('Distribution of Leads by Country')\n",
    "plt.xlabel('Country')\n",
    "plt.ylabel('Number of Leads')\n",
    "plt.show()\n"
   ]
  },
  {
   "cell_type": "code",
   "execution_count": null,
   "id": "ef00af31-cdd0-45a6-bdf1-e27458c9e97b",
   "metadata": {},
   "outputs": [],
   "source": []
  },
  {
   "cell_type": "code",
   "execution_count": null,
   "id": "a9043fda-f464-4fe5-97d3-1fb0a98de2e6",
   "metadata": {},
   "outputs": [],
   "source": []
  },
  {
   "cell_type": "code",
   "execution_count": null,
   "id": "c13ffe63-30f4-41af-8943-f06ca23eec59",
   "metadata": {},
   "outputs": [],
   "source": []
  }
 ],
 "metadata": {
  "kernelspec": {
   "display_name": "Python 3 (ipykernel)",
   "language": "python",
   "name": "python3"
  },
  "language_info": {
   "codemirror_mode": {
    "name": "ipython",
    "version": 3
   },
   "file_extension": ".py",
   "mimetype": "text/x-python",
   "name": "python",
   "nbconvert_exporter": "python",
   "pygments_lexer": "ipython3",
   "version": "3.11.8"
  }
 },
 "nbformat": 4,
 "nbformat_minor": 5
}
