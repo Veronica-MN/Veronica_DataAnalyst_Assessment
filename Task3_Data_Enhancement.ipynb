{
 "cells": [
  {
   "cell_type": "markdown",
   "id": "7e4a17eb-7f43-4035-b88a-3bf5debdfb49",
   "metadata": {},
   "source": [
    "# Data Enhancement"
   ]
  },
  {
   "cell_type": "markdown",
   "id": "297acd96-4a12-4020-b9a0-fa3795d61160",
   "metadata": {},
   "source": [
    "## Objective\n",
    "\n",
    "Some of the records in the merged dataset are not complete. There are many missing phone numbers.\n",
    "In this phase, I will use Webscraping to retrive the phone numbers for the missing Businesses. "
   ]
  },
  {
   "cell_type": "markdown",
   "id": "c5ae0db8-f998-489d-a849-61d379e09c73",
   "metadata": {},
   "source": [
    "### Importing Libraries"
   ]
  },
  {
   "cell_type": "code",
   "execution_count": 7,
   "id": "d3b89ac6-6a3f-4d23-a62a-c9d4f611a8a8",
   "metadata": {
    "tags": []
   },
   "outputs": [],
   "source": [
    "import pandas as pd"
   ]
  },
  {
   "cell_type": "code",
   "execution_count": 82,
   "id": "022fe160-84c1-421a-b639-aaae3d6b93b6",
   "metadata": {
    "tags": []
   },
   "outputs": [],
   "source": [
    "# Load the cleaned dataset from the CSV file in order to access it in this Notebook\n",
    "merged_dataset = pd.read_csv('final_lead_dataset.csv')"
   ]
  },
  {
   "cell_type": "code",
   "execution_count": null,
   "id": "35e3960c-83b6-4798-8fee-bd8c3063a696",
   "metadata": {},
   "outputs": [],
   "source": []
  },
  {
   "cell_type": "markdown",
   "id": "c0a1ba17-6f75-4352-87fe-f66559845c49",
   "metadata": {},
   "source": [
    "#### 1. Filter the missing phone numbers\n",
    "\n",
    "- I identify which businesses have missing phone numbers in the dataset/database. \n",
    "- This allows me to focus only on the incomplete records that need to be enriched with valid phone numbers, streamlining the data enhancement process"
   ]
  },
  {
   "cell_type": "code",
   "execution_count": 84,
   "id": "a9dfd80b-5865-43e4-bca3-a6d8b2fc9d90",
   "metadata": {
    "tags": []
   },
   "outputs": [],
   "source": [
    "# Filter rows where 'local_number' is missing\n",
    "missing_phone_numbers = merged_dataset[merged_dataset['local_number'].isna()]"
   ]
  },
  {
   "cell_type": "code",
   "execution_count": 86,
   "id": "0db25c30-13a6-47cd-99a1-b536b16a629c",
   "metadata": {
    "tags": []
   },
   "outputs": [
    {
     "data": {
      "text/html": [
       "<div>\n",
       "<style scoped>\n",
       "    .dataframe tbody tr th:only-of-type {\n",
       "        vertical-align: middle;\n",
       "    }\n",
       "\n",
       "    .dataframe tbody tr th {\n",
       "        vertical-align: top;\n",
       "    }\n",
       "\n",
       "    .dataframe thead th {\n",
       "        text-align: right;\n",
       "    }\n",
       "</style>\n",
       "<table border=\"1\" class=\"dataframe\">\n",
       "  <thead>\n",
       "    <tr style=\"text-align: right;\">\n",
       "      <th></th>\n",
       "      <th>firma</th>\n",
       "      <th>street</th>\n",
       "      <th>plz</th>\n",
       "      <th>city</th>\n",
       "      <th>country</th>\n",
       "      <th>country_code</th>\n",
       "      <th>local_number</th>\n",
       "      <th>long_number_flag</th>\n",
       "    </tr>\n",
       "  </thead>\n",
       "  <tbody>\n",
       "    <tr>\n",
       "      <th>937</th>\n",
       "      <td>Aktiv &amp; Vital Forum Isabella Wulz e. U.</td>\n",
       "      <td>Gewerbestraße 8</td>\n",
       "      <td>9330</td>\n",
       "      <td>Althofen</td>\n",
       "      <td>AT</td>\n",
       "      <td>43.0</td>\n",
       "      <td>NaN</td>\n",
       "      <td>No</td>\n",
       "    </tr>\n",
       "    <tr>\n",
       "      <th>938</th>\n",
       "      <td>Mütterstudio Tulln</td>\n",
       "      <td>Karl Metz-Gasse 22</td>\n",
       "      <td>3430</td>\n",
       "      <td>Tulln an der Donau</td>\n",
       "      <td>AT</td>\n",
       "      <td>43.0</td>\n",
       "      <td>NaN</td>\n",
       "      <td>No</td>\n",
       "    </tr>\n",
       "    <tr>\n",
       "      <th>945</th>\n",
       "      <td>Orthopädie Schuhtechnik Nindl GmbH</td>\n",
       "      <td>Kirchenstraße 36</td>\n",
       "      <td>5733</td>\n",
       "      <td>Bramberg am Wildkogel</td>\n",
       "      <td>AT</td>\n",
       "      <td>43.0</td>\n",
       "      <td>NaN</td>\n",
       "      <td>No</td>\n",
       "    </tr>\n",
       "    <tr>\n",
       "      <th>946</th>\n",
       "      <td>A.Novak GmbH</td>\n",
       "      <td>Wimmergasse 7</td>\n",
       "      <td>1050</td>\n",
       "      <td>Wien</td>\n",
       "      <td>AT</td>\n",
       "      <td>43.0</td>\n",
       "      <td>NaN</td>\n",
       "      <td>No</td>\n",
       "    </tr>\n",
       "    <tr>\n",
       "      <th>1048</th>\n",
       "      <td>Buschenschank Luttenberger</td>\n",
       "      <td>Seibersdorf 20</td>\n",
       "      <td>8423</td>\n",
       "      <td>St. Veit in der Südsteiermark</td>\n",
       "      <td>AT</td>\n",
       "      <td>43.0</td>\n",
       "      <td>NaN</td>\n",
       "      <td>No</td>\n",
       "    </tr>\n",
       "  </tbody>\n",
       "</table>\n",
       "</div>"
      ],
      "text/plain": [
       "                                        firma              street   plz  \\\n",
       "937   Aktiv & Vital Forum Isabella Wulz e. U.     Gewerbestraße 8  9330   \n",
       "938                        Mütterstudio Tulln  Karl Metz-Gasse 22  3430   \n",
       "945        Orthopädie Schuhtechnik Nindl GmbH    Kirchenstraße 36  5733   \n",
       "946                              A.Novak GmbH       Wimmergasse 7  1050   \n",
       "1048               Buschenschank Luttenberger      Seibersdorf 20  8423   \n",
       "\n",
       "                               city country  country_code local_number  \\\n",
       "937                        Althofen      AT          43.0          NaN   \n",
       "938              Tulln an der Donau      AT          43.0          NaN   \n",
       "945           Bramberg am Wildkogel      AT          43.0          NaN   \n",
       "946                            Wien      AT          43.0          NaN   \n",
       "1048  St. Veit in der Südsteiermark      AT          43.0          NaN   \n",
       "\n",
       "     long_number_flag  \n",
       "937                No  \n",
       "938                No  \n",
       "945                No  \n",
       "946                No  \n",
       "1048               No  "
      ]
     },
     "execution_count": 86,
     "metadata": {},
     "output_type": "execute_result"
    }
   ],
   "source": [
    "missing_phone_numbers.head()"
   ]
  },
  {
   "cell_type": "code",
   "execution_count": 88,
   "id": "26f56c65-8ef2-47b7-af88-b66b8d60a3cc",
   "metadata": {
    "tags": []
   },
   "outputs": [],
   "source": [
    "number_of_missing_phone = merged_dataset['local_number'].isna().sum()"
   ]
  },
  {
   "cell_type": "code",
   "execution_count": 90,
   "id": "b539de58-a049-4f82-be7d-2582b7720149",
   "metadata": {
    "tags": []
   },
   "outputs": [
    {
     "data": {
      "text/plain": [
       "50"
      ]
     },
     "execution_count": 90,
     "metadata": {},
     "output_type": "execute_result"
    }
   ],
   "source": [
    "number_of_missing_phone"
   ]
  },
  {
   "cell_type": "code",
   "execution_count": null,
   "id": "243ebb56-5ee4-40c0-886f-83c509610dda",
   "metadata": {},
   "outputs": [],
   "source": []
  },
  {
   "cell_type": "markdown",
   "id": "78ea959d-8443-4c2a-9ca8-3e17f36866b5",
   "metadata": {},
   "source": [
    "### 2. Select 26 Businesses Randomly to Scrape\n",
    "\n",
    "- From the filtered records with **53** missing phone numbers, I  select a sample of 26 businesses. \n",
    "- This smaller subset helps test the scraping process and check the ability to retrieve missing data"
   ]
  },
  {
   "cell_type": "code",
   "execution_count": 96,
   "id": "a92f1ed8-afc8-4490-a7c0-70810278f6c8",
   "metadata": {
    "tags": []
   },
   "outputs": [],
   "source": [
    "businesses_to_scrape = missing_phone_numbers.sample(26)"
   ]
  },
  {
   "cell_type": "code",
   "execution_count": 98,
   "id": "be9cbabf-d265-4277-b539-d7e772cab63d",
   "metadata": {
    "tags": []
   },
   "outputs": [
    {
     "data": {
      "text/html": [
       "<div>\n",
       "<style scoped>\n",
       "    .dataframe tbody tr th:only-of-type {\n",
       "        vertical-align: middle;\n",
       "    }\n",
       "\n",
       "    .dataframe tbody tr th {\n",
       "        vertical-align: top;\n",
       "    }\n",
       "\n",
       "    .dataframe thead th {\n",
       "        text-align: right;\n",
       "    }\n",
       "</style>\n",
       "<table border=\"1\" class=\"dataframe\">\n",
       "  <thead>\n",
       "    <tr style=\"text-align: right;\">\n",
       "      <th></th>\n",
       "      <th>firma</th>\n",
       "      <th>street</th>\n",
       "      <th>plz</th>\n",
       "      <th>city</th>\n",
       "      <th>country</th>\n",
       "      <th>country_code</th>\n",
       "      <th>local_number</th>\n",
       "      <th>long_number_flag</th>\n",
       "    </tr>\n",
       "  </thead>\n",
       "  <tbody>\n",
       "    <tr>\n",
       "      <th>1063</th>\n",
       "      <td>Lugeck</td>\n",
       "      <td>Lugeck 4</td>\n",
       "      <td>1010</td>\n",
       "      <td>Wien,</td>\n",
       "      <td>AT</td>\n",
       "      <td>43.0</td>\n",
       "      <td>NaN</td>\n",
       "      <td>No</td>\n",
       "    </tr>\n",
       "    <tr>\n",
       "      <th>1054</th>\n",
       "      <td>MALAT Weingut GmbH &amp; Co KG</td>\n",
       "      <td>Hafnerstraße 12</td>\n",
       "      <td>3511</td>\n",
       "      <td>Palt</td>\n",
       "      <td>AT</td>\n",
       "      <td>43.0</td>\n",
       "      <td>NaN</td>\n",
       "      <td>No</td>\n",
       "    </tr>\n",
       "    <tr>\n",
       "      <th>1557</th>\n",
       "      <td>BLUME2000 im Famila Bad Segeberg</td>\n",
       "      <td>Eutiner Straße 45</td>\n",
       "      <td>23795</td>\n",
       "      <td>Klein Rönnau</td>\n",
       "      <td>NaN</td>\n",
       "      <td>NaN</td>\n",
       "      <td>NaN</td>\n",
       "      <td>NaN</td>\n",
       "    </tr>\n",
       "    <tr>\n",
       "      <th>4101</th>\n",
       "      <td>Aitech Engineering GmbH</td>\n",
       "      <td>Sindelfinger Str. 108</td>\n",
       "      <td>71069</td>\n",
       "      <td>Sindelfingen</td>\n",
       "      <td>DE</td>\n",
       "      <td>49.0</td>\n",
       "      <td>NaN</td>\n",
       "      <td>NaN</td>\n",
       "    </tr>\n",
       "    <tr>\n",
       "      <th>1155</th>\n",
       "      <td>Milchbar - das Gaumenfreudenhaus</td>\n",
       "      <td>Kappelergasse 16</td>\n",
       "      <td>8001</td>\n",
       "      <td>Zürich</td>\n",
       "      <td>CH</td>\n",
       "      <td>41.0</td>\n",
       "      <td>NaN</td>\n",
       "      <td>No</td>\n",
       "    </tr>\n",
       "    <tr>\n",
       "      <th>1152</th>\n",
       "      <td>Babu's</td>\n",
       "      <td>Löwenstrasse 1</td>\n",
       "      <td>8001</td>\n",
       "      <td>Zürich</td>\n",
       "      <td>CH</td>\n",
       "      <td>41.0</td>\n",
       "      <td>NaN</td>\n",
       "      <td>No</td>\n",
       "    </tr>\n",
       "    <tr>\n",
       "      <th>4208</th>\n",
       "      <td>dck media GmbH</td>\n",
       "      <td>Von-Steuben-Str. 18</td>\n",
       "      <td>48143</td>\n",
       "      <td>Münster, Westfalen</td>\n",
       "      <td>DE</td>\n",
       "      <td>49.0</td>\n",
       "      <td>NaN</td>\n",
       "      <td>NaN</td>\n",
       "    </tr>\n",
       "    <tr>\n",
       "      <th>4098</th>\n",
       "      <td>Studio Hamburg Enterprises GmbH</td>\n",
       "      <td>Freigrafenweg 2</td>\n",
       "      <td>44357</td>\n",
       "      <td>Dortmund</td>\n",
       "      <td>DE</td>\n",
       "      <td>49.0</td>\n",
       "      <td>NaN</td>\n",
       "      <td>NaN</td>\n",
       "    </tr>\n",
       "    <tr>\n",
       "      <th>1156</th>\n",
       "      <td>Kafi Freud</td>\n",
       "      <td>Schaffhauserstrasse 118</td>\n",
       "      <td>8057</td>\n",
       "      <td>Zürich</td>\n",
       "      <td>CH</td>\n",
       "      <td>41.0</td>\n",
       "      <td>NaN</td>\n",
       "      <td>No</td>\n",
       "    </tr>\n",
       "    <tr>\n",
       "      <th>1484</th>\n",
       "      <td>César</td>\n",
       "      <td>Baumgartenstraße 3</td>\n",
       "      <td>26122</td>\n",
       "      <td>Oldenburg</td>\n",
       "      <td>DE</td>\n",
       "      <td>49.0</td>\n",
       "      <td>NaN</td>\n",
       "      <td>NaN</td>\n",
       "    </tr>\n",
       "    <tr>\n",
       "      <th>1545</th>\n",
       "      <td>Bozena Kandziora</td>\n",
       "      <td>Gartenstraße 15</td>\n",
       "      <td>75223</td>\n",
       "      <td>Niefern-Öschelbronn</td>\n",
       "      <td>DE</td>\n",
       "      <td>49.0</td>\n",
       "      <td>NaN</td>\n",
       "      <td>NaN</td>\n",
       "    </tr>\n",
       "    <tr>\n",
       "      <th>1153</th>\n",
       "      <td>Grande Café &amp; Bar</td>\n",
       "      <td>Limmatquai 118</td>\n",
       "      <td>8001</td>\n",
       "      <td>Zürich</td>\n",
       "      <td>CH</td>\n",
       "      <td>41.0</td>\n",
       "      <td>NaN</td>\n",
       "      <td>No</td>\n",
       "    </tr>\n",
       "    <tr>\n",
       "      <th>1546</th>\n",
       "      <td>Pizza City in Herne ️</td>\n",
       "      <td>An der Kreuzkirche 9</td>\n",
       "      <td>44623</td>\n",
       "      <td>Herne</td>\n",
       "      <td>DE</td>\n",
       "      <td>49.0</td>\n",
       "      <td>NaN</td>\n",
       "      <td>NaN</td>\n",
       "    </tr>\n",
       "    <tr>\n",
       "      <th>4031</th>\n",
       "      <td>vavorit GmbH</td>\n",
       "      <td>Brückenstr. 22</td>\n",
       "      <td>90768</td>\n",
       "      <td>Fürth, Bayern</td>\n",
       "      <td>DE</td>\n",
       "      <td>49.0</td>\n",
       "      <td>NaN</td>\n",
       "      <td>NaN</td>\n",
       "    </tr>\n",
       "    <tr>\n",
       "      <th>4100</th>\n",
       "      <td>FZL 3D GmbH</td>\n",
       "      <td>Kleinmarkt 1</td>\n",
       "      <td>1662</td>\n",
       "      <td>Meißen</td>\n",
       "      <td>DE</td>\n",
       "      <td>49.0</td>\n",
       "      <td>NaN</td>\n",
       "      <td>NaN</td>\n",
       "    </tr>\n",
       "    <tr>\n",
       "      <th>1485</th>\n",
       "      <td>Raßmann Bau GmbH &amp; Co. KG</td>\n",
       "      <td>Strietkamp 38</td>\n",
       "      <td>24576</td>\n",
       "      <td>Bad Bramstedt</td>\n",
       "      <td>DE</td>\n",
       "      <td>49.0</td>\n",
       "      <td>NaN</td>\n",
       "      <td>NaN</td>\n",
       "    </tr>\n",
       "    <tr>\n",
       "      <th>1342</th>\n",
       "      <td>Ingenieurbüro-GK</td>\n",
       "      <td>Riegerbusch 23</td>\n",
       "      <td>58091</td>\n",
       "      <td>Hagen</td>\n",
       "      <td>DE</td>\n",
       "      <td>49.0</td>\n",
       "      <td>NaN</td>\n",
       "      <td>NaN</td>\n",
       "    </tr>\n",
       "    <tr>\n",
       "      <th>937</th>\n",
       "      <td>Aktiv &amp; Vital Forum Isabella Wulz e. U.</td>\n",
       "      <td>Gewerbestraße 8</td>\n",
       "      <td>9330</td>\n",
       "      <td>Althofen</td>\n",
       "      <td>AT</td>\n",
       "      <td>43.0</td>\n",
       "      <td>NaN</td>\n",
       "      <td>No</td>\n",
       "    </tr>\n",
       "    <tr>\n",
       "      <th>1062</th>\n",
       "      <td>Steirereck</td>\n",
       "      <td>Am Heumarkt\\t2A,</td>\n",
       "      <td>1030</td>\n",
       "      <td>Wien,</td>\n",
       "      <td>AT</td>\n",
       "      <td>43.0</td>\n",
       "      <td>NaN</td>\n",
       "      <td>No</td>\n",
       "    </tr>\n",
       "    <tr>\n",
       "      <th>4204</th>\n",
       "      <td>Gebrüder Grüske GmbH</td>\n",
       "      <td>Meisenweg 17</td>\n",
       "      <td>82110</td>\n",
       "      <td>Germering</td>\n",
       "      <td>DE</td>\n",
       "      <td>49.0</td>\n",
       "      <td>NaN</td>\n",
       "      <td>NaN</td>\n",
       "    </tr>\n",
       "    <tr>\n",
       "      <th>1154</th>\n",
       "      <td>Café des Amis</td>\n",
       "      <td>Nordstrasse 88</td>\n",
       "      <td>8037</td>\n",
       "      <td>Zürich</td>\n",
       "      <td>CH</td>\n",
       "      <td>41.0</td>\n",
       "      <td>NaN</td>\n",
       "      <td>No</td>\n",
       "    </tr>\n",
       "    <tr>\n",
       "      <th>1075</th>\n",
       "      <td>Simon's Steakhouse Grill &amp; Restaurant &amp; Bar</td>\n",
       "      <td>Niederdorfstrasse 13</td>\n",
       "      <td>8001</td>\n",
       "      <td>Zürich</td>\n",
       "      <td>CH</td>\n",
       "      <td>41.0</td>\n",
       "      <td>NaN</td>\n",
       "      <td>No</td>\n",
       "    </tr>\n",
       "    <tr>\n",
       "      <th>4202</th>\n",
       "      <td>Brigid Innovation Gmbh</td>\n",
       "      <td>Keldenicher Str. 8</td>\n",
       "      <td>50389</td>\n",
       "      <td>Wesseling, Rheinland</td>\n",
       "      <td>DE</td>\n",
       "      <td>49.0</td>\n",
       "      <td>NaN</td>\n",
       "      <td>NaN</td>\n",
       "    </tr>\n",
       "    <tr>\n",
       "      <th>4205</th>\n",
       "      <td>Ofenbau Unterseher GmbH</td>\n",
       "      <td>Kufsteiner Str. 49</td>\n",
       "      <td>83126</td>\n",
       "      <td>Flintsbach am Inn</td>\n",
       "      <td>DE</td>\n",
       "      <td>49.0</td>\n",
       "      <td>NaN</td>\n",
       "      <td>NaN</td>\n",
       "    </tr>\n",
       "    <tr>\n",
       "      <th>1818</th>\n",
       "      <td>montagarchitekten GmbH</td>\n",
       "      <td>Kellershaustraße 12</td>\n",
       "      <td>52078</td>\n",
       "      <td>Aachen</td>\n",
       "      <td>DE</td>\n",
       "      <td>49.0</td>\n",
       "      <td>NaN</td>\n",
       "      <td>NaN</td>\n",
       "    </tr>\n",
       "    <tr>\n",
       "      <th>4099</th>\n",
       "      <td>Lemounte IT GmbH</td>\n",
       "      <td>Thomas-Mann-Str. 2</td>\n",
       "      <td>6406</td>\n",
       "      <td>Bernburg, Saale</td>\n",
       "      <td>DE</td>\n",
       "      <td>49.0</td>\n",
       "      <td>NaN</td>\n",
       "      <td>NaN</td>\n",
       "    </tr>\n",
       "  </tbody>\n",
       "</table>\n",
       "</div>"
      ],
      "text/plain": [
       "                                            firma                   street  \\\n",
       "1063                                       Lugeck                 Lugeck 4   \n",
       "1054                   MALAT Weingut GmbH & Co KG          Hafnerstraße 12   \n",
       "1557             BLUME2000 im Famila Bad Segeberg        Eutiner Straße 45   \n",
       "4101                      Aitech Engineering GmbH   Sindelfinger Str. 108    \n",
       "1155             Milchbar - das Gaumenfreudenhaus         Kappelergasse 16   \n",
       "1152                                       Babu's           Löwenstrasse 1   \n",
       "4208                               dck media GmbH     Von-Steuben-Str. 18    \n",
       "4098              Studio Hamburg Enterprises GmbH          Freigrafenweg 2   \n",
       "1156                                   Kafi Freud  Schaffhauserstrasse 118   \n",
       "1484                                        César       Baumgartenstraße 3   \n",
       "1545                             Bozena Kandziora          Gartenstraße 15   \n",
       "1153                            Grande Café & Bar           Limmatquai 118   \n",
       "1546                        Pizza City in Herne ️     An der Kreuzkirche 9   \n",
       "4031                                 vavorit GmbH          Brückenstr. 22    \n",
       "4100                                  FZL 3D GmbH             Kleinmarkt 1   \n",
       "1485                    Raßmann Bau GmbH & Co. KG            Strietkamp 38   \n",
       "1342                             Ingenieurbüro-GK           Riegerbusch 23   \n",
       "937       Aktiv & Vital Forum Isabella Wulz e. U.          Gewerbestraße 8   \n",
       "1062                                   Steirereck         Am Heumarkt\\t2A,   \n",
       "4204                         Gebrüder Grüske GmbH             Meisenweg 17   \n",
       "1154                                Café des Amis           Nordstrasse 88   \n",
       "1075  Simon's Steakhouse Grill & Restaurant & Bar     Niederdorfstrasse 13   \n",
       "4202                       Brigid Innovation Gmbh      Keldenicher Str. 8    \n",
       "4205                      Ofenbau Unterseher GmbH      Kufsteiner Str. 49    \n",
       "1818                       montagarchitekten GmbH      Kellershaustraße 12   \n",
       "4099                             Lemounte IT GmbH      Thomas-Mann-Str. 2    \n",
       "\n",
       "        plz                  city country  country_code local_number  \\\n",
       "1063   1010                 Wien,      AT          43.0          NaN   \n",
       "1054   3511                  Palt      AT          43.0          NaN   \n",
       "1557  23795          Klein Rönnau     NaN           NaN          NaN   \n",
       "4101  71069          Sindelfingen      DE          49.0          NaN   \n",
       "1155   8001                Zürich      CH          41.0          NaN   \n",
       "1152   8001                Zürich      CH          41.0          NaN   \n",
       "4208  48143    Münster, Westfalen      DE          49.0          NaN   \n",
       "4098  44357              Dortmund      DE          49.0          NaN   \n",
       "1156   8057                Zürich      CH          41.0          NaN   \n",
       "1484  26122             Oldenburg      DE          49.0          NaN   \n",
       "1545  75223   Niefern-Öschelbronn      DE          49.0          NaN   \n",
       "1153   8001                Zürich      CH          41.0          NaN   \n",
       "1546  44623                 Herne      DE          49.0          NaN   \n",
       "4031  90768         Fürth, Bayern      DE          49.0          NaN   \n",
       "4100   1662                Meißen      DE          49.0          NaN   \n",
       "1485  24576         Bad Bramstedt      DE          49.0          NaN   \n",
       "1342  58091                 Hagen      DE          49.0          NaN   \n",
       "937    9330              Althofen      AT          43.0          NaN   \n",
       "1062   1030                 Wien,      AT          43.0          NaN   \n",
       "4204  82110             Germering      DE          49.0          NaN   \n",
       "1154   8037                Zürich      CH          41.0          NaN   \n",
       "1075   8001                Zürich      CH          41.0          NaN   \n",
       "4202  50389  Wesseling, Rheinland      DE          49.0          NaN   \n",
       "4205  83126     Flintsbach am Inn      DE          49.0          NaN   \n",
       "1818  52078                Aachen      DE          49.0          NaN   \n",
       "4099   6406       Bernburg, Saale      DE          49.0          NaN   \n",
       "\n",
       "     long_number_flag  \n",
       "1063               No  \n",
       "1054               No  \n",
       "1557              NaN  \n",
       "4101              NaN  \n",
       "1155               No  \n",
       "1152               No  \n",
       "4208              NaN  \n",
       "4098              NaN  \n",
       "1156               No  \n",
       "1484              NaN  \n",
       "1545              NaN  \n",
       "1153               No  \n",
       "1546              NaN  \n",
       "4031              NaN  \n",
       "4100              NaN  \n",
       "1485              NaN  \n",
       "1342              NaN  \n",
       "937                No  \n",
       "1062               No  \n",
       "4204              NaN  \n",
       "1154               No  \n",
       "1075               No  \n",
       "4202              NaN  \n",
       "4205              NaN  \n",
       "1818              NaN  \n",
       "4099              NaN  "
      ]
     },
     "execution_count": 98,
     "metadata": {},
     "output_type": "execute_result"
    }
   ],
   "source": [
    "businesses_to_scrape"
   ]
  },
  {
   "cell_type": "code",
   "execution_count": null,
   "id": "a3a7bac3-9462-48f0-97d7-b83736a3f04a",
   "metadata": {},
   "outputs": [],
   "source": []
  },
  {
   "cell_type": "markdown",
   "id": "142a37e0-f427-4a80-bdc1-b7d36c7850d4",
   "metadata": {},
   "source": [
    "#### 3. Install Web Scraping Libraries\n",
    "\n",
    "Web scraping requires specific Python libraries to interact with websites"
   ]
  },
  {
   "cell_type": "code",
   "execution_count": 31,
   "id": "d7f0d873-b096-4904-a1d6-684484e613b2",
   "metadata": {
    "collapsed": true,
    "jupyter": {
     "outputs_hidden": true
    },
    "tags": []
   },
   "outputs": [
    {
     "name": "stdout",
     "output_type": "stream",
     "text": [
      "Requirement already satisfied: requests in /Users/mucha/anaconda3/lib/python3.11/site-packages (2.31.0)\n",
      "Requirement already satisfied: beautifulsoup4 in /Users/mucha/anaconda3/lib/python3.11/site-packages (4.12.2)\n",
      "Requirement already satisfied: charset-normalizer<4,>=2 in /Users/mucha/anaconda3/lib/python3.11/site-packages (from requests) (2.0.4)\n",
      "Requirement already satisfied: idna<4,>=2.5 in /Users/mucha/anaconda3/lib/python3.11/site-packages (from requests) (3.4)\n",
      "Requirement already satisfied: urllib3<3,>=1.21.1 in /Users/mucha/anaconda3/lib/python3.11/site-packages (from requests) (2.0.7)\n",
      "Requirement already satisfied: certifi>=2017.4.17 in /Users/mucha/anaconda3/lib/python3.11/site-packages (from requests) (2024.2.2)\n",
      "Requirement already satisfied: soupsieve>1.2 in /Users/mucha/anaconda3/lib/python3.11/site-packages (from beautifulsoup4) (2.5)\n",
      "\n",
      "\u001b[1m[\u001b[0m\u001b[34;49mnotice\u001b[0m\u001b[1;39;49m]\u001b[0m\u001b[39;49m A new release of pip is available: \u001b[0m\u001b[31;49m24.0\u001b[0m\u001b[39;49m -> \u001b[0m\u001b[32;49m24.2\u001b[0m\n",
      "\u001b[1m[\u001b[0m\u001b[34;49mnotice\u001b[0m\u001b[1;39;49m]\u001b[0m\u001b[39;49m To update, run: \u001b[0m\u001b[32;49mpip install --upgrade pip\u001b[0m\n"
     ]
    }
   ],
   "source": [
    "!pip install requests beautifulsoup4"
   ]
  },
  {
   "cell_type": "markdown",
   "id": "c79478cc-b5e5-4923-a619-6f37f2470541",
   "metadata": {},
   "source": [
    "### Install Libraries for Web Scraping"
   ]
  },
  {
   "cell_type": "code",
   "execution_count": 34,
   "id": "bb5a1752-a8d9-4470-bc7f-a09304de3f1d",
   "metadata": {
    "tags": []
   },
   "outputs": [],
   "source": [
    "import requests\n",
    "from bs4 import BeautifulSoup"
   ]
  },
  {
   "cell_type": "code",
   "execution_count": null,
   "id": "b2750a99-44dc-4f64-a076-6116a07faa16",
   "metadata": {},
   "outputs": [],
   "source": []
  },
  {
   "cell_type": "markdown",
   "id": "c01c8463-8eaf-40fd-ae04-f8a64350b558",
   "metadata": {},
   "source": [
    "### 4. Scraping the Das Örtliche Website\n",
    "\n",
    "- The goal here was to scrape phone numbers from the Das Örtliche website \n",
    "- However, I encountered an error: AttributeError: 'NoneType' object has no attribute 'find'\n",
    "- This according to research, occurred because the expected HTML element was not found on the page, likely due to JavaScript rendering or incorrect element selection\n",
    "- Automation of the page or Selenium would need to be used first in order to achieve this\n"
   ]
  },
  {
   "cell_type": "code",
   "execution_count": null,
   "id": "2e12d99c-5f4e-45c3-bff4-7977da8db932",
   "metadata": {
    "collapsed": true,
    "jupyter": {
     "outputs_hidden": true
    },
    "tags": []
   },
   "outputs": [],
   "source": [
    "# Initialize a list to store company names and phone numbers for review\n",
    "#phone_numbers_for_review = []\n",
    "\n",
    "# Loop through the 26 businesses to scrape phone numbers\n",
    "#for row_index, row in businesses_to_scrape.iterrows():\n",
    "    #company_name = row['firma']  # Assuming 'firma' is the column for business names\n",
    "    #city = row['city']  # Assuming 'city' is available\n",
    "\n",
    "    # Construct the search URL\n",
    "    #search_url = f\"https://www.dasoertliche.de/?kw={company_name}&ci={city}\"  # Add city for better accuracy\n",
    "    \n",
    "    # Send the HTTP request\n",
    "    #response = requests.get(search_url)\n",
    "    \n",
    "    # Check if the request was successful\n",
    "    #if response.status_code == 200:\n",
    "        # Parse the HTML content\n",
    "        #soup = BeautifulSoup(response.text, 'html.parser')\n",
    "        \n",
    "        # Find the phone number in the HTML (adjusted to your specified structure)\n",
    "        #phone_number_tag = soup.find(\"div\", {\"class\": \"phone block\"}).find(\"span\")\n",
    "        \n",
    "        # If a phone number is found, add it to the list for review\n",
    "        #if phone_number_tag:\n",
    "            #phone_number = phone_number_tag.get_text(strip=True)\n",
    "            #phone_numbers_for_review.append((company_name, phone_number))  # Store company name and phone number\n",
    "    #else:\n",
    "        #print(f\"Failed to retrieve data for {company_name}\")\n",
    "\n",
    "# Check the retrieved phone numbers for review\n",
    "#for company, phone in phone_numbers_for_review:\n",
    "    #print(f\"Company: {company}, Phone: {phone}\")\n"
   ]
  },
  {
   "cell_type": "code",
   "execution_count": null,
   "id": "28377821-c997-4dba-842c-adeaf318dc5a",
   "metadata": {},
   "outputs": [],
   "source": []
  },
  {
   "cell_type": "markdown",
   "id": "60548e57-b1f0-4995-ab39-0d5765ead2c1",
   "metadata": {},
   "source": [
    "### 5. Using Google Places API to Retrive Business Information\n",
    "\n",
    "- Since web scraping encountered limitations, I changed course, and used the **Google Places API**, a reliable alternative for gathering business information, such as phone numbers. \n",
    "- This allows me to retrieve structured and accurate data directly from Google’s vast database"
   ]
  },
  {
   "cell_type": "code",
   "execution_count": 40,
   "id": "648b2adb-1095-4a3b-93ce-4751d40d6450",
   "metadata": {
    "tags": []
   },
   "outputs": [],
   "source": [
    "import requests"
   ]
  },
  {
   "cell_type": "markdown",
   "id": "957aadbd-9522-4164-ad6e-2e5bf4d2a40f",
   "metadata": {},
   "source": [
    "#### 6. Retrieve the place_id for the Business Using the Find Place from Text API\n",
    "\n",
    "- I use the Find Place from Text API to retrieve a unique place_id for each business, based on their name and address. \n",
    "- The **place_id** is an identifier that helps query Google for detailed information about a specific business."
   ]
  },
  {
   "cell_type": "code",
   "execution_count": 50,
   "id": "dfad6249-f83f-4bec-b3d1-fff3cf5e7134",
   "metadata": {
    "tags": []
   },
   "outputs": [
    {
     "name": "stdout",
     "output_type": "stream",
     "text": [
      "{'candidates': [{'formatted_address': 'Insterburger Str. 4, 37574 Einbeck, Deutschland', 'name': 'A. Koch GmbH, Straßen- und Tiefbau', 'place_id': 'ChIJzwYm1VDOukcRCPGXCh3McLU'}], 'status': 'OK'}\n"
     ]
    }
   ],
   "source": [
    "api_key = \"API-Key\"\n",
    "business_name = \"A. Koch GmbH\"\n",
    "location = \"Germany\"\n",
    "plz = \"09224\"\n",
    "\n",
    "# URL to find place ID for the business\n",
    "url = f\"https://maps.googleapis.com/maps/api/place/findplacefromtext/json?input={business_name} {plz} {location}&inputtype=textquery&fields=place_id,name,formatted_address&key={api_key}\"\n",
    "\n",
    "\n",
    "response = requests.get(url)\n",
    "data = response.json()\n",
    "\n",
    "# Print the retrieved data, including place_id\n",
    "print(data)"
   ]
  },
  {
   "cell_type": "code",
   "execution_count": null,
   "id": "9dc47841-c37c-457f-8ca3-4683a32fe35c",
   "metadata": {},
   "outputs": [],
   "source": []
  },
  {
   "cell_type": "markdown",
   "id": "383ffcd4-feea-41a1-925c-f231cec1124b",
   "metadata": {},
   "source": [
    "#### 7. Use the Place Details API to Retrieve Phone Numbers\n",
    "\n",
    "- With the place_id obtained from the previous step, I query the **Place Details API** to get detailed business information, including phone numbers. \n",
    "- This step completes the data enhancement process by filling in the missing phone numbers in the dataset/database"
   ]
  },
  {
   "cell_type": "code",
   "execution_count": 53,
   "id": "a4d9e583-d84b-48bc-b5e3-1743df912b5c",
   "metadata": {
    "tags": []
   },
   "outputs": [
    {
     "name": "stdout",
     "output_type": "stream",
     "text": [
      "Phone number: 05561 94940\n"
     ]
    }
   ],
   "source": [
    "place_id = 'ChIJzwYm1VDOukcRCPGXCh3McLU'  # The place_id retrieved earlier\n",
    "api_key = 'API-Key'\n",
    "\n",
    "# Place Details API endpoint\n",
    "place_details_url = f\"https://maps.googleapis.com/maps/api/place/details/json?place_id={place_id}&fields=formatted_phone_number&key={api_key}\"\n",
    "\n",
    "response = requests.get(place_details_url)\n",
    "details = response.json()\n",
    "\n",
    "# Check the response\n",
    "if details['status'] == 'OK':\n",
    "    phone_number = details['result'].get('formatted_phone_number', 'No phone number found')\n",
    "    print(f\"Phone number: {phone_number}\")\n",
    "else:\n",
    "    print(f\"Error: {details['status']}\")"
   ]
  },
  {
   "cell_type": "code",
   "execution_count": null,
   "id": "9eba07aa-a007-4de1-876e-4824db04704b",
   "metadata": {},
   "outputs": [],
   "source": []
  },
  {
   "cell_type": "markdown",
   "id": "49cf3039-8d67-4ca5-bdd7-07df11bcf230",
   "metadata": {},
   "source": [
    "#### 8. Automated Retrieval of Missing Phone Numbers and Addresses Using Google Places API\n",
    "\n",
    "- I first tested the Find Place from Text API and the Place Details API on a business that already had complete information in the database to ensure the APIs worked as expected. As demonstrated above.\n",
    "\n",
    "- After confirming that they work as expected, I loop through the business names to automate the retrieval of missing phone numbers and addresses for 50 businesses in the dataset. \n",
    "- This process reduces manual work, improves data quality, and ensures that the dataset is enhanced with accurate information efficiently"
   ]
  },
  {
   "cell_type": "code",
   "execution_count": 100,
   "id": "bb562ac7-f55c-4364-a491-30813ec372f4",
   "metadata": {
    "tags": []
   },
   "outputs": [
    {
     "name": "stdout",
     "output_type": "stream",
     "text": [
      "No results found for Brigid Innovation Gmbh\n"
     ]
    }
   ],
   "source": [
    "# List of businesses with missing phone numbers\n",
    "businesses_to_scrape = merged_dataset[merged_dataset['local_number'].isna()]\n",
    "\n",
    "# list to store the results\n",
    "api_results = []\n",
    "\n",
    "# Get the 'firma'and 'city' columns from the dataset directly\n",
    "company_names = businesses_to_scrape['firma'].tolist()\n",
    "cities = businesses_to_scrape['city'].tolist()\n",
    "\n",
    "# Loop through the 53 businesses\n",
    "for i in range(len(company_names)):\n",
    "    company_name = company_names[i]  # Get the company name\n",
    "    city = cities[i]  # Get the city\n",
    "    \n",
    "    # First API: Find Place from Text (to get place_id)\n",
    "    search_url = f\"https://maps.googleapis.com/maps/api/place/findplacefromtext/json?input={company_name}%20{city}&inputtype=textquery&fields=place_id,name,formatted_address&key={api_key}\"\n",
    "    search_response = requests.get(search_url)\n",
    "    search_data = search_response.json()\n",
    "    \n",
    "    if search_data['status'] == 'OK':\n",
    "        place_id = search_data['candidates'][0]['place_id']\n",
    "        address = search_data['candidates'][0]['formatted_address']\n",
    "        \n",
    "        # Second API: Place Details (to get the phone number)\n",
    "        details_url = f\"https://maps.googleapis.com/maps/api/place/details/json?place_id={place_id}&fields=formatted_phone_number&key={api_key}\"\n",
    "        details_response = requests.get(details_url)\n",
    "        details_data = details_response.json()\n",
    "        \n",
    "        if details_data['status'] == 'OK':\n",
    "            phone_number = details_data['result'].get('formatted_phone_number', 'Phone number not found')\n",
    "        else:\n",
    "            phone_number = 'Phone number not found'\n",
    "        \n",
    "        # Store the results\n",
    "        api_results.append({\n",
    "            'company_name': company_name,\n",
    "            'address': address,\n",
    "            'phone_number': phone_number\n",
    "        })\n",
    "    else:\n",
    "        print(f\"No results found for {company_name}\")\n"
   ]
  },
  {
   "cell_type": "code",
   "execution_count": 101,
   "id": "a88ec15b-09ba-4faf-8b65-3f543d85d0df",
   "metadata": {
    "tags": []
   },
   "outputs": [
    {
     "data": {
      "text/plain": [
       "[{'company_name': 'Aktiv & Vital Forum Isabella Wulz e. U.',\n",
       "  'address': 'Klosterstraße 112, 40211 Düsseldorf, Deutschland',\n",
       "  'phone_number': '0211 30154854'},\n",
       " {'company_name': 'Mütterstudio Tulln',\n",
       "  'address': 'Karl-Metz-Gasse 22, 3430 Tulln an der Donau, Österreich',\n",
       "  'phone_number': '0676 7553692'},\n",
       " {'company_name': 'Orthopädie Schuhtechnik Nindl GmbH',\n",
       "  'address': 'Kirchenstraße 36, 5733 Bramberg am Wildkogel, Österreich',\n",
       "  'phone_number': '06566 7493'},\n",
       " {'company_name': 'A.Novak GmbH',\n",
       "  'address': 'Wimmergasse 7, 1050 Wien, Österreich',\n",
       "  'phone_number': '01 5444988'},\n",
       " {'company_name': 'Buschenschank Luttenberger',\n",
       "  'address': 'Seibersdorf b. St. Veit 20, 8423 Seibersdorf bei St. Veit, Österreich',\n",
       "  'phone_number': '0664 1457049'},\n",
       " {'company_name': 'Weinbau Hermine Kovacs',\n",
       "  'address': 'Elisabethgasse 41, 7301 Deutschkreutz, Österreich',\n",
       "  'phone_number': '0664 3151569'},\n",
       " {'company_name': 'MALAT Weingut GmbH & Co KG',\n",
       "  'address': 'Palt AT, Hafnerstraße 12, 3511 Furth bei Göttweig, Österreich',\n",
       "  'phone_number': '02732 82934'},\n",
       " {'company_name': 'ef16 Restaurant Weinbar',\n",
       "  'address': 'Fleischmarkt 16, 1010 Wien, Österreich',\n",
       "  'phone_number': '01 5132318'},\n",
       " {'company_name': 'Steirereck',\n",
       "  'address': 'Am Heumarkt 2A, 1030 Wien, Österreich',\n",
       "  'phone_number': '01 7133168'},\n",
       " {'company_name': 'Lugeck',\n",
       "  'address': 'Lugeck, 1010 Wien, Österreich',\n",
       "  'phone_number': 'Phone number not found'},\n",
       " {'company_name': 'Patara Restaurant Vienna GmbH',\n",
       "  'address': 'Peterspl. 1, 1010 Wien, Österreich',\n",
       "  'phone_number': '01 9971938'},\n",
       " {'company_name': \"Simon's Steakhouse Grill & Restaurant & Bar\",\n",
       "  'address': 'Niederdorfstrasse 13, 8001 Zürich, Schweiz',\n",
       "  'phone_number': '044 260 56 46'},\n",
       " {'company_name': 'Café Henrici',\n",
       "  'address': 'Niederdorfstrasse 1, 8001 Zürich, Schweiz',\n",
       "  'phone_number': '044 251 54 54'},\n",
       " {'company_name': \"Babu's\",\n",
       "  'address': 'Löwenstrasse 1, 8001 Zürich, Schweiz',\n",
       "  'phone_number': '044 307 10 10'},\n",
       " {'company_name': 'Grande Café & Bar',\n",
       "  'address': 'Bilker Allee 38, 40219 Düsseldorf, Deutschland',\n",
       "  'phone_number': '0176 61425909'},\n",
       " {'company_name': 'Café des Amis',\n",
       "  'address': 'Nordstrasse 88, 8037 Zürich, Schweiz',\n",
       "  'phone_number': '043 536 93 81'},\n",
       " {'company_name': 'Milchbar - das Gaumenfreudenhaus',\n",
       "  'address': 'Kappelergasse 16, 8001 Zürich, Schweiz',\n",
       "  'phone_number': '044 211 90 12'},\n",
       " {'company_name': 'Kafi Freud',\n",
       "  'address': 'Schaffhauserstrasse 118, 8057 Zürich, Schweiz',\n",
       "  'phone_number': '044 520 11 75'},\n",
       " {'company_name': \"Ayfairy's Café\",\n",
       "  'address': 'Friedrichstraße 26, 49610 Quakenbrück, Deutschland',\n",
       "  'phone_number': '05431 9007447'},\n",
       " {'company_name': 'Christoph Mlottek Transporte, Erdbewegungen',\n",
       "  'address': 'Wullener Feld 9D, 58454 Witten, Deutschland',\n",
       "  'phone_number': '02302 9629614'},\n",
       " {'company_name': 'M & K Witten',\n",
       "  'address': 'Breslauer Str. 38, 40231 Düsseldorf, Deutschland',\n",
       "  'phone_number': '0163 9548645'},\n",
       " {'company_name': 'Yaprak Tantuni',\n",
       "  'address': 'Adalbertsteinweg 244, 52066 Aachen, Deutschland',\n",
       "  'phone_number': '0176 63676034'},\n",
       " {'company_name': 'Parkett & Fußbodentechnik Felkel',\n",
       "  'address': 'Gewerbezentrum DüsselBogen, Hoffeldstraße 104/Halle 1, 40235 Düsseldorf, Deutschland',\n",
       "  'phone_number': '0211 964800'},\n",
       " {'company_name': 'ÄSTHETIKBODEN Petersen',\n",
       "  'address': 'In der Grimmstr. keine Ausstellung & Beratung, Ausstellung & Beratung in der Bertha-Kipfmüller-Str. 21, 81249, Grimmstraße 6, 80336 München, Deutschland',\n",
       "  'phone_number': '089 60079890'},\n",
       " {'company_name': 'Ingenieurbüro-GK',\n",
       "  'address': 'Riegerbusch 23, 58091 Hagen, Deutschland',\n",
       "  'phone_number': '02331 3440248'},\n",
       " {'company_name': 'Papillon Geschenke',\n",
       "  'address': 'Breslauer Str. 1A, 66121 Saarbrücken, Deutschland',\n",
       "  'phone_number': '0681 9384432'},\n",
       " {'company_name': 'César',\n",
       "  'address': 'Ammerländer Heerstraße 61, 26129 Oldenburg, Deutschland',\n",
       "  'phone_number': '0441 96039633'},\n",
       " {'company_name': 'Raßmann Bau GmbH & Co. KG',\n",
       "  'address': 'Strietkamp 38, 24576 Bad Bramstedt, Deutschland',\n",
       "  'phone_number': '04192 2094628'},\n",
       " {'company_name': 'Bozena Kandziora',\n",
       "  'address': 'Gartenstraße 15, 75223 Niefern-Öschelbronn, Deutschland',\n",
       "  'phone_number': '0162 9448892'},\n",
       " {'company_name': 'Pizza City in Herne ️',\n",
       "  'address': 'An d. Kreuzkirche 9, 44623 Herne, Deutschland',\n",
       "  'phone_number': '02323 1461116'},\n",
       " {'company_name': 'BLUME2000 im Famila Bad Segeberg',\n",
       "  'address': 'Eutiner Str. 45, 23795 Bad Segeberg, Deutschland',\n",
       "  'phone_number': '(262) 330-1212'},\n",
       " {'company_name': 'montagarchitekten GmbH',\n",
       "  'address': 'Kellershaustraße 12, 52078 Aachen, Deutschland',\n",
       "  'phone_number': '0241 60846480'},\n",
       " {'company_name': 'Sirwan Kfz- & Hobbywerkstatt',\n",
       "  'address': 'Peliserkerstraße 86, 52068 Aachen, Deutschland',\n",
       "  'phone_number': '01575 8081556'},\n",
       " {'company_name': 'a&b Möbeltransport GmbH',\n",
       "  'address': 'Lise-Meitner-Straße 30, 40591 Düsseldorf, Deutschland',\n",
       "  'phone_number': '0211 763871'},\n",
       " {'company_name': 'Johannes Grosch Raumgestaltung',\n",
       "  'address': 'Trichtergasse 2, 52064 Aachen, Deutschland',\n",
       "  'phone_number': '0241 33573'},\n",
       " {'company_name': 'von Stern & Cie. GmbH',\n",
       "  'address': 'Ickerswarder Str. 7, 40589 Düsseldorf, Deutschland',\n",
       "  'phone_number': '0211 78884514'},\n",
       " {'company_name': 'Jade Energy GmbH',\n",
       "  'address': 'Schmiedestraße 15, 26629 Großefehn, Deutschland',\n",
       "  'phone_number': '04943 91170'},\n",
       " {'company_name': 'Rail Marketing Gas- und Chemie Umschlag GmbH',\n",
       "  'address': 'Wostevitzer 6 Weg, 18528 Lietzow, Deutschland',\n",
       "  'phone_number': '038392 631741'},\n",
       " {'company_name': 'vavorit GmbH',\n",
       "  'address': 'Brückenstraße 22, 90768 Fürth, Deutschland',\n",
       "  'phone_number': '0911 97122150'},\n",
       " {'company_name': 'As-German GmbH',\n",
       "  'address': 'Ladestraße 4, 50354 Hürth, Deutschland',\n",
       "  'phone_number': '02233 800007'},\n",
       " {'company_name': 'Studio Hamburg Enterprises GmbH',\n",
       "  'address': 'Eingang: Tonndorfer Hauptstr. 90, Jenfelder Allee 80, 22045 Hamburg, Deutschland',\n",
       "  'phone_number': '040 66885106'},\n",
       " {'company_name': 'Lemounte IT GmbH',\n",
       "  'address': 'Thomas-Mann-Straße 2, 06406 Bernburg (Saale), Deutschland',\n",
       "  'phone_number': '03471 2065869'},\n",
       " {'company_name': 'FZL 3D GmbH',\n",
       "  'address': 'Fabrikstraße 27, 01662 Meißen, Deutschland',\n",
       "  'phone_number': '03521 406448'},\n",
       " {'company_name': 'Aitech Engineering GmbH',\n",
       "  'address': 'Sindelfinger Str. 108, 71069 Sindelfingen, Deutschland',\n",
       "  'phone_number': '07031 7335521'},\n",
       " {'company_name': 'Kunz Metallbau GmbH',\n",
       "  'address': 'Adolf-Todt-Straße 28, 65203 Wiesbaden, Deutschland',\n",
       "  'phone_number': '0611 609078'},\n",
       " {'company_name': 'Gebrüder Grüske GmbH',\n",
       "  'address': 'Erfurter Ring 11, 90765 Fürth, Deutschland',\n",
       "  'phone_number': '0911 52789910'},\n",
       " {'company_name': 'Ofenbau Unterseher GmbH',\n",
       "  'address': 'Kufsteiner Str. 49, 83126 Flintsbach am Inn, Deutschland',\n",
       "  'phone_number': '08034 7067177'},\n",
       " {'company_name': 'Fastr GmbH',\n",
       "  'address': 'Kurfürstendamm 217, 10719 Berlin, Deutschland',\n",
       "  'phone_number': '030 2363158920'},\n",
       " {'company_name': 'dck media GmbH',\n",
       "  'address': 'Von-Steuben-Straße 18, 48143 Münster, Deutschland',\n",
       "  'phone_number': '0251 32350690'}]"
      ]
     },
     "execution_count": 101,
     "metadata": {},
     "output_type": "execute_result"
    }
   ],
   "source": [
    "api_results"
   ]
  },
  {
   "cell_type": "code",
   "execution_count": 104,
   "id": "b184ba1a-a516-49b0-88ba-a28f45b3e0c0",
   "metadata": {
    "tags": []
   },
   "outputs": [
    {
     "data": {
      "text/plain": [
       "49"
      ]
     },
     "execution_count": 104,
     "metadata": {},
     "output_type": "execute_result"
    }
   ],
   "source": [
    "# this confirms that out of the 50 missing phone numbers, 49 were found\n",
    "len(api_results)"
   ]
  },
  {
   "cell_type": "markdown",
   "id": "7fe9d0d2-4d6b-4d0f-acf3-f15bf3461fcf",
   "metadata": {},
   "source": [
    "##### Handling Company Data that is NOT Found\n",
    "\n",
    "- One address were not found during the API calls, so they will be left unchanged in the dataset for manual checking and updates later\n"
   ]
  },
  {
   "cell_type": "code",
   "execution_count": null,
   "id": "37d667f6-e0c3-4746-ba9c-b768c3d917b4",
   "metadata": {},
   "outputs": [],
   "source": []
  },
  {
   "cell_type": "markdown",
   "id": "fbc0d696-b09d-401a-b0e5-55e4716640f3",
   "metadata": {},
   "source": [
    "#### Updating Dataset with Retrieved Phone Numbers\n",
    "\n",
    "- The final step is to update the database with the business phone numbers retrieved by the APIs\n",
    "- I did not have any missing addresses in my dataset as most of the missing data was deleted as it did not have a business name, city or postcode. \n",
    "- Only the phone numbers will be updated\n",
    "\n"
   ]
  },
  {
   "cell_type": "code",
   "execution_count": null,
   "id": "12eff704-20d9-40e3-8103-be41eed2be76",
   "metadata": {},
   "outputs": [],
   "source": []
  },
  {
   "cell_type": "code",
   "execution_count": 111,
   "id": "2121e72d-b5e0-4fbe-b3e1-a1b55afdb502",
   "metadata": {
    "tags": []
   },
   "outputs": [],
   "source": [
    "# Loop through the api_results list and update only the missing phone numbers in the 'local_number' column\n",
    "for result in api_results:\n",
    "    # Find row where the company name matches\n",
    "    mask = (merged_dataset['firma'] == result['company_name'])\n",
    "    \n",
    "    # Update 'local_number' only if missing\n",
    "    merged_dataset.loc[mask & merged_dataset['local_number'].isnull(), 'local_number'] = result['phone_number']\n"
   ]
  },
  {
   "cell_type": "code",
   "execution_count": null,
   "id": "181b8959-a525-4baa-8f62-e822fbfb44af",
   "metadata": {},
   "outputs": [],
   "source": []
  },
  {
   "cell_type": "markdown",
   "id": "34bf0440-44a9-4704-bf9a-d1748ab66849",
   "metadata": {},
   "source": [
    "#### Verify the Changes by Filtering for Updated Phone Numbers"
   ]
  },
  {
   "cell_type": "code",
   "execution_count": null,
   "id": "e0d2e271-275f-4a50-839b-185a24798aa1",
   "metadata": {},
   "outputs": [],
   "source": []
  },
  {
   "cell_type": "code",
   "execution_count": null,
   "id": "fe82b3c8-2398-4248-a8b7-2c263d605966",
   "metadata": {},
   "outputs": [],
   "source": []
  },
  {
   "cell_type": "markdown",
   "id": "06ecad2e-14c1-424d-8fb7-eea8b978fabc",
   "metadata": {},
   "source": [
    "#### Save the Updated Dataset"
   ]
  },
  {
   "cell_type": "code",
   "execution_count": 116,
   "id": "7a5cdf8a-1630-48a6-af84-58cd286967b4",
   "metadata": {
    "tags": []
   },
   "outputs": [],
   "source": [
    "# Save the updated dataset to a new file\n",
    "merged_dataset.to_csv('final_lead_dataset_updated.csv', index=False)"
   ]
  },
  {
   "cell_type": "code",
   "execution_count": null,
   "id": "ff4700de-f0a8-4abe-aaa9-d89182ca4df8",
   "metadata": {},
   "outputs": [],
   "source": []
  }
 ],
 "metadata": {
  "kernelspec": {
   "display_name": "Python 3 (ipykernel)",
   "language": "python",
   "name": "python3"
  },
  "language_info": {
   "codemirror_mode": {
    "name": "ipython",
    "version": 3
   },
   "file_extension": ".py",
   "mimetype": "text/x-python",
   "name": "python",
   "nbconvert_exporter": "python",
   "pygments_lexer": "ipython3",
   "version": "3.11.8"
  }
 },
 "nbformat": 4,
 "nbformat_minor": 5
}
